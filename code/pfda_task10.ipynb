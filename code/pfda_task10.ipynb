{
 "cells": [
  {
   "cell_type": "markdown",
   "metadata": {},
   "source": [
    "# CDNow消费行为数据分析-task10"
   ]
  },
  {
   "cell_type": "markdown",
   "metadata": {},
   "source": [
    "首先看下这个数据集，4个特征：ID，购买日期，订单数，订单金额"
   ]
  },
  {
   "cell_type": "markdown",
   "metadata": {},
   "source": [
    "首先导入基本的库"
   ]
  },
  {
   "cell_type": "code",
   "execution_count": null,
   "metadata": {
    "collapsed": true
   },
   "outputs": [],
   "source": [
    "import numpy as np"
   ]
  },
  {
   "cell_type": "code",
   "execution_count": null,
   "metadata": {
    "collapsed": true
   },
   "outputs": [],
   "source": [
    "import pandas as pd"
   ]
  },
  {
   "cell_type": "code",
   "execution_count": null,
   "metadata": {
    "collapsed": true
   },
   "outputs": [],
   "source": [
    "from datetime import datetime"
   ]
  },
  {
   "cell_type": "markdown",
   "metadata": {},
   "source": [
    "这四个字段处理啊上有个好处，都是数字，没有字符，感觉分析上可能也方便些"
   ]
  },
  {
   "cell_type": "markdown",
   "metadata": {},
   "source": [
    "特征head定义：ID，Date，Count，Price"
   ]
  },
  {
   "cell_type": "code",
   "execution_count": null,
   "metadata": {
    "collapsed": true
   },
   "outputs": [],
   "source": [
    "df = pd.read_table('CDNOW.txt',names = ['ID','Date','Count','Price'],sep = '\\s+')"
   ]
  },
  {
   "cell_type": "code",
   "execution_count": null,
   "metadata": {},
   "outputs": [],
   "source": [
    "df.head()"
   ]
  },
  {
   "cell_type": "code",
   "execution_count": null,
   "metadata": {},
   "outputs": [],
   "source": [
    "df.describe()"
   ]
  },
  {
   "cell_type": "markdown",
   "metadata": {},
   "source": [
    "通过对数据基本的分析，可以看出OrderPirce的最大值是1286.01，最小值是0，平均值是36，可以有个基本认识，价格高的商品不是很多，因为平均价格时36左右，那是不是要考虑下1286.01的商品价格有没有可能数据有问题"
   ]
  },
  {
   "cell_type": "code",
   "execution_count": null,
   "metadata": {},
   "outputs": [],
   "source": [
    "df.info()"
   ]
  },
  {
   "cell_type": "code",
   "execution_count": null,
   "metadata": {},
   "outputs": [],
   "source": [
    "df.dtypes"
   ]
  },
  {
   "cell_type": "code",
   "execution_count": null,
   "metadata": {
    "collapsed": true
   },
   "outputs": [],
   "source": [
    "df['Date'] = pd.to_datetime(df.Date, format='%Y%m%d')"
   ]
  },
  {
   "cell_type": "code",
   "execution_count": null,
   "metadata": {
    "collapsed": true
   },
   "outputs": [],
   "source": [
    "df['Month'] = df.Date.values.astype('datetime64[M]')"
   ]
  },
  {
   "cell_type": "code",
   "execution_count": null,
   "metadata": {},
   "outputs": [],
   "source": [
    "df.head()"
   ]
  },
  {
   "cell_type": "code",
   "execution_count": null,
   "metadata": {},
   "outputs": [],
   "source": [
    "df.describe()"
   ]
  },
  {
   "cell_type": "code",
   "execution_count": null,
   "metadata": {},
   "outputs": [],
   "source": [
    "df.head()"
   ]
  },
  {
   "cell_type": "code",
   "execution_count": null,
   "metadata": {},
   "outputs": [],
   "source": [
    "df.info()"
   ]
  },
  {
   "cell_type": "markdown",
   "metadata": {},
   "source": [
    "依然没空值，好开心"
   ]
  },
  {
   "cell_type": "code",
   "execution_count": null,
   "metadata": {
    "collapsed": true
   },
   "outputs": [],
   "source": [
    "import matplotlib.pyplot as plt\n",
    "%matplotlib inline"
   ]
  },
  {
   "cell_type": "code",
   "execution_count": null,
   "metadata": {
    "collapsed": true
   },
   "outputs": [],
   "source": [
    "plt.rcParams['font.sans-serif'] = ['SimHei']"
   ]
  },
  {
   "cell_type": "code",
   "execution_count": null,
   "metadata": {
    "collapsed": true
   },
   "outputs": [],
   "source": [
    "plt.rcParams['axes.unicode_minus'] = False"
   ]
  },
  {
   "cell_type": "code",
   "execution_count": null,
   "metadata": {},
   "outputs": [],
   "source": [
    "plt.figure(figsize=(20,15))"
   ]
  },
  {
   "cell_type": "code",
   "execution_count": null,
   "metadata": {},
   "outputs": [],
   "source": [
    "plt.subplot(221)\n",
    "df.groupby('Month')['Price'].sum().plot(fontsize=24) \n",
    "plt.title('TotalPrice',fontsize=24) "
   ]
  },
  {
   "cell_type": "code",
   "execution_count": null,
   "metadata": {},
   "outputs": [],
   "source": [
    "plt.subplot(222)\n",
    "df.groupby('Month')['Date'].count().plot(fontsize=24)\n",
    "plt.title('PayNum',fontsize=24) "
   ]
  },
  {
   "cell_type": "code",
   "execution_count": null,
   "metadata": {},
   "outputs": [],
   "source": [
    "plt.subplot(223)\n",
    "df.groupby('Month')['Count'].sum().plot(fontsize=24)\n",
    "plt.title('TotalPrice',fontsize=24)"
   ]
  },
  {
   "cell_type": "code",
   "execution_count": null,
   "metadata": {},
   "outputs": [],
   "source": [
    "plt.subplot(224)\n",
    "df.groupby('Month')['ID'].apply(lambda x:len(x.unique())).plot(fontsize=24)\n",
    "plt.title('PersonNum',fontsize=24)\n",
    "plt.tight_layout()\n",
    "plt.show()"
   ]
  },
  {
   "cell_type": "code",
   "execution_count": null,
   "metadata": {
    "collapsed": true
   },
   "outputs": [],
   "source": [
    "person = df.groupby('ID').sum()"
   ]
  },
  {
   "cell_type": "code",
   "execution_count": null,
   "metadata": {},
   "outputs": [],
   "source": [
    "person.describe()"
   ]
  },
  {
   "cell_type": "code",
   "execution_count": null,
   "metadata": {},
   "outputs": [],
   "source": [
    "person.query('Price < 500').plot.scatter(x='Price',y='Count')"
   ]
  },
  {
   "cell_type": "code",
   "execution_count": null,
   "metadata": {},
   "outputs": [],
   "source": [
    "person.Price.plot.hist(20)"
   ]
  },
  {
   "cell_type": "code",
   "execution_count": null,
   "metadata": {},
   "outputs": [],
   "source": [
    "person.query(\"Price< 800\")['Price'].plot.hist(bins=20)"
   ]
  },
  {
   "cell_type": "code",
   "execution_count": null,
   "metadata": {},
   "outputs": [],
   "source": [
    "person.query('Count < 100').Count.hist(bins = 40)"
   ]
  },
  {
   "cell_type": "code",
   "execution_count": null,
   "metadata": {
    "collapsed": true
   },
   "outputs": [],
   "source": [
    "order_diff = df.groupby('ID').apply(lambda x:x['Date'] - x['Date'].shift())\n"
   ]
  },
  {
   "cell_type": "code",
   "execution_count": null,
   "metadata": {},
   "outputs": [],
   "source": [
    "order_diff.head(10)"
   ]
  },
  {
   "cell_type": "code",
   "execution_count": null,
   "metadata": {},
   "outputs": [],
   "source": [
    "order_diff.describe()"
   ]
  },
  {
   "cell_type": "code",
   "execution_count": null,
   "metadata": {},
   "outputs": [],
   "source": [
    "plt.figure(figsize=(15,5))\n",
    "plt.hist((order_diff / np.timedelta64(1, 'D')).dropna(), bins = 50)\n",
    "plt.xlabel('消费周期',fontsize=24)\n",
    "plt.ylabel('频数',fontsize=24)\n",
    "plt.title('用户消费周期分布图',fontsize=24);"
   ]
  },
  {
   "cell_type": "code",
   "execution_count": null,
   "metadata": {},
   "outputs": [],
   "source": [
    "orderdt_min=df.groupby('ID').Date.min()\n",
    "orderdt_max=df.groupby('ID').Date.max()\n",
    "(orderdt_max-orderdt_min).head()"
   ]
  },
  {
   "cell_type": "code",
   "execution_count": null,
   "metadata": {},
   "outputs": [],
   "source": [
    "(orderdt_max-orderdt_min).mean()"
   ]
  },
  {
   "cell_type": "code",
   "execution_count": null,
   "metadata": {},
   "outputs": [],
   "source": [
    "((orderdt_max-orderdt_min)/np.timedelta64(1,'D')).hist(bins=15)"
   ]
  },
  {
   "cell_type": "code",
   "execution_count": null,
   "metadata": {
    "collapsed": true
   },
   "outputs": [],
   "source": [
    "life_time = (orderdt_max - orderdt_min).reset_index()"
   ]
  },
  {
   "cell_type": "code",
   "execution_count": null,
   "metadata": {},
   "outputs": [],
   "source": [
    "life_time.head()"
   ]
  },
  {
   "cell_type": "code",
   "execution_count": null,
   "metadata": {},
   "outputs": [],
   "source": [
    "plt.figure(figsize=(10,5))\n",
    "life_time['life_time'] = life_time.Date / np.timedelta64(1,'D')\n",
    "life_time[life_time.life_time > 0].life_time.hist(bins = 100, figsize = (12,6))"
   ]
  },
  {
   "cell_type": "code",
   "execution_count": null,
   "metadata": {},
   "outputs": [],
   "source": [
    "life_time[life_time.life_time>0].Date.mean()"
   ]
  },
  {
   "cell_type": "code",
   "execution_count": null,
   "metadata": {},
   "outputs": [],
   "source": [
    "rfm = df.pivot_table(index='ID',values=['Price','Date','Count'],aggfunc={'Price':'sum','Date':max,'Count':'sum'})"
   ]
  },
  {
   "cell_type": "code",
   "execution_count": null,
   "metadata": {},
   "outputs": [],
   "source": [
    "rfm.head()"
   ]
  },
  {
   "cell_type": "code",
   "execution_count": null,
   "metadata": {
    "collapsed": true
   },
   "outputs": [],
   "source": [
    "rfm['R'] = (rfm['Date'].max() - rfm['Date']) / np.timedelta64(1,'D')"
   ]
  },
  {
   "cell_type": "code",
   "execution_count": null,
   "metadata": {},
   "outputs": [],
   "source": [
    "rfm.rename(columns={'Price':'M','Count':'F'},inplace=True)"
   ]
  },
  {
   "cell_type": "code",
   "execution_count": null,
   "metadata": {},
   "outputs": [],
   "source": [
    "def get_rfm(x):\n",
    "    level = x.apply(lambda x:'1' if x >=0 else '0')\n",
    "    label = level['R'] + level['F'] + level['M']\n",
    "    d = {'111':'价值客户','011':'保持客户','101':'挽留客户','001':'发展客户','110':'一般价值客户','010':'一般保持客户','100':'一般挽留客户','000':'一般发展客户'}\n",
    "    result = d[label]\n",
    "    return result"
   ]
  },
  {
   "cell_type": "code",
   "execution_count": null,
   "metadata": {},
   "outputs": [],
   "source": [
    "\n",
    "rfm['label'] = rfm[['R','F','M']].apply(lambda x:(x-x.mean()) / x.std()).apply(get_rfm,axis=1)"
   ]
  },
  {
   "cell_type": "code",
   "execution_count": null,
   "metadata": {
    "scrolled": true
   },
   "outputs": [],
   "source": [
    "rfm.head()"
   ]
  },
  {
   "cell_type": "code",
   "execution_count": null,
   "metadata": {},
   "outputs": [],
   "source": [
    "rfm.groupby('label').sum()"
   ]
  },
  {
   "cell_type": "code",
   "execution_count": null,
   "metadata": {},
   "outputs": [],
   "source": [
    "rfm.groupby('label').size()"
   ]
  },
  {
   "cell_type": "code",
   "execution_count": null,
   "metadata": {},
   "outputs": [],
   "source": [
    "df1 = df.pivot_table(index = \"ID\",\n",
    "                     columns = \"Month\",\n",
    "                     values = 'Date',\n",
    "                     aggfunc = 'count').fillna(0)\n",
    "df1.head() "
   ]
  },
  {
   "cell_type": "code",
   "execution_count": null,
   "metadata": {
    "collapsed": true
   },
   "outputs": [],
   "source": [
    "df2 = df1.applymap(lambda x:1 if x>0 else 0)"
   ]
  },
  {
   "cell_type": "code",
   "execution_count": null,
   "metadata": {},
   "outputs": [],
   "source": [
    "df2.tail()"
   ]
  },
  {
   "cell_type": "code",
   "execution_count": null,
   "metadata": {
    "collapsed": true
   },
   "outputs": [],
   "source": [
    "def active_status(data):\n",
    "    status=[]\n",
    "    for i in range(18): #共18个月\n",
    "        \n",
    "        #若本月没有消费\n",
    "        if data[i]==0:\n",
    "            if len(status)>0:#前面某月消费过，是老客\n",
    "                if status[i-1]=='unreg':#前一个月不是首次消费，不是新客\n",
    "                    status.append('unreg')#则本月也不是新客\n",
    "                else:\n",
    "                    status.append('unactive')#前一个月是首次消费，属于新客，则本月为不活跃用户\n",
    "            else:\n",
    "                status.append('unreg')#前面某月没有消费过，则本月也不是新客\n",
    "         #若本月消费\n",
    "        else:\n",
    "            if len(status)==0:#前面没有消费过\n",
    "                status.append('new')#则为新客\n",
    "            else:#前面消费过\n",
    "                if status[i-1] =='unactive':#前一个月没有消费，是不活跃用户\n",
    "                    status.append('return')#本月为回流用户\n",
    "                elif status[i-1]=='unreg':#前一个月没有消费，不是新客\n",
    "                    status.append('new')\n",
    "                else:#前一个月是首次消费\n",
    "                    status.append('active')#本月为活跃用户\n",
    "                    \n",
    "    return status"
   ]
  },
  {
   "cell_type": "code",
   "execution_count": null,
   "metadata": {},
   "outputs": [],
   "source": [
    "indexs=df['Month'].sort_values().astype('str').unique()\n",
    "df3=df2.apply(lambda x:pd.Series(active_status(x),index=indexs),axis=1)\n",
    "df3.head()"
   ]
  },
  {
   "cell_type": "code",
   "execution_count": null,
   "metadata": {},
   "outputs": [],
   "source": [
    "df4=df3.replace('unreg',np.NaN).apply(lambda x:pd.value_counts(x)).fillna(0).T\n",
    "df4"
   ]
  },
  {
   "cell_type": "code",
   "execution_count": null,
   "metadata": {},
   "outputs": [],
   "source": [
    "u =df4.reset_index()\n",
    "labels = u[['active','new','return','unactive']].columns\n",
    "plt.figure(figsize=(15,5))\n",
    "plt.stackplot(u['index'].astype(str).apply(lambda x:x[:-3]), u['active'],u['new'],u['return'],u['unactive'], labels=labels)\n",
    "plt.xlabel('月份')\n",
    "plt.ylabel('消费人数')\n",
    "plt.title('每月的消费人数')\n",
    "plt.legend(loc = 'upper left');"
   ]
  },
  {
   "cell_type": "code",
   "execution_count": null,
   "metadata": {},
   "outputs": [],
   "source": [
    "df5=df4.apply(lambda x:x/x.sum(),axis=1)#每一层用户占总用户的比例\n",
    "df5"
   ]
  },
  {
   "cell_type": "code",
   "execution_count": null,
   "metadata": {},
   "outputs": [],
   "source": [
    "a = df.groupby('ID')['Date'].agg(['min','max']).reset_index()\n",
    "new_old = (a['min'] == a['max']).value_counts().values\n",
    "\n",
    "plt.pie(x = new_old,\n",
    "       autopct = '%.1f%%',\n",
    "       shadow = True,\n",
    "       explode = [0.08,0],\n",
    "       textprops = {'fontsize' : 11})\n",
    "plt.axis('equal') \n",
    "plt.legend(['仅消费一次','多次消费'])"
   ]
  },
  {
   "cell_type": "code",
   "execution_count": null,
   "metadata": {},
   "outputs": [],
   "source": [
    "pivoted_df=df.pivot_table(index='ID',columns='Month',values='Date',\n",
    "                       aggfunc='count').fillna(0)\n",
    "pivoted_df.head()\n",
    "pivoted_df_transf=pivoted_df.applymap(lambda x: 1 if x>1 else np.nan if x==0 else 0)\n",
    "pivoted_df_transf.head()"
   ]
  },
  {
   "cell_type": "code",
   "execution_count": null,
   "metadata": {},
   "outputs": [],
   "source": [
    "df_duplicate =pd.DataFrame(pivoted_df_transf.sum()/pivoted_df_transf.count()).reset_index()\n",
    "df_duplicate.columns = ['Date', 'DuplicatedRate']\n",
    "df_duplicate['Date'] = df_duplicate.Date.astype(str).apply(lambda x:x[:-3])\n",
    "\n",
    "plt.figure(figsize = (15,6))\n",
    "plt.plot(df_duplicate.Date, df_duplicate.DuplicatedRate)\n",
    "plt.xlabel('time', fontsize=24)\n",
    "plt.ylabel('rebuy',fontsize=24)\n",
    "# plt.ylim(0,1)\n",
    "plt.title('change',fontsize=24)"
   ]
  },
  {
   "cell_type": "code",
   "execution_count": null,
   "metadata": {},
   "outputs": [],
   "source": [
    "\n",
    "df_purchase = pivoted_df.applymap(lambda x:1 if x>1 else np.nan if x==0 else 0)"
   ]
  },
  {
   "cell_type": "code",
   "execution_count": null,
   "metadata": {},
   "outputs": [],
   "source": [
    "df_purchase.apply(lambda x:x.sum()/x.count()).plot.bar()"
   ]
  },
  {
   "cell_type": "code",
   "execution_count": null,
   "metadata": {},
   "outputs": [],
   "source": [
    "df_purchase_back = df_purchase.applymap(lambda x:1 if x>0 else np.nan)\n",
    "df_purchase_back.head()"
   ]
  },
  {
   "cell_type": "code",
   "execution_count": null,
   "metadata": {
    "collapsed": true
   },
   "outputs": [],
   "source": [
    "def purchase_back(data):\n",
    "    lenth = len(data)\n",
    "    state = []\n",
    "    for i in range(0,lenth-1):\n",
    "        if data[i] == 1:\n",
    "            if data[i+1]==1:\n",
    "                state.append(1) #若本月已消费，下个月也消费置1\n",
    "            else:\n",
    "                state.append(0) #本月已消费，下月未消费置0\n",
    "        else:\n",
    "            state.append(np.nan) #本月未消费置np.nan\n",
    "    state.append(np.nan)\n",
    "    return state"
   ]
  },
  {
   "cell_type": "code",
   "execution_count": null,
   "metadata": {},
   "outputs": [],
   "source": [
    "df_purchase_b = df_purchase_back.apply(purchase_back,axis=1)\n",
    "df_purchase_b.apply(lambda x:x.sum()/x.count()).plot.bar()"
   ]
  }
 ],
 "metadata": {
  "kernelspec": {
   "display_name": "Python 3",
   "language": "python",
   "name": "python3"
  },
  "language_info": {
   "codemirror_mode": {
    "name": "ipython",
    "version": 3
   },
   "file_extension": ".py",
   "mimetype": "text/x-python",
   "name": "python",
   "nbconvert_exporter": "python",
   "pygments_lexer": "ipython3",
   "version": "3.6.2"
  }
 },
 "nbformat": 4,
 "nbformat_minor": 2
}
