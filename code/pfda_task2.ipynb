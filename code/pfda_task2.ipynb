{
 "cells": [
  {
   "cell_type": "code",
   "execution_count": 1,
   "metadata": {},
   "outputs": [
    {
     "data": {
      "text/plain": [
       "'pandas入门'"
      ]
     },
     "execution_count": 1,
     "metadata": {},
     "output_type": "execute_result"
    }
   ],
   "source": [
    "\"\"\"pandas入门\"\"\""
   ]
  },
  {
   "cell_type": "code",
   "execution_count": 2,
   "metadata": {},
   "outputs": [
    {
     "data": {
      "text/plain": [
       "'pandas是专门处理表格和混杂数据的，这里混杂数据是啥？nosql吗？'"
      ]
     },
     "execution_count": 2,
     "metadata": {},
     "output_type": "execute_result"
    }
   ],
   "source": [
    "\"\"\"pandas是专门处理表格和混杂数据的，这里混杂数据是啥？nosql吗？\"\"\""
   ]
  },
  {
   "cell_type": "code",
   "execution_count": 3,
   "metadata": {
    "collapsed": true
   },
   "outputs": [],
   "source": [
    "import pandas as pd"
   ]
  },
  {
   "cell_type": "code",
   "execution_count": 4,
   "metadata": {
    "collapsed": true
   },
   "outputs": [],
   "source": [
    "from pandas import Series, DataFrame\n"
   ]
  },
  {
   "cell_type": "code",
   "execution_count": 5,
   "metadata": {
    "collapsed": true
   },
   "outputs": [],
   "source": [
    "obj = pd.Series([4,7,-5,3])"
   ]
  },
  {
   "cell_type": "code",
   "execution_count": 6,
   "metadata": {},
   "outputs": [
    {
     "name": "stdout",
     "output_type": "stream",
     "text": [
      "0    4\n",
      "1    7\n",
      "2   -5\n",
      "3    3\n",
      "dtype: int64\n"
     ]
    }
   ],
   "source": [
    "print(obj)"
   ]
  },
  {
   "cell_type": "code",
   "execution_count": 7,
   "metadata": {},
   "outputs": [
    {
     "data": {
      "text/plain": [
       "array([ 4,  7, -5,  3])"
      ]
     },
     "execution_count": 7,
     "metadata": {},
     "output_type": "execute_result"
    }
   ],
   "source": [
    "obj.values"
   ]
  },
  {
   "cell_type": "code",
   "execution_count": 8,
   "metadata": {},
   "outputs": [
    {
     "data": {
      "text/plain": [
       "RangeIndex(start=0, stop=4, step=1)"
      ]
     },
     "execution_count": 8,
     "metadata": {},
     "output_type": "execute_result"
    }
   ],
   "source": [
    "obj.index"
   ]
  },
  {
   "cell_type": "code",
   "execution_count": 9,
   "metadata": {},
   "outputs": [
    {
     "name": "stdout",
     "output_type": "stream",
     "text": [
      "a    1\n",
      "b    2\n",
      "c    3\n",
      "d    4\n",
      "dtype: int64\n"
     ]
    }
   ],
   "source": [
    "\"\"\"这里需要values和index数量必须一致，否则报错\"\"\"\n",
    "obj2 = pd.Series([1,2,3,4], index = ['a','b','c','d'])\n",
    "print(obj2)"
   ]
  },
  {
   "cell_type": "code",
   "execution_count": 10,
   "metadata": {},
   "outputs": [
    {
     "name": "stdout",
     "output_type": "stream",
     "text": [
      "-5\n",
      "4\n"
     ]
    }
   ],
   "source": [
    "print(obj[2])\n",
    "print(obj2['d'])"
   ]
  },
  {
   "cell_type": "code",
   "execution_count": 11,
   "metadata": {},
   "outputs": [
    {
     "name": "stdout",
     "output_type": "stream",
     "text": [
      "c    3\n",
      "d    4\n",
      "dtype: int64\n"
     ]
    }
   ],
   "source": [
    "print(obj2[obj2 > 2])"
   ]
  },
  {
   "cell_type": "code",
   "execution_count": 12,
   "metadata": {},
   "outputs": [
    {
     "data": {
      "text/plain": [
       "a    2\n",
       "b    4\n",
       "c    6\n",
       "d    8\n",
       "dtype: int64"
      ]
     },
     "execution_count": 12,
     "metadata": {},
     "output_type": "execute_result"
    }
   ],
   "source": [
    "obj2 * 2"
   ]
  },
  {
   "cell_type": "code",
   "execution_count": 13,
   "metadata": {},
   "outputs": [
    {
     "data": {
      "text/plain": [
       "a     2.718282\n",
       "b     7.389056\n",
       "c    20.085537\n",
       "d    54.598150\n",
       "dtype: float64"
      ]
     },
     "execution_count": 13,
     "metadata": {},
     "output_type": "execute_result"
    }
   ],
   "source": [
    "import numpy as np\n",
    "np.exp(obj2)"
   ]
  },
  {
   "cell_type": "code",
   "execution_count": 14,
   "metadata": {},
   "outputs": [
    {
     "data": {
      "text/plain": [
       "True"
      ]
     },
     "execution_count": 14,
     "metadata": {},
     "output_type": "execute_result"
    }
   ],
   "source": [
    "\"\"\"这里比较的是index\"\"\"\n",
    "'a' in obj2"
   ]
  },
  {
   "cell_type": "code",
   "execution_count": 15,
   "metadata": {},
   "outputs": [
    {
     "data": {
      "text/plain": [
       "False"
      ]
     },
     "execution_count": 15,
     "metadata": {},
     "output_type": "execute_result"
    }
   ],
   "source": [
    "2 in obj2"
   ]
  },
  {
   "cell_type": "code",
   "execution_count": 16,
   "metadata": {},
   "outputs": [
    {
     "name": "stdout",
     "output_type": "stream",
     "text": [
      "Ohio      35000\n",
      "Oregon    16000\n",
      "Texas     71000\n",
      "Utah       5000\n",
      "dtype: int64\n"
     ]
    }
   ],
   "source": [
    "sdata = {'Ohio':35000, 'Texas':71000, 'Oregon':16000,'Utah':5000}\n",
    "obj3 = pd.Series(sdata)\n",
    "print(obj3)"
   ]
  },
  {
   "cell_type": "code",
   "execution_count": 17,
   "metadata": {},
   "outputs": [
    {
     "data": {
      "text/plain": [
       "Ohio      False\n",
       "Oregon    False\n",
       "Texas     False\n",
       "Utah      False\n",
       "dtype: bool"
      ]
     },
     "execution_count": 17,
     "metadata": {},
     "output_type": "execute_result"
    }
   ],
   "source": [
    "\"\"\"判断每个value的缺失值\"\"\"\n",
    "pd.isnull(obj3)"
   ]
  },
  {
   "cell_type": "code",
   "execution_count": 18,
   "metadata": {},
   "outputs": [
    {
     "data": {
      "text/plain": [
       "Ohio      True\n",
       "Oregon    True\n",
       "Texas     True\n",
       "Utah      True\n",
       "dtype: bool"
      ]
     },
     "execution_count": 18,
     "metadata": {},
     "output_type": "execute_result"
    }
   ],
   "source": [
    "pd.notnull(obj3)"
   ]
  },
  {
   "cell_type": "code",
   "execution_count": 19,
   "metadata": {},
   "outputs": [
    {
     "data": {
      "text/plain": [
       "Ohio     NaN\n",
       "Oregon   NaN\n",
       "Texas    NaN\n",
       "Utah     NaN\n",
       "a        NaN\n",
       "b        NaN\n",
       "c        NaN\n",
       "d        NaN\n",
       "dtype: float64"
      ]
     },
     "execution_count": 19,
     "metadata": {},
     "output_type": "execute_result"
    }
   ],
   "source": [
    "obj2 + obj3"
   ]
  },
  {
   "cell_type": "code",
   "execution_count": 20,
   "metadata": {},
   "outputs": [
    {
     "name": "stdout",
     "output_type": "stream",
     "text": [
      "California        NaN\n",
      "Ohio          35000.0\n",
      "dtype: float64\n"
     ]
    }
   ],
   "source": [
    "stats = ['California', 'Ohio']\n",
    "obj4 = pd.Series(sdata, index=stats)\n",
    "print(obj4)"
   ]
  },
  {
   "cell_type": "code",
   "execution_count": 21,
   "metadata": {},
   "outputs": [
    {
     "data": {
      "text/plain": [
       "California        NaN\n",
       "Ohio          70000.0\n",
       "Oregon            NaN\n",
       "Texas             NaN\n",
       "Utah              NaN\n",
       "dtype: float64"
      ]
     },
     "execution_count": 21,
     "metadata": {},
     "output_type": "execute_result"
    }
   ],
   "source": [
    "obj3 + obj4"
   ]
  },
  {
   "cell_type": "code",
   "execution_count": 22,
   "metadata": {},
   "outputs": [
    {
     "data": {
      "text/plain": [
       "California     True\n",
       "Ohio          False\n",
       "Oregon         True\n",
       "Texas          True\n",
       "Utah           True\n",
       "dtype: bool"
      ]
     },
     "execution_count": 22,
     "metadata": {},
     "output_type": "execute_result"
    }
   ],
   "source": [
    "pd.isnull(obj3 + obj4)"
   ]
  },
  {
   "cell_type": "code",
   "execution_count": 23,
   "metadata": {
    "collapsed": true
   },
   "outputs": [],
   "source": [
    "obj4.name = 'population'"
   ]
  },
  {
   "cell_type": "code",
   "execution_count": 24,
   "metadata": {
    "collapsed": true
   },
   "outputs": [],
   "source": [
    "obj4.index.name = 'stats'"
   ]
  },
  {
   "cell_type": "code",
   "execution_count": 25,
   "metadata": {},
   "outputs": [
    {
     "data": {
      "text/plain": [
       "stats\n",
       "California        NaN\n",
       "Ohio          35000.0\n",
       "Name: population, dtype: float64"
      ]
     },
     "execution_count": 25,
     "metadata": {},
     "output_type": "execute_result"
    }
   ],
   "source": [
    "obj4"
   ]
  },
  {
   "cell_type": "code",
   "execution_count": 26,
   "metadata": {},
   "outputs": [
    {
     "data": {
      "text/plain": [
       "0    4\n",
       "1    7\n",
       "2   -5\n",
       "3    3\n",
       "dtype: int64"
      ]
     },
     "execution_count": 26,
     "metadata": {},
     "output_type": "execute_result"
    }
   ],
   "source": [
    "obj"
   ]
  },
  {
   "cell_type": "code",
   "execution_count": 27,
   "metadata": {
    "collapsed": true
   },
   "outputs": [],
   "source": [
    "obj.index = ['Bob', 'Steve', 'Jeff', 'Ryan']"
   ]
  },
  {
   "cell_type": "code",
   "execution_count": 28,
   "metadata": {},
   "outputs": [
    {
     "data": {
      "text/plain": [
       "Bob      4\n",
       "Steve    7\n",
       "Jeff    -5\n",
       "Ryan     3\n",
       "dtype: int64"
      ]
     },
     "execution_count": 28,
     "metadata": {},
     "output_type": "execute_result"
    }
   ],
   "source": [
    "\"\"\"改变了index\"\"\"\n",
    "obj"
   ]
  },
  {
   "cell_type": "code",
   "execution_count": 29,
   "metadata": {},
   "outputs": [
    {
     "data": {
      "text/plain": [
       "'接下来是dataFrame'"
      ]
     },
     "execution_count": 29,
     "metadata": {},
     "output_type": "execute_result"
    }
   ],
   "source": [
    "\"\"\"接下来是dataFrame\"\"\""
   ]
  },
  {
   "cell_type": "code",
   "execution_count": 30,
   "metadata": {},
   "outputs": [
    {
     "name": "stdout",
     "output_type": "stream",
     "text": [
      "{'stat': ['Ohio', 'Ohio', 'Nevada', 'Nevada'], 'year': [2000, 2001, 2002, 2003], 'pop': [1.5, 1.7, 3.6, 2.9]}\n",
      "   pop    stat  year\n",
      "0  1.5    Ohio  2000\n",
      "1  1.7    Ohio  2001\n",
      "2  3.6  Nevada  2002\n",
      "3  2.9  Nevada  2003\n"
     ]
    }
   ],
   "source": [
    "\"\"\"每个map的数组数量必须一致\"\"\"\n",
    "data = {'stat':['Ohio','Ohio','Nevada','Nevada'],'year':[2000,2001,2002,2003],'pop':[1.5, 1.7, 3.6, 2.9]}\n",
    "print(data)\n",
    "frame = pd.DataFrame(data)\n",
    "print(frame)"
   ]
  },
  {
   "cell_type": "code",
   "execution_count": 31,
   "metadata": {},
   "outputs": [
    {
     "data": {
      "text/plain": [
       "<bound method NDFrame.head of    pop    stat  year\n",
       "0  1.5    Ohio  2000\n",
       "1  1.7    Ohio  2001\n",
       "2  3.6  Nevada  2002\n",
       "3  2.9  Nevada  2003>"
      ]
     },
     "execution_count": 31,
     "metadata": {},
     "output_type": "execute_result"
    }
   ],
   "source": [
    "frame.head"
   ]
  },
  {
   "cell_type": "code",
   "execution_count": 32,
   "metadata": {},
   "outputs": [
    {
     "data": {
      "text/plain": [
       "<bound method hist_frame of    pop    stat  year\n",
       "0  1.5    Ohio  2000\n",
       "1  1.7    Ohio  2001\n",
       "2  3.6  Nevada  2002\n",
       "3  2.9  Nevada  2003>"
      ]
     },
     "execution_count": 32,
     "metadata": {},
     "output_type": "execute_result"
    }
   ],
   "source": [
    "frame.hist"
   ]
  },
  {
   "cell_type": "code",
   "execution_count": 33,
   "metadata": {
    "collapsed": true
   },
   "outputs": [],
   "source": [
    "frame2 = pd.DataFrame(data ,columns=['year','month'])"
   ]
  },
  {
   "cell_type": "code",
   "execution_count": 34,
   "metadata": {},
   "outputs": [
    {
     "data": {
      "text/html": [
       "<div>\n",
       "<style>\n",
       "    .dataframe thead tr:only-child th {\n",
       "        text-align: right;\n",
       "    }\n",
       "\n",
       "    .dataframe thead th {\n",
       "        text-align: left;\n",
       "    }\n",
       "\n",
       "    .dataframe tbody tr th {\n",
       "        vertical-align: top;\n",
       "    }\n",
       "</style>\n",
       "<table border=\"1\" class=\"dataframe\">\n",
       "  <thead>\n",
       "    <tr style=\"text-align: right;\">\n",
       "      <th></th>\n",
       "      <th>year</th>\n",
       "      <th>month</th>\n",
       "    </tr>\n",
       "  </thead>\n",
       "  <tbody>\n",
       "    <tr>\n",
       "      <th>0</th>\n",
       "      <td>2000</td>\n",
       "      <td>NaN</td>\n",
       "    </tr>\n",
       "    <tr>\n",
       "      <th>1</th>\n",
       "      <td>2001</td>\n",
       "      <td>NaN</td>\n",
       "    </tr>\n",
       "    <tr>\n",
       "      <th>2</th>\n",
       "      <td>2002</td>\n",
       "      <td>NaN</td>\n",
       "    </tr>\n",
       "    <tr>\n",
       "      <th>3</th>\n",
       "      <td>2003</td>\n",
       "      <td>NaN</td>\n",
       "    </tr>\n",
       "  </tbody>\n",
       "</table>\n",
       "</div>"
      ],
      "text/plain": [
       "   year month\n",
       "0  2000   NaN\n",
       "1  2001   NaN\n",
       "2  2002   NaN\n",
       "3  2003   NaN"
      ]
     },
     "execution_count": 34,
     "metadata": {},
     "output_type": "execute_result"
    }
   ],
   "source": [
    "frame2"
   ]
  },
  {
   "cell_type": "code",
   "execution_count": 35,
   "metadata": {},
   "outputs": [
    {
     "data": {
      "text/plain": [
       "Index(['year', 'month'], dtype='object')"
      ]
     },
     "execution_count": 35,
     "metadata": {},
     "output_type": "execute_result"
    }
   ],
   "source": [
    "frame2.columns\n"
   ]
  },
  {
   "cell_type": "code",
   "execution_count": 36,
   "metadata": {},
   "outputs": [
    {
     "data": {
      "text/plain": [
       "0    2000\n",
       "1    2001\n",
       "2    2002\n",
       "3    2003\n",
       "Name: year, dtype: int64"
      ]
     },
     "execution_count": 36,
     "metadata": {},
     "output_type": "execute_result"
    }
   ],
   "source": [
    "frame2.year"
   ]
  },
  {
   "cell_type": "code",
   "execution_count": 37,
   "metadata": {},
   "outputs": [
    {
     "ename": "AttributeError",
     "evalue": "'DataFrame' object has no attribute 'day'",
     "output_type": "error",
     "traceback": [
      "\u001b[0;31m---------------------------------------------------------------------------\u001b[0m",
      "\u001b[0;31mAttributeError\u001b[0m                            Traceback (most recent call last)",
      "\u001b[0;32m<ipython-input-37-95c92f9eefcb>\u001b[0m in \u001b[0;36m<module>\u001b[0;34m()\u001b[0m\n\u001b[0;32m----> 1\u001b[0;31m \u001b[0mframe2\u001b[0m\u001b[0;34m.\u001b[0m\u001b[0mday\u001b[0m\u001b[0;34m\u001b[0m\u001b[0m\n\u001b[0m",
      "\u001b[0;32m~/dev/Anaconda3/anaconda3/envs/pyCharm/lib/python3.6/site-packages/pandas/core/generic.py\u001b[0m in \u001b[0;36m__getattr__\u001b[0;34m(self, name)\u001b[0m\n\u001b[1;32m   3079\u001b[0m             \u001b[0;32mif\u001b[0m \u001b[0mname\u001b[0m \u001b[0;32min\u001b[0m \u001b[0mself\u001b[0m\u001b[0;34m.\u001b[0m\u001b[0m_info_axis\u001b[0m\u001b[0;34m:\u001b[0m\u001b[0;34m\u001b[0m\u001b[0m\n\u001b[1;32m   3080\u001b[0m                 \u001b[0;32mreturn\u001b[0m \u001b[0mself\u001b[0m\u001b[0;34m[\u001b[0m\u001b[0mname\u001b[0m\u001b[0;34m]\u001b[0m\u001b[0;34m\u001b[0m\u001b[0m\n\u001b[0;32m-> 3081\u001b[0;31m             \u001b[0;32mreturn\u001b[0m \u001b[0mobject\u001b[0m\u001b[0;34m.\u001b[0m\u001b[0m__getattribute__\u001b[0m\u001b[0;34m(\u001b[0m\u001b[0mself\u001b[0m\u001b[0;34m,\u001b[0m \u001b[0mname\u001b[0m\u001b[0;34m)\u001b[0m\u001b[0;34m\u001b[0m\u001b[0m\n\u001b[0m\u001b[1;32m   3082\u001b[0m \u001b[0;34m\u001b[0m\u001b[0m\n\u001b[1;32m   3083\u001b[0m     \u001b[0;32mdef\u001b[0m \u001b[0m__setattr__\u001b[0m\u001b[0;34m(\u001b[0m\u001b[0mself\u001b[0m\u001b[0;34m,\u001b[0m \u001b[0mname\u001b[0m\u001b[0;34m,\u001b[0m \u001b[0mvalue\u001b[0m\u001b[0;34m)\u001b[0m\u001b[0;34m:\u001b[0m\u001b[0;34m\u001b[0m\u001b[0m\n",
      "\u001b[0;31mAttributeError\u001b[0m: 'DataFrame' object has no attribute 'day'"
     ]
    }
   ],
   "source": [
    "frame2.day"
   ]
  },
  {
   "cell_type": "code",
   "execution_count": null,
   "metadata": {},
   "outputs": [],
   "source": [
    "frame.month"
   ]
  },
  {
   "cell_type": "code",
   "execution_count": null,
   "metadata": {},
   "outputs": [],
   "source": [
    "frame2.month"
   ]
  },
  {
   "cell_type": "code",
   "execution_count": null,
   "metadata": {
    "collapsed": true
   },
   "outputs": [],
   "source": [
    "frame2['day'] = 3"
   ]
  },
  {
   "cell_type": "code",
   "execution_count": null,
   "metadata": {},
   "outputs": [],
   "source": [
    "frame2"
   ]
  },
  {
   "cell_type": "code",
   "execution_count": null,
   "metadata": {
    "collapsed": true
   },
   "outputs": [],
   "source": [
    "frame2['day'] = np.arange(4.)"
   ]
  },
  {
   "cell_type": "code",
   "execution_count": null,
   "metadata": {},
   "outputs": [],
   "source": [
    "frame2"
   ]
  },
  {
   "cell_type": "code",
   "execution_count": null,
   "metadata": {
    "collapsed": true
   },
   "outputs": [],
   "source": [
    "val = pd.Series([-1.2, -1.5, -1.7], index = ['1', '2','3'])"
   ]
  },
  {
   "cell_type": "code",
   "execution_count": null,
   "metadata": {},
   "outputs": [],
   "source": [
    "val"
   ]
  },
  {
   "cell_type": "code",
   "execution_count": null,
   "metadata": {
    "collapsed": true
   },
   "outputs": [],
   "source": [
    "frame2['day'] = val"
   ]
  },
  {
   "cell_type": "code",
   "execution_count": null,
   "metadata": {},
   "outputs": [],
   "source": [
    "frame2"
   ]
  },
  {
   "cell_type": "code",
   "execution_count": null,
   "metadata": {
    "collapsed": true
   },
   "outputs": [],
   "source": [
    "del frame2['day']"
   ]
  },
  {
   "cell_type": "code",
   "execution_count": null,
   "metadata": {},
   "outputs": [],
   "source": [
    "frame2"
   ]
  },
  {
   "cell_type": "code",
   "execution_count": null,
   "metadata": {
    "collapsed": true
   },
   "outputs": [],
   "source": [
    "pop = {'Nevada':{2001:2.4,2002:2.9},'Ohio':{2000:1.5,2001:1.7}}"
   ]
  },
  {
   "cell_type": "code",
   "execution_count": null,
   "metadata": {},
   "outputs": [],
   "source": [
    "pop"
   ]
  },
  {
   "cell_type": "code",
   "execution_count": null,
   "metadata": {
    "collapsed": true
   },
   "outputs": [],
   "source": [
    "frame3 = pd.DataFrame(pop)"
   ]
  },
  {
   "cell_type": "code",
   "execution_count": null,
   "metadata": {},
   "outputs": [],
   "source": [
    "frame3"
   ]
  },
  {
   "cell_type": "code",
   "execution_count": null,
   "metadata": {},
   "outputs": [],
   "source": [
    "frame3.T"
   ]
  },
  {
   "cell_type": "code",
   "execution_count": null,
   "metadata": {},
   "outputs": [],
   "source": [
    "frame3.index.name = 'year'\n",
    "frame3.columns.name = 'state'\n",
    "frame3"
   ]
  },
  {
   "cell_type": "code",
   "execution_count": null,
   "metadata": {
    "collapsed": true
   },
   "outputs": [],
   "source": [
    "obj = pd.Series(range(3), index =['a',  'b', 'c'])"
   ]
  },
  {
   "cell_type": "code",
   "execution_count": null,
   "metadata": {},
   "outputs": [],
   "source": [
    "obj"
   ]
  },
  {
   "cell_type": "code",
   "execution_count": null,
   "metadata": {},
   "outputs": [],
   "source": [
    "index = obj.index\n",
    "index"
   ]
  },
  {
   "cell_type": "code",
   "execution_count": null,
   "metadata": {},
   "outputs": [],
   "source": [
    "index[1:]"
   ]
  },
  {
   "cell_type": "code",
   "execution_count": null,
   "metadata": {},
   "outputs": [],
   "source": [
    "index[1] = 'f'"
   ]
  },
  {
   "cell_type": "code",
   "execution_count": null,
   "metadata": {
    "collapsed": true
   },
   "outputs": [],
   "source": [
    "labels = pd.Index(np.arange(3))"
   ]
  },
  {
   "cell_type": "code",
   "execution_count": null,
   "metadata": {},
   "outputs": [],
   "source": [
    "labels"
   ]
  },
  {
   "cell_type": "code",
   "execution_count": null,
   "metadata": {
    "collapsed": true
   },
   "outputs": [],
   "source": [
    "obj2 = pd.Series([1.5,-2.5,0],index = labels)"
   ]
  },
  {
   "cell_type": "code",
   "execution_count": null,
   "metadata": {},
   "outputs": [],
   "source": [
    "obj3"
   ]
  },
  {
   "cell_type": "code",
   "execution_count": null,
   "metadata": {},
   "outputs": [],
   "source": [
    "obj2"
   ]
  },
  {
   "cell_type": "code",
   "execution_count": null,
   "metadata": {},
   "outputs": [],
   "source": [
    "obj2.index is labels"
   ]
  },
  {
   "cell_type": "code",
   "execution_count": null,
   "metadata": {},
   "outputs": [],
   "source": [
    "obj3.index is labels"
   ]
  },
  {
   "cell_type": "code",
   "execution_count": null,
   "metadata": {},
   "outputs": [],
   "source": [
    "frame2"
   ]
  },
  {
   "cell_type": "code",
   "execution_count": null,
   "metadata": {},
   "outputs": [],
   "source": [
    "frame3"
   ]
  },
  {
   "cell_type": "code",
   "execution_count": null,
   "metadata": {},
   "outputs": [],
   "source": [
    "frame3.columns"
   ]
  },
  {
   "cell_type": "code",
   "execution_count": null,
   "metadata": {},
   "outputs": [],
   "source": [
    "'Ohio' in frame3.columns"
   ]
  },
  {
   "cell_type": "code",
   "execution_count": 38,
   "metadata": {
    "collapsed": true
   },
   "outputs": [],
   "source": [
    "obj = pd.Series([4.5,7.2,5.3,3.6], index=['d','b','a','c'])\n"
   ]
  },
  {
   "cell_type": "code",
   "execution_count": 39,
   "metadata": {},
   "outputs": [
    {
     "data": {
      "text/plain": [
       "d    4.5\n",
       "b    7.2\n",
       "a    5.3\n",
       "c    3.6\n",
       "dtype: float64"
      ]
     },
     "execution_count": 39,
     "metadata": {},
     "output_type": "execute_result"
    }
   ],
   "source": [
    "obj"
   ]
  },
  {
   "cell_type": "code",
   "execution_count": 41,
   "metadata": {},
   "outputs": [],
   "source": [
    "obj2 = obj.reindex(['a','b','c','d','e'])"
   ]
  },
  {
   "cell_type": "code",
   "execution_count": 42,
   "metadata": {},
   "outputs": [
    {
     "data": {
      "text/plain": [
       "a    5.3\n",
       "b    7.2\n",
       "c    3.6\n",
       "d    4.5\n",
       "e    NaN\n",
       "dtype: float64"
      ]
     },
     "execution_count": 42,
     "metadata": {},
     "output_type": "execute_result"
    }
   ],
   "source": [
    "obj2"
   ]
  },
  {
   "cell_type": "code",
   "execution_count": 44,
   "metadata": {},
   "outputs": [],
   "source": [
    "frame = pd.DataFrame(np.arange(9).reshape((3,3)), index = ['a','b','c'],columns=['Ohio','Texas','Calif'])"
   ]
  },
  {
   "cell_type": "code",
   "execution_count": 45,
   "metadata": {},
   "outputs": [
    {
     "data": {
      "text/html": [
       "<div>\n",
       "<style>\n",
       "    .dataframe thead tr:only-child th {\n",
       "        text-align: right;\n",
       "    }\n",
       "\n",
       "    .dataframe thead th {\n",
       "        text-align: left;\n",
       "    }\n",
       "\n",
       "    .dataframe tbody tr th {\n",
       "        vertical-align: top;\n",
       "    }\n",
       "</style>\n",
       "<table border=\"1\" class=\"dataframe\">\n",
       "  <thead>\n",
       "    <tr style=\"text-align: right;\">\n",
       "      <th></th>\n",
       "      <th>Ohio</th>\n",
       "      <th>Texas</th>\n",
       "      <th>Calif</th>\n",
       "    </tr>\n",
       "  </thead>\n",
       "  <tbody>\n",
       "    <tr>\n",
       "      <th>a</th>\n",
       "      <td>0</td>\n",
       "      <td>1</td>\n",
       "      <td>2</td>\n",
       "    </tr>\n",
       "    <tr>\n",
       "      <th>b</th>\n",
       "      <td>3</td>\n",
       "      <td>4</td>\n",
       "      <td>5</td>\n",
       "    </tr>\n",
       "    <tr>\n",
       "      <th>c</th>\n",
       "      <td>6</td>\n",
       "      <td>7</td>\n",
       "      <td>8</td>\n",
       "    </tr>\n",
       "  </tbody>\n",
       "</table>\n",
       "</div>"
      ],
      "text/plain": [
       "   Ohio  Texas  Calif\n",
       "a     0      1      2\n",
       "b     3      4      5\n",
       "c     6      7      8"
      ]
     },
     "execution_count": 45,
     "metadata": {},
     "output_type": "execute_result"
    }
   ],
   "source": [
    "frame"
   ]
  },
  {
   "cell_type": "code",
   "execution_count": 46,
   "metadata": {
    "collapsed": true
   },
   "outputs": [],
   "source": [
    "frame = frame.reindex(['a','b','f'])"
   ]
  },
  {
   "cell_type": "code",
   "execution_count": 47,
   "metadata": {},
   "outputs": [
    {
     "data": {
      "text/html": [
       "<div>\n",
       "<style>\n",
       "    .dataframe thead tr:only-child th {\n",
       "        text-align: right;\n",
       "    }\n",
       "\n",
       "    .dataframe thead th {\n",
       "        text-align: left;\n",
       "    }\n",
       "\n",
       "    .dataframe tbody tr th {\n",
       "        vertical-align: top;\n",
       "    }\n",
       "</style>\n",
       "<table border=\"1\" class=\"dataframe\">\n",
       "  <thead>\n",
       "    <tr style=\"text-align: right;\">\n",
       "      <th></th>\n",
       "      <th>Ohio</th>\n",
       "      <th>Texas</th>\n",
       "      <th>Calif</th>\n",
       "    </tr>\n",
       "  </thead>\n",
       "  <tbody>\n",
       "    <tr>\n",
       "      <th>a</th>\n",
       "      <td>0.0</td>\n",
       "      <td>1.0</td>\n",
       "      <td>2.0</td>\n",
       "    </tr>\n",
       "    <tr>\n",
       "      <th>b</th>\n",
       "      <td>3.0</td>\n",
       "      <td>4.0</td>\n",
       "      <td>5.0</td>\n",
       "    </tr>\n",
       "    <tr>\n",
       "      <th>f</th>\n",
       "      <td>NaN</td>\n",
       "      <td>NaN</td>\n",
       "      <td>NaN</td>\n",
       "    </tr>\n",
       "  </tbody>\n",
       "</table>\n",
       "</div>"
      ],
      "text/plain": [
       "   Ohio  Texas  Calif\n",
       "a   0.0    1.0    2.0\n",
       "b   3.0    4.0    5.0\n",
       "f   NaN    NaN    NaN"
      ]
     },
     "execution_count": 47,
     "metadata": {},
     "output_type": "execute_result"
    }
   ],
   "source": [
    "frame\n"
   ]
  },
  {
   "cell_type": "code",
   "execution_count": 48,
   "metadata": {
    "collapsed": true
   },
   "outputs": [],
   "source": [
    "states = ['Ohio','Utah','Calif']"
   ]
  },
  {
   "cell_type": "code",
   "execution_count": 49,
   "metadata": {},
   "outputs": [
    {
     "data": {
      "text/html": [
       "<div>\n",
       "<style>\n",
       "    .dataframe thead tr:only-child th {\n",
       "        text-align: right;\n",
       "    }\n",
       "\n",
       "    .dataframe thead th {\n",
       "        text-align: left;\n",
       "    }\n",
       "\n",
       "    .dataframe tbody tr th {\n",
       "        vertical-align: top;\n",
       "    }\n",
       "</style>\n",
       "<table border=\"1\" class=\"dataframe\">\n",
       "  <thead>\n",
       "    <tr style=\"text-align: right;\">\n",
       "      <th></th>\n",
       "      <th>Ohio</th>\n",
       "      <th>Utah</th>\n",
       "      <th>Calif</th>\n",
       "    </tr>\n",
       "  </thead>\n",
       "  <tbody>\n",
       "    <tr>\n",
       "      <th>a</th>\n",
       "      <td>0.0</td>\n",
       "      <td>NaN</td>\n",
       "      <td>2.0</td>\n",
       "    </tr>\n",
       "    <tr>\n",
       "      <th>b</th>\n",
       "      <td>3.0</td>\n",
       "      <td>NaN</td>\n",
       "      <td>5.0</td>\n",
       "    </tr>\n",
       "    <tr>\n",
       "      <th>f</th>\n",
       "      <td>NaN</td>\n",
       "      <td>NaN</td>\n",
       "      <td>NaN</td>\n",
       "    </tr>\n",
       "  </tbody>\n",
       "</table>\n",
       "</div>"
      ],
      "text/plain": [
       "   Ohio  Utah  Calif\n",
       "a   0.0   NaN    2.0\n",
       "b   3.0   NaN    5.0\n",
       "f   NaN   NaN    NaN"
      ]
     },
     "execution_count": 49,
     "metadata": {},
     "output_type": "execute_result"
    }
   ],
   "source": [
    "frame.reindex(columns=states)"
   ]
  },
  {
   "cell_type": "code",
   "execution_count": 50,
   "metadata": {
    "collapsed": true
   },
   "outputs": [],
   "source": [
    "obj = pd.Series(np.arange(5.),index = ['a','b','c','d','e'])"
   ]
  },
  {
   "cell_type": "code",
   "execution_count": 51,
   "metadata": {},
   "outputs": [
    {
     "data": {
      "text/plain": [
       "a    0.0\n",
       "b    1.0\n",
       "c    2.0\n",
       "d    3.0\n",
       "e    4.0\n",
       "dtype: float64"
      ]
     },
     "execution_count": 51,
     "metadata": {},
     "output_type": "execute_result"
    }
   ],
   "source": [
    "obj"
   ]
  },
  {
   "cell_type": "code",
   "execution_count": 52,
   "metadata": {
    "collapsed": true
   },
   "outputs": [],
   "source": [
    "new_obj =obj.drop('c')"
   ]
  },
  {
   "cell_type": "code",
   "execution_count": 53,
   "metadata": {},
   "outputs": [
    {
     "data": {
      "text/plain": [
       "a    0.0\n",
       "b    1.0\n",
       "d    3.0\n",
       "e    4.0\n",
       "dtype: float64"
      ]
     },
     "execution_count": 53,
     "metadata": {},
     "output_type": "execute_result"
    }
   ],
   "source": [
    "new_obj"
   ]
  },
  {
   "cell_type": "code",
   "execution_count": 54,
   "metadata": {},
   "outputs": [
    {
     "ename": "ValueError",
     "evalue": "labels ['Z'] not contained in axis",
     "output_type": "error",
     "traceback": [
      "\u001b[0;31m---------------------------------------------------------------------------\u001b[0m",
      "\u001b[0;31mValueError\u001b[0m                                Traceback (most recent call last)",
      "\u001b[0;32m<ipython-input-54-f2f804c32807>\u001b[0m in \u001b[0;36m<module>\u001b[0;34m()\u001b[0m\n\u001b[0;32m----> 1\u001b[0;31m \u001b[0mnew_obj\u001b[0m \u001b[0;34m=\u001b[0m \u001b[0mobj\u001b[0m\u001b[0;34m.\u001b[0m\u001b[0mdrop\u001b[0m\u001b[0;34m(\u001b[0m\u001b[0;34m'Z'\u001b[0m\u001b[0;34m)\u001b[0m\u001b[0;34m\u001b[0m\u001b[0m\n\u001b[0m",
      "\u001b[0;32m~/dev/Anaconda3/anaconda3/envs/pyCharm/lib/python3.6/site-packages/pandas/core/generic.py\u001b[0m in \u001b[0;36mdrop\u001b[0;34m(self, labels, axis, level, inplace, errors)\u001b[0m\n\u001b[1;32m   2159\u001b[0m                 \u001b[0mnew_axis\u001b[0m \u001b[0;34m=\u001b[0m \u001b[0maxis\u001b[0m\u001b[0;34m.\u001b[0m\u001b[0mdrop\u001b[0m\u001b[0;34m(\u001b[0m\u001b[0mlabels\u001b[0m\u001b[0;34m,\u001b[0m \u001b[0mlevel\u001b[0m\u001b[0;34m=\u001b[0m\u001b[0mlevel\u001b[0m\u001b[0;34m,\u001b[0m \u001b[0merrors\u001b[0m\u001b[0;34m=\u001b[0m\u001b[0merrors\u001b[0m\u001b[0;34m)\u001b[0m\u001b[0;34m\u001b[0m\u001b[0m\n\u001b[1;32m   2160\u001b[0m             \u001b[0;32melse\u001b[0m\u001b[0;34m:\u001b[0m\u001b[0;34m\u001b[0m\u001b[0m\n\u001b[0;32m-> 2161\u001b[0;31m                 \u001b[0mnew_axis\u001b[0m \u001b[0;34m=\u001b[0m \u001b[0maxis\u001b[0m\u001b[0;34m.\u001b[0m\u001b[0mdrop\u001b[0m\u001b[0;34m(\u001b[0m\u001b[0mlabels\u001b[0m\u001b[0;34m,\u001b[0m \u001b[0merrors\u001b[0m\u001b[0;34m=\u001b[0m\u001b[0merrors\u001b[0m\u001b[0;34m)\u001b[0m\u001b[0;34m\u001b[0m\u001b[0m\n\u001b[0m\u001b[1;32m   2162\u001b[0m             \u001b[0mdropped\u001b[0m \u001b[0;34m=\u001b[0m \u001b[0mself\u001b[0m\u001b[0;34m.\u001b[0m\u001b[0mreindex\u001b[0m\u001b[0;34m(\u001b[0m\u001b[0;34m**\u001b[0m\u001b[0;34m{\u001b[0m\u001b[0maxis_name\u001b[0m\u001b[0;34m:\u001b[0m \u001b[0mnew_axis\u001b[0m\u001b[0;34m}\u001b[0m\u001b[0;34m)\u001b[0m\u001b[0;34m\u001b[0m\u001b[0m\n\u001b[1;32m   2163\u001b[0m             \u001b[0;32mtry\u001b[0m\u001b[0;34m:\u001b[0m\u001b[0;34m\u001b[0m\u001b[0m\n",
      "\u001b[0;32m~/dev/Anaconda3/anaconda3/envs/pyCharm/lib/python3.6/site-packages/pandas/core/indexes/base.py\u001b[0m in \u001b[0;36mdrop\u001b[0;34m(self, labels, errors)\u001b[0m\n\u001b[1;32m   3622\u001b[0m             \u001b[0;32mif\u001b[0m \u001b[0merrors\u001b[0m \u001b[0;34m!=\u001b[0m \u001b[0;34m'ignore'\u001b[0m\u001b[0;34m:\u001b[0m\u001b[0;34m\u001b[0m\u001b[0m\n\u001b[1;32m   3623\u001b[0m                 raise ValueError('labels %s not contained in axis' %\n\u001b[0;32m-> 3624\u001b[0;31m                                  labels[mask])\n\u001b[0m\u001b[1;32m   3625\u001b[0m             \u001b[0mindexer\u001b[0m \u001b[0;34m=\u001b[0m \u001b[0mindexer\u001b[0m\u001b[0;34m[\u001b[0m\u001b[0;34m~\u001b[0m\u001b[0mmask\u001b[0m\u001b[0;34m]\u001b[0m\u001b[0;34m\u001b[0m\u001b[0m\n\u001b[1;32m   3626\u001b[0m         \u001b[0;32mreturn\u001b[0m \u001b[0mself\u001b[0m\u001b[0;34m.\u001b[0m\u001b[0mdelete\u001b[0m\u001b[0;34m(\u001b[0m\u001b[0mindexer\u001b[0m\u001b[0;34m)\u001b[0m\u001b[0;34m\u001b[0m\u001b[0m\n",
      "\u001b[0;31mValueError\u001b[0m: labels ['Z'] not contained in axis"
     ]
    }
   ],
   "source": [
    "new_obj = obj.drop('Z')"
   ]
  },
  {
   "cell_type": "code",
   "execution_count": 55,
   "metadata": {
    "collapsed": true
   },
   "outputs": [],
   "source": [
    "obj['b','c'] =  5"
   ]
  },
  {
   "cell_type": "code",
   "execution_count": 56,
   "metadata": {},
   "outputs": [
    {
     "data": {
      "text/plain": [
       "a    0.0\n",
       "b    5.0\n",
       "c    5.0\n",
       "d    3.0\n",
       "e    4.0\n",
       "dtype: float64"
      ]
     },
     "execution_count": 56,
     "metadata": {},
     "output_type": "execute_result"
    }
   ],
   "source": [
    "obj"
   ]
  },
  {
   "cell_type": "code",
   "execution_count": 57,
   "metadata": {
    "collapsed": true
   },
   "outputs": [],
   "source": [
    "data = pd.DataFrame(np.arange(16).reshape((4,4)), index = ['Ohio','Co','Utah','new York'],columns=['1','2','3','4'])"
   ]
  },
  {
   "cell_type": "code",
   "execution_count": 58,
   "metadata": {},
   "outputs": [
    {
     "data": {
      "text/html": [
       "<div>\n",
       "<style>\n",
       "    .dataframe thead tr:only-child th {\n",
       "        text-align: right;\n",
       "    }\n",
       "\n",
       "    .dataframe thead th {\n",
       "        text-align: left;\n",
       "    }\n",
       "\n",
       "    .dataframe tbody tr th {\n",
       "        vertical-align: top;\n",
       "    }\n",
       "</style>\n",
       "<table border=\"1\" class=\"dataframe\">\n",
       "  <thead>\n",
       "    <tr style=\"text-align: right;\">\n",
       "      <th></th>\n",
       "      <th>1</th>\n",
       "      <th>2</th>\n",
       "      <th>3</th>\n",
       "      <th>4</th>\n",
       "    </tr>\n",
       "  </thead>\n",
       "  <tbody>\n",
       "    <tr>\n",
       "      <th>Ohio</th>\n",
       "      <td>0</td>\n",
       "      <td>1</td>\n",
       "      <td>2</td>\n",
       "      <td>3</td>\n",
       "    </tr>\n",
       "    <tr>\n",
       "      <th>Co</th>\n",
       "      <td>4</td>\n",
       "      <td>5</td>\n",
       "      <td>6</td>\n",
       "      <td>7</td>\n",
       "    </tr>\n",
       "    <tr>\n",
       "      <th>Utah</th>\n",
       "      <td>8</td>\n",
       "      <td>9</td>\n",
       "      <td>10</td>\n",
       "      <td>11</td>\n",
       "    </tr>\n",
       "    <tr>\n",
       "      <th>new York</th>\n",
       "      <td>12</td>\n",
       "      <td>13</td>\n",
       "      <td>14</td>\n",
       "      <td>15</td>\n",
       "    </tr>\n",
       "  </tbody>\n",
       "</table>\n",
       "</div>"
      ],
      "text/plain": [
       "           1   2   3   4\n",
       "Ohio       0   1   2   3\n",
       "Co         4   5   6   7\n",
       "Utah       8   9  10  11\n",
       "new York  12  13  14  15"
      ]
     },
     "execution_count": 58,
     "metadata": {},
     "output_type": "execute_result"
    }
   ],
   "source": [
    "data"
   ]
  },
  {
   "cell_type": "code",
   "execution_count": 59,
   "metadata": {},
   "outputs": [
    {
     "data": {
      "text/plain": [
       "Ohio         1\n",
       "Co           5\n",
       "Utah         9\n",
       "new York    13\n",
       "Name: 2, dtype: int64"
      ]
     },
     "execution_count": 59,
     "metadata": {},
     "output_type": "execute_result"
    }
   ],
   "source": [
    "data['2']"
   ]
  },
  {
   "cell_type": "code",
   "execution_count": 60,
   "metadata": {},
   "outputs": [
    {
     "data": {
      "text/html": [
       "<div>\n",
       "<style>\n",
       "    .dataframe thead tr:only-child th {\n",
       "        text-align: right;\n",
       "    }\n",
       "\n",
       "    .dataframe thead th {\n",
       "        text-align: left;\n",
       "    }\n",
       "\n",
       "    .dataframe tbody tr th {\n",
       "        vertical-align: top;\n",
       "    }\n",
       "</style>\n",
       "<table border=\"1\" class=\"dataframe\">\n",
       "  <thead>\n",
       "    <tr style=\"text-align: right;\">\n",
       "      <th></th>\n",
       "      <th>1</th>\n",
       "      <th>2</th>\n",
       "      <th>3</th>\n",
       "      <th>4</th>\n",
       "    </tr>\n",
       "  </thead>\n",
       "  <tbody>\n",
       "    <tr>\n",
       "      <th>Ohio</th>\n",
       "      <td>0</td>\n",
       "      <td>1</td>\n",
       "      <td>2</td>\n",
       "      <td>3</td>\n",
       "    </tr>\n",
       "    <tr>\n",
       "      <th>Co</th>\n",
       "      <td>4</td>\n",
       "      <td>5</td>\n",
       "      <td>6</td>\n",
       "      <td>7</td>\n",
       "    </tr>\n",
       "  </tbody>\n",
       "</table>\n",
       "</div>"
      ],
      "text/plain": [
       "      1  2  3  4\n",
       "Ohio  0  1  2  3\n",
       "Co    4  5  6  7"
      ]
     },
     "execution_count": 60,
     "metadata": {},
     "output_type": "execute_result"
    }
   ],
   "source": [
    "data[:2]"
   ]
  },
  {
   "cell_type": "code",
   "execution_count": 61,
   "metadata": {},
   "outputs": [
    {
     "data": {
      "text/html": [
       "<div>\n",
       "<style>\n",
       "    .dataframe thead tr:only-child th {\n",
       "        text-align: right;\n",
       "    }\n",
       "\n",
       "    .dataframe thead th {\n",
       "        text-align: left;\n",
       "    }\n",
       "\n",
       "    .dataframe tbody tr th {\n",
       "        vertical-align: top;\n",
       "    }\n",
       "</style>\n",
       "<table border=\"1\" class=\"dataframe\">\n",
       "  <thead>\n",
       "    <tr style=\"text-align: right;\">\n",
       "      <th></th>\n",
       "      <th>1</th>\n",
       "      <th>2</th>\n",
       "      <th>3</th>\n",
       "      <th>4</th>\n",
       "    </tr>\n",
       "  </thead>\n",
       "  <tbody>\n",
       "    <tr>\n",
       "      <th>Ohio</th>\n",
       "      <td>True</td>\n",
       "      <td>True</td>\n",
       "      <td>True</td>\n",
       "      <td>True</td>\n",
       "    </tr>\n",
       "    <tr>\n",
       "      <th>Co</th>\n",
       "      <td>True</td>\n",
       "      <td>False</td>\n",
       "      <td>False</td>\n",
       "      <td>False</td>\n",
       "    </tr>\n",
       "    <tr>\n",
       "      <th>Utah</th>\n",
       "      <td>False</td>\n",
       "      <td>False</td>\n",
       "      <td>False</td>\n",
       "      <td>False</td>\n",
       "    </tr>\n",
       "    <tr>\n",
       "      <th>new York</th>\n",
       "      <td>False</td>\n",
       "      <td>False</td>\n",
       "      <td>False</td>\n",
       "      <td>False</td>\n",
       "    </tr>\n",
       "  </tbody>\n",
       "</table>\n",
       "</div>"
      ],
      "text/plain": [
       "              1      2      3      4\n",
       "Ohio       True   True   True   True\n",
       "Co         True  False  False  False\n",
       "Utah      False  False  False  False\n",
       "new York  False  False  False  False"
      ]
     },
     "execution_count": 61,
     "metadata": {},
     "output_type": "execute_result"
    }
   ],
   "source": [
    "data < 5"
   ]
  },
  {
   "cell_type": "code",
   "execution_count": 62,
   "metadata": {},
   "outputs": [
    {
     "data": {
      "text/plain": [
       "2    5\n",
       "3    6\n",
       "Name: Co, dtype: int64"
      ]
     },
     "execution_count": 62,
     "metadata": {},
     "output_type": "execute_result"
    }
   ],
   "source": [
    "data.loc['Co',['2','3']]"
   ]
  },
  {
   "cell_type": "code",
   "execution_count": 63,
   "metadata": {},
   "outputs": [
    {
     "data": {
      "text/plain": [
       "4    11\n",
       "1     8\n",
       "2     9\n",
       "Name: Utah, dtype: int64"
      ]
     },
     "execution_count": 63,
     "metadata": {},
     "output_type": "execute_result"
    }
   ],
   "source": [
    "data.iloc[2,[3,0,1]]"
   ]
  },
  {
   "cell_type": "code",
   "execution_count": 64,
   "metadata": {},
   "outputs": [
    {
     "data": {
      "text/plain": [
       "1     8\n",
       "2     9\n",
       "3    10\n",
       "4    11\n",
       "Name: Utah, dtype: int64"
      ]
     },
     "execution_count": 64,
     "metadata": {},
     "output_type": "execute_result"
    }
   ],
   "source": [
    "data.iloc[2]"
   ]
  },
  {
   "cell_type": "code",
   "execution_count": 65,
   "metadata": {},
   "outputs": [
    {
     "data": {
      "text/plain": [
       "Ohio    1\n",
       "Co      5\n",
       "Utah    9\n",
       "Name: 2, dtype: int64"
      ]
     },
     "execution_count": 65,
     "metadata": {},
     "output_type": "execute_result"
    }
   ],
   "source": [
    "data.loc[:'Utah','2']"
   ]
  },
  {
   "cell_type": "code",
   "execution_count": 66,
   "metadata": {
    "collapsed": true
   },
   "outputs": [],
   "source": [
    "ser2 = pd.Series(np.arange(3),index = ['a','b','c'])"
   ]
  },
  {
   "cell_type": "code",
   "execution_count": 67,
   "metadata": {},
   "outputs": [
    {
     "data": {
      "text/plain": [
       "a    0\n",
       "b    1\n",
       "c    2\n",
       "dtype: int64"
      ]
     },
     "execution_count": 67,
     "metadata": {},
     "output_type": "execute_result"
    }
   ],
   "source": [
    "ser2"
   ]
  },
  {
   "cell_type": "code",
   "execution_count": 68,
   "metadata": {},
   "outputs": [
    {
     "data": {
      "text/plain": [
       "2"
      ]
     },
     "execution_count": 68,
     "metadata": {},
     "output_type": "execute_result"
    }
   ],
   "source": [
    "ser2[-1]"
   ]
  },
  {
   "cell_type": "code",
   "execution_count": 72,
   "metadata": {},
   "outputs": [],
   "source": [
    "s1 = pd.Series([7.3,-2.5,3.4,1.5],index=['a',\n",
    "                                        'b',\n",
    "                                        'c','d'])"
   ]
  },
  {
   "cell_type": "code",
   "execution_count": 73,
   "metadata": {
    "collapsed": true
   },
   "outputs": [],
   "source": [
    "s2 = pd.Series([-2.1,3.6,-1.5,4,3.1,],index=['a','b','b','c','e'])"
   ]
  },
  {
   "cell_type": "code",
   "execution_count": 74,
   "metadata": {},
   "outputs": [
    {
     "data": {
      "text/plain": [
       "a    7.3\n",
       "b   -2.5\n",
       "c    3.4\n",
       "d    1.5\n",
       "dtype: float64"
      ]
     },
     "execution_count": 74,
     "metadata": {},
     "output_type": "execute_result"
    }
   ],
   "source": [
    "s1"
   ]
  },
  {
   "cell_type": "code",
   "execution_count": 75,
   "metadata": {},
   "outputs": [
    {
     "data": {
      "text/plain": [
       "a   -2.1\n",
       "b    3.6\n",
       "b   -1.5\n",
       "c    4.0\n",
       "e    3.1\n",
       "dtype: float64"
      ]
     },
     "execution_count": 75,
     "metadata": {},
     "output_type": "execute_result"
    }
   ],
   "source": [
    "s2"
   ]
  },
  {
   "cell_type": "code",
   "execution_count": 76,
   "metadata": {},
   "outputs": [
    {
     "data": {
      "text/plain": [
       "a    5.2\n",
       "b    1.1\n",
       "b   -4.0\n",
       "c    7.4\n",
       "d    NaN\n",
       "e    NaN\n",
       "dtype: float64"
      ]
     },
     "execution_count": 76,
     "metadata": {},
     "output_type": "execute_result"
    }
   ],
   "source": [
    "s1 + s2"
   ]
  },
  {
   "cell_type": "code",
   "execution_count": 77,
   "metadata": {
    "collapsed": true
   },
   "outputs": [],
   "source": [
    "arr = np.arange(12.).reshape((3,4))"
   ]
  },
  {
   "cell_type": "code",
   "execution_count": 78,
   "metadata": {},
   "outputs": [
    {
     "data": {
      "text/plain": [
       "array([[  0.,   1.,   2.,   3.],\n",
       "       [  4.,   5.,   6.,   7.],\n",
       "       [  8.,   9.,  10.,  11.]])"
      ]
     },
     "execution_count": 78,
     "metadata": {},
     "output_type": "execute_result"
    }
   ],
   "source": [
    "arr\n"
   ]
  },
  {
   "cell_type": "code",
   "execution_count": 79,
   "metadata": {},
   "outputs": [
    {
     "data": {
      "text/plain": [
       "array([ 0.,  1.,  2.,  3.])"
      ]
     },
     "execution_count": 79,
     "metadata": {},
     "output_type": "execute_result"
    }
   ],
   "source": [
    "arr[0]"
   ]
  },
  {
   "cell_type": "code",
   "execution_count": 80,
   "metadata": {},
   "outputs": [
    {
     "data": {
      "text/plain": [
       "array([[ 0.,  0.,  0.,  0.],\n",
       "       [ 4.,  4.,  4.,  4.],\n",
       "       [ 8.,  8.,  8.,  8.]])"
      ]
     },
     "execution_count": 80,
     "metadata": {},
     "output_type": "execute_result"
    }
   ],
   "source": [
    "arr -arr[0]"
   ]
  },
  {
   "cell_type": "code",
   "execution_count": 81,
   "metadata": {
    "collapsed": true
   },
   "outputs": [],
   "source": [
    "frame = pd.DataFrame(np.arange(12.).reshape((4,3)),columns=list('bde'),index=['1','2','3','4'])"
   ]
  },
  {
   "cell_type": "code",
   "execution_count": 82,
   "metadata": {},
   "outputs": [
    {
     "data": {
      "text/html": [
       "<div>\n",
       "<style>\n",
       "    .dataframe thead tr:only-child th {\n",
       "        text-align: right;\n",
       "    }\n",
       "\n",
       "    .dataframe thead th {\n",
       "        text-align: left;\n",
       "    }\n",
       "\n",
       "    .dataframe tbody tr th {\n",
       "        vertical-align: top;\n",
       "    }\n",
       "</style>\n",
       "<table border=\"1\" class=\"dataframe\">\n",
       "  <thead>\n",
       "    <tr style=\"text-align: right;\">\n",
       "      <th></th>\n",
       "      <th>b</th>\n",
       "      <th>d</th>\n",
       "      <th>e</th>\n",
       "    </tr>\n",
       "  </thead>\n",
       "  <tbody>\n",
       "    <tr>\n",
       "      <th>1</th>\n",
       "      <td>0.0</td>\n",
       "      <td>1.0</td>\n",
       "      <td>2.0</td>\n",
       "    </tr>\n",
       "    <tr>\n",
       "      <th>2</th>\n",
       "      <td>3.0</td>\n",
       "      <td>4.0</td>\n",
       "      <td>5.0</td>\n",
       "    </tr>\n",
       "    <tr>\n",
       "      <th>3</th>\n",
       "      <td>6.0</td>\n",
       "      <td>7.0</td>\n",
       "      <td>8.0</td>\n",
       "    </tr>\n",
       "    <tr>\n",
       "      <th>4</th>\n",
       "      <td>9.0</td>\n",
       "      <td>10.0</td>\n",
       "      <td>11.0</td>\n",
       "    </tr>\n",
       "  </tbody>\n",
       "</table>\n",
       "</div>"
      ],
      "text/plain": [
       "     b     d     e\n",
       "1  0.0   1.0   2.0\n",
       "2  3.0   4.0   5.0\n",
       "3  6.0   7.0   8.0\n",
       "4  9.0  10.0  11.0"
      ]
     },
     "execution_count": 82,
     "metadata": {},
     "output_type": "execute_result"
    }
   ],
   "source": [
    "frame\n"
   ]
  },
  {
   "cell_type": "code",
   "execution_count": 83,
   "metadata": {
    "collapsed": true
   },
   "outputs": [],
   "source": [
    "series = frame.iloc[0]"
   ]
  },
  {
   "cell_type": "code",
   "execution_count": 84,
   "metadata": {},
   "outputs": [
    {
     "data": {
      "text/plain": [
       "b    0.0\n",
       "d    1.0\n",
       "e    2.0\n",
       "Name: 1, dtype: float64"
      ]
     },
     "execution_count": 84,
     "metadata": {},
     "output_type": "execute_result"
    }
   ],
   "source": [
    "series"
   ]
  },
  {
   "cell_type": "code",
   "execution_count": 85,
   "metadata": {},
   "outputs": [
    {
     "data": {
      "text/html": [
       "<div>\n",
       "<style>\n",
       "    .dataframe thead tr:only-child th {\n",
       "        text-align: right;\n",
       "    }\n",
       "\n",
       "    .dataframe thead th {\n",
       "        text-align: left;\n",
       "    }\n",
       "\n",
       "    .dataframe tbody tr th {\n",
       "        vertical-align: top;\n",
       "    }\n",
       "</style>\n",
       "<table border=\"1\" class=\"dataframe\">\n",
       "  <thead>\n",
       "    <tr style=\"text-align: right;\">\n",
       "      <th></th>\n",
       "      <th>b</th>\n",
       "      <th>d</th>\n",
       "      <th>e</th>\n",
       "    </tr>\n",
       "  </thead>\n",
       "  <tbody>\n",
       "    <tr>\n",
       "      <th>1</th>\n",
       "      <td>0.0</td>\n",
       "      <td>0.0</td>\n",
       "      <td>0.0</td>\n",
       "    </tr>\n",
       "    <tr>\n",
       "      <th>2</th>\n",
       "      <td>3.0</td>\n",
       "      <td>3.0</td>\n",
       "      <td>3.0</td>\n",
       "    </tr>\n",
       "    <tr>\n",
       "      <th>3</th>\n",
       "      <td>6.0</td>\n",
       "      <td>6.0</td>\n",
       "      <td>6.0</td>\n",
       "    </tr>\n",
       "    <tr>\n",
       "      <th>4</th>\n",
       "      <td>9.0</td>\n",
       "      <td>9.0</td>\n",
       "      <td>9.0</td>\n",
       "    </tr>\n",
       "  </tbody>\n",
       "</table>\n",
       "</div>"
      ],
      "text/plain": [
       "     b    d    e\n",
       "1  0.0  0.0  0.0\n",
       "2  3.0  3.0  3.0\n",
       "3  6.0  6.0  6.0\n",
       "4  9.0  9.0  9.0"
      ]
     },
     "execution_count": 85,
     "metadata": {},
     "output_type": "execute_result"
    }
   ],
   "source": [
    "frame - series"
   ]
  },
  {
   "cell_type": "code",
   "execution_count": 86,
   "metadata": {},
   "outputs": [
    {
     "data": {
      "text/html": [
       "<div>\n",
       "<style>\n",
       "    .dataframe thead tr:only-child th {\n",
       "        text-align: right;\n",
       "    }\n",
       "\n",
       "    .dataframe thead th {\n",
       "        text-align: left;\n",
       "    }\n",
       "\n",
       "    .dataframe tbody tr th {\n",
       "        vertical-align: top;\n",
       "    }\n",
       "</style>\n",
       "<table border=\"1\" class=\"dataframe\">\n",
       "  <thead>\n",
       "    <tr style=\"text-align: right;\">\n",
       "      <th></th>\n",
       "      <th>b</th>\n",
       "      <th>d</th>\n",
       "      <th>e</th>\n",
       "    </tr>\n",
       "  </thead>\n",
       "  <tbody>\n",
       "    <tr>\n",
       "      <th>1</th>\n",
       "      <td>0.0</td>\n",
       "      <td>2.0</td>\n",
       "      <td>4.0</td>\n",
       "    </tr>\n",
       "    <tr>\n",
       "      <th>2</th>\n",
       "      <td>3.0</td>\n",
       "      <td>5.0</td>\n",
       "      <td>7.0</td>\n",
       "    </tr>\n",
       "    <tr>\n",
       "      <th>3</th>\n",
       "      <td>6.0</td>\n",
       "      <td>8.0</td>\n",
       "      <td>10.0</td>\n",
       "    </tr>\n",
       "    <tr>\n",
       "      <th>4</th>\n",
       "      <td>9.0</td>\n",
       "      <td>11.0</td>\n",
       "      <td>13.0</td>\n",
       "    </tr>\n",
       "  </tbody>\n",
       "</table>\n",
       "</div>"
      ],
      "text/plain": [
       "     b     d     e\n",
       "1  0.0   2.0   4.0\n",
       "2  3.0   5.0   7.0\n",
       "3  6.0   8.0  10.0\n",
       "4  9.0  11.0  13.0"
      ]
     },
     "execution_count": 86,
     "metadata": {},
     "output_type": "execute_result"
    }
   ],
   "source": [
    "frame + series"
   ]
  },
  {
   "cell_type": "code",
   "execution_count": 87,
   "metadata": {},
   "outputs": [
    {
     "data": {
      "text/html": [
       "<div>\n",
       "<style>\n",
       "    .dataframe thead tr:only-child th {\n",
       "        text-align: right;\n",
       "    }\n",
       "\n",
       "    .dataframe thead th {\n",
       "        text-align: left;\n",
       "    }\n",
       "\n",
       "    .dataframe tbody tr th {\n",
       "        vertical-align: top;\n",
       "    }\n",
       "</style>\n",
       "<table border=\"1\" class=\"dataframe\">\n",
       "  <thead>\n",
       "    <tr style=\"text-align: right;\">\n",
       "      <th></th>\n",
       "      <th>b</th>\n",
       "      <th>d</th>\n",
       "      <th>e</th>\n",
       "    </tr>\n",
       "  </thead>\n",
       "  <tbody>\n",
       "    <tr>\n",
       "      <th>1</th>\n",
       "      <td>0.0</td>\n",
       "      <td>1.0</td>\n",
       "      <td>2.0</td>\n",
       "    </tr>\n",
       "    <tr>\n",
       "      <th>2</th>\n",
       "      <td>3.0</td>\n",
       "      <td>4.0</td>\n",
       "      <td>5.0</td>\n",
       "    </tr>\n",
       "    <tr>\n",
       "      <th>3</th>\n",
       "      <td>6.0</td>\n",
       "      <td>7.0</td>\n",
       "      <td>8.0</td>\n",
       "    </tr>\n",
       "    <tr>\n",
       "      <th>4</th>\n",
       "      <td>9.0</td>\n",
       "      <td>10.0</td>\n",
       "      <td>11.0</td>\n",
       "    </tr>\n",
       "  </tbody>\n",
       "</table>\n",
       "</div>"
      ],
      "text/plain": [
       "     b     d     e\n",
       "1  0.0   1.0   2.0\n",
       "2  3.0   4.0   5.0\n",
       "3  6.0   7.0   8.0\n",
       "4  9.0  10.0  11.0"
      ]
     },
     "execution_count": 87,
     "metadata": {},
     "output_type": "execute_result"
    }
   ],
   "source": [
    "frame"
   ]
  },
  {
   "cell_type": "code",
   "execution_count": 88,
   "metadata": {},
   "outputs": [
    {
     "data": {
      "text/html": [
       "<div>\n",
       "<style>\n",
       "    .dataframe thead tr:only-child th {\n",
       "        text-align: right;\n",
       "    }\n",
       "\n",
       "    .dataframe thead th {\n",
       "        text-align: left;\n",
       "    }\n",
       "\n",
       "    .dataframe tbody tr th {\n",
       "        vertical-align: top;\n",
       "    }\n",
       "</style>\n",
       "<table border=\"1\" class=\"dataframe\">\n",
       "  <thead>\n",
       "    <tr style=\"text-align: right;\">\n",
       "      <th></th>\n",
       "      <th>b</th>\n",
       "      <th>d</th>\n",
       "      <th>e</th>\n",
       "    </tr>\n",
       "  </thead>\n",
       "  <tbody>\n",
       "    <tr>\n",
       "      <th>1</th>\n",
       "      <td>0.0</td>\n",
       "      <td>1.0</td>\n",
       "      <td>2.0</td>\n",
       "    </tr>\n",
       "    <tr>\n",
       "      <th>2</th>\n",
       "      <td>3.0</td>\n",
       "      <td>4.0</td>\n",
       "      <td>5.0</td>\n",
       "    </tr>\n",
       "    <tr>\n",
       "      <th>3</th>\n",
       "      <td>6.0</td>\n",
       "      <td>7.0</td>\n",
       "      <td>8.0</td>\n",
       "    </tr>\n",
       "    <tr>\n",
       "      <th>4</th>\n",
       "      <td>9.0</td>\n",
       "      <td>10.0</td>\n",
       "      <td>11.0</td>\n",
       "    </tr>\n",
       "  </tbody>\n",
       "</table>\n",
       "</div>"
      ],
      "text/plain": [
       "     b     d     e\n",
       "1  0.0   1.0   2.0\n",
       "2  3.0   4.0   5.0\n",
       "3  6.0   7.0   8.0\n",
       "4  9.0  10.0  11.0"
      ]
     },
     "execution_count": 88,
     "metadata": {},
     "output_type": "execute_result"
    }
   ],
   "source": [
    "np.abs(frame)"
   ]
  },
  {
   "cell_type": "code",
   "execution_count": 89,
   "metadata": {
    "collapsed": true
   },
   "outputs": [],
   "source": [
    "f = lambda x:x.max() - x.min()"
   ]
  },
  {
   "cell_type": "code",
   "execution_count": 90,
   "metadata": {},
   "outputs": [
    {
     "data": {
      "text/plain": [
       "<function __main__.<lambda>>"
      ]
     },
     "execution_count": 90,
     "metadata": {},
     "output_type": "execute_result"
    }
   ],
   "source": [
    "f"
   ]
  },
  {
   "cell_type": "code",
   "execution_count": 91,
   "metadata": {},
   "outputs": [
    {
     "data": {
      "text/plain": [
       "b    9.0\n",
       "d    9.0\n",
       "e    9.0\n",
       "dtype: float64"
      ]
     },
     "execution_count": 91,
     "metadata": {},
     "output_type": "execute_result"
    }
   ],
   "source": [
    "frame.apply(f)"
   ]
  },
  {
   "cell_type": "code",
   "execution_count": 92,
   "metadata": {},
   "outputs": [
    {
     "data": {
      "text/plain": [
       "1    2.0\n",
       "2    2.0\n",
       "3    2.0\n",
       "4    2.0\n",
       "dtype: float64"
      ]
     },
     "execution_count": 92,
     "metadata": {},
     "output_type": "execute_result"
    }
   ],
   "source": [
    "frame.apply(f,axis='columns')"
   ]
  },
  {
   "cell_type": "code",
   "execution_count": 93,
   "metadata": {
    "collapsed": true
   },
   "outputs": [],
   "source": [
    "format = lambda x:'%.2f' % x"
   ]
  },
  {
   "cell_type": "code",
   "execution_count": 94,
   "metadata": {},
   "outputs": [
    {
     "data": {
      "text/html": [
       "<div>\n",
       "<style>\n",
       "    .dataframe thead tr:only-child th {\n",
       "        text-align: right;\n",
       "    }\n",
       "\n",
       "    .dataframe thead th {\n",
       "        text-align: left;\n",
       "    }\n",
       "\n",
       "    .dataframe tbody tr th {\n",
       "        vertical-align: top;\n",
       "    }\n",
       "</style>\n",
       "<table border=\"1\" class=\"dataframe\">\n",
       "  <thead>\n",
       "    <tr style=\"text-align: right;\">\n",
       "      <th></th>\n",
       "      <th>b</th>\n",
       "      <th>d</th>\n",
       "      <th>e</th>\n",
       "    </tr>\n",
       "  </thead>\n",
       "  <tbody>\n",
       "    <tr>\n",
       "      <th>1</th>\n",
       "      <td>0.00</td>\n",
       "      <td>1.00</td>\n",
       "      <td>2.00</td>\n",
       "    </tr>\n",
       "    <tr>\n",
       "      <th>2</th>\n",
       "      <td>3.00</td>\n",
       "      <td>4.00</td>\n",
       "      <td>5.00</td>\n",
       "    </tr>\n",
       "    <tr>\n",
       "      <th>3</th>\n",
       "      <td>6.00</td>\n",
       "      <td>7.00</td>\n",
       "      <td>8.00</td>\n",
       "    </tr>\n",
       "    <tr>\n",
       "      <th>4</th>\n",
       "      <td>9.00</td>\n",
       "      <td>10.00</td>\n",
       "      <td>11.00</td>\n",
       "    </tr>\n",
       "  </tbody>\n",
       "</table>\n",
       "</div>"
      ],
      "text/plain": [
       "      b      d      e\n",
       "1  0.00   1.00   2.00\n",
       "2  3.00   4.00   5.00\n",
       "3  6.00   7.00   8.00\n",
       "4  9.00  10.00  11.00"
      ]
     },
     "execution_count": 94,
     "metadata": {},
     "output_type": "execute_result"
    }
   ],
   "source": [
    "frame.applymap(format)"
   ]
  },
  {
   "cell_type": "code",
   "execution_count": 95,
   "metadata": {},
   "outputs": [
    {
     "data": {
      "text/plain": [
       "1     1.00\n",
       "2     4.00\n",
       "3     7.00\n",
       "4    10.00\n",
       "Name: d, dtype: object"
      ]
     },
     "execution_count": 95,
     "metadata": {},
     "output_type": "execute_result"
    }
   ],
   "source": [
    "frame['d'].map(format)"
   ]
  },
  {
   "cell_type": "code",
   "execution_count": 96,
   "metadata": {},
   "outputs": [
    {
     "data": {
      "text/html": [
       "<div>\n",
       "<style>\n",
       "    .dataframe thead tr:only-child th {\n",
       "        text-align: right;\n",
       "    }\n",
       "\n",
       "    .dataframe thead th {\n",
       "        text-align: left;\n",
       "    }\n",
       "\n",
       "    .dataframe tbody tr th {\n",
       "        vertical-align: top;\n",
       "    }\n",
       "</style>\n",
       "<table border=\"1\" class=\"dataframe\">\n",
       "  <thead>\n",
       "    <tr style=\"text-align: right;\">\n",
       "      <th></th>\n",
       "      <th>b</th>\n",
       "      <th>d</th>\n",
       "      <th>e</th>\n",
       "    </tr>\n",
       "  </thead>\n",
       "  <tbody>\n",
       "    <tr>\n",
       "      <th>1</th>\n",
       "      <td>0.0</td>\n",
       "      <td>1.0</td>\n",
       "      <td>2.0</td>\n",
       "    </tr>\n",
       "    <tr>\n",
       "      <th>2</th>\n",
       "      <td>3.0</td>\n",
       "      <td>4.0</td>\n",
       "      <td>5.0</td>\n",
       "    </tr>\n",
       "    <tr>\n",
       "      <th>3</th>\n",
       "      <td>6.0</td>\n",
       "      <td>7.0</td>\n",
       "      <td>8.0</td>\n",
       "    </tr>\n",
       "    <tr>\n",
       "      <th>4</th>\n",
       "      <td>9.0</td>\n",
       "      <td>10.0</td>\n",
       "      <td>11.0</td>\n",
       "    </tr>\n",
       "  </tbody>\n",
       "</table>\n",
       "</div>"
      ],
      "text/plain": [
       "     b     d     e\n",
       "1  0.0   1.0   2.0\n",
       "2  3.0   4.0   5.0\n",
       "3  6.0   7.0   8.0\n",
       "4  9.0  10.0  11.0"
      ]
     },
     "execution_count": 96,
     "metadata": {},
     "output_type": "execute_result"
    }
   ],
   "source": [
    "frame.sort_index()"
   ]
  },
  {
   "cell_type": "code",
   "execution_count": 97,
   "metadata": {},
   "outputs": [
    {
     "data": {
      "text/html": [
       "<div>\n",
       "<style>\n",
       "    .dataframe thead tr:only-child th {\n",
       "        text-align: right;\n",
       "    }\n",
       "\n",
       "    .dataframe thead th {\n",
       "        text-align: left;\n",
       "    }\n",
       "\n",
       "    .dataframe tbody tr th {\n",
       "        vertical-align: top;\n",
       "    }\n",
       "</style>\n",
       "<table border=\"1\" class=\"dataframe\">\n",
       "  <thead>\n",
       "    <tr style=\"text-align: right;\">\n",
       "      <th></th>\n",
       "      <th>b</th>\n",
       "      <th>d</th>\n",
       "      <th>e</th>\n",
       "    </tr>\n",
       "  </thead>\n",
       "  <tbody>\n",
       "    <tr>\n",
       "      <th>1</th>\n",
       "      <td>0.0</td>\n",
       "      <td>1.0</td>\n",
       "      <td>2.0</td>\n",
       "    </tr>\n",
       "    <tr>\n",
       "      <th>2</th>\n",
       "      <td>3.0</td>\n",
       "      <td>4.0</td>\n",
       "      <td>5.0</td>\n",
       "    </tr>\n",
       "    <tr>\n",
       "      <th>3</th>\n",
       "      <td>6.0</td>\n",
       "      <td>7.0</td>\n",
       "      <td>8.0</td>\n",
       "    </tr>\n",
       "    <tr>\n",
       "      <th>4</th>\n",
       "      <td>9.0</td>\n",
       "      <td>10.0</td>\n",
       "      <td>11.0</td>\n",
       "    </tr>\n",
       "  </tbody>\n",
       "</table>\n",
       "</div>"
      ],
      "text/plain": [
       "     b     d     e\n",
       "1  0.0   1.0   2.0\n",
       "2  3.0   4.0   5.0\n",
       "3  6.0   7.0   8.0\n",
       "4  9.0  10.0  11.0"
      ]
     },
     "execution_count": 97,
     "metadata": {},
     "output_type": "execute_result"
    }
   ],
   "source": [
    "frame.sort_index(axis=1)"
   ]
  },
  {
   "cell_type": "code",
   "execution_count": null,
   "metadata": {
    "collapsed": true
   },
   "outputs": [],
   "source": []
  },
  {
   "cell_type": "code",
   "execution_count": 98,
   "metadata": {},
   "outputs": [
    {
     "data": {
      "text/html": [
       "<div>\n",
       "<style>\n",
       "    .dataframe thead tr:only-child th {\n",
       "        text-align: right;\n",
       "    }\n",
       "\n",
       "    .dataframe thead th {\n",
       "        text-align: left;\n",
       "    }\n",
       "\n",
       "    .dataframe tbody tr th {\n",
       "        vertical-align: top;\n",
       "    }\n",
       "</style>\n",
       "<table border=\"1\" class=\"dataframe\">\n",
       "  <thead>\n",
       "    <tr style=\"text-align: right;\">\n",
       "      <th></th>\n",
       "      <th>e</th>\n",
       "      <th>d</th>\n",
       "      <th>b</th>\n",
       "    </tr>\n",
       "  </thead>\n",
       "  <tbody>\n",
       "    <tr>\n",
       "      <th>1</th>\n",
       "      <td>2.0</td>\n",
       "      <td>1.0</td>\n",
       "      <td>0.0</td>\n",
       "    </tr>\n",
       "    <tr>\n",
       "      <th>2</th>\n",
       "      <td>5.0</td>\n",
       "      <td>4.0</td>\n",
       "      <td>3.0</td>\n",
       "    </tr>\n",
       "    <tr>\n",
       "      <th>3</th>\n",
       "      <td>8.0</td>\n",
       "      <td>7.0</td>\n",
       "      <td>6.0</td>\n",
       "    </tr>\n",
       "    <tr>\n",
       "      <th>4</th>\n",
       "      <td>11.0</td>\n",
       "      <td>10.0</td>\n",
       "      <td>9.0</td>\n",
       "    </tr>\n",
       "  </tbody>\n",
       "</table>\n",
       "</div>"
      ],
      "text/plain": [
       "      e     d    b\n",
       "1   2.0   1.0  0.0\n",
       "2   5.0   4.0  3.0\n",
       "3   8.0   7.0  6.0\n",
       "4  11.0  10.0  9.0"
      ]
     },
     "execution_count": 98,
     "metadata": {},
     "output_type": "execute_result"
    }
   ],
   "source": [
    "frame.sort_index(axis=1,ascending=False)"
   ]
  },
  {
   "cell_type": "code",
   "execution_count": 100,
   "metadata": {},
   "outputs": [],
   "source": [
    "obj = pd.Series([4,7,-3,2])"
   ]
  },
  {
   "cell_type": "code",
   "execution_count": 101,
   "metadata": {},
   "outputs": [
    {
     "data": {
      "text/plain": [
       "0    4\n",
       "1    7\n",
       "2   -3\n",
       "3    2\n",
       "dtype: int64"
      ]
     },
     "execution_count": 101,
     "metadata": {},
     "output_type": "execute_result"
    }
   ],
   "source": [
    "obj"
   ]
  },
  {
   "cell_type": "code",
   "execution_count": 102,
   "metadata": {},
   "outputs": [
    {
     "data": {
      "text/plain": [
       "2   -3\n",
       "3    2\n",
       "0    4\n",
       "1    7\n",
       "dtype: int64"
      ]
     },
     "execution_count": 102,
     "metadata": {},
     "output_type": "execute_result"
    }
   ],
   "source": [
    "obj.sort_values()"
   ]
  },
  {
   "cell_type": "code",
   "execution_count": 103,
   "metadata": {},
   "outputs": [
    {
     "data": {
      "text/html": [
       "<div>\n",
       "<style>\n",
       "    .dataframe thead tr:only-child th {\n",
       "        text-align: right;\n",
       "    }\n",
       "\n",
       "    .dataframe thead th {\n",
       "        text-align: left;\n",
       "    }\n",
       "\n",
       "    .dataframe tbody tr th {\n",
       "        vertical-align: top;\n",
       "    }\n",
       "</style>\n",
       "<table border=\"1\" class=\"dataframe\">\n",
       "  <thead>\n",
       "    <tr style=\"text-align: right;\">\n",
       "      <th></th>\n",
       "      <th>b</th>\n",
       "      <th>d</th>\n",
       "      <th>e</th>\n",
       "    </tr>\n",
       "  </thead>\n",
       "  <tbody>\n",
       "    <tr>\n",
       "      <th>1</th>\n",
       "      <td>0.0</td>\n",
       "      <td>1.0</td>\n",
       "      <td>2.0</td>\n",
       "    </tr>\n",
       "    <tr>\n",
       "      <th>2</th>\n",
       "      <td>3.0</td>\n",
       "      <td>4.0</td>\n",
       "      <td>5.0</td>\n",
       "    </tr>\n",
       "    <tr>\n",
       "      <th>3</th>\n",
       "      <td>6.0</td>\n",
       "      <td>7.0</td>\n",
       "      <td>8.0</td>\n",
       "    </tr>\n",
       "    <tr>\n",
       "      <th>4</th>\n",
       "      <td>9.0</td>\n",
       "      <td>10.0</td>\n",
       "      <td>11.0</td>\n",
       "    </tr>\n",
       "  </tbody>\n",
       "</table>\n",
       "</div>"
      ],
      "text/plain": [
       "     b     d     e\n",
       "1  0.0   1.0   2.0\n",
       "2  3.0   4.0   5.0\n",
       "3  6.0   7.0   8.0\n",
       "4  9.0  10.0  11.0"
      ]
     },
     "execution_count": 103,
     "metadata": {},
     "output_type": "execute_result"
    }
   ],
   "source": [
    "frame.sort_values(by='b')"
   ]
  },
  {
   "cell_type": "code",
   "execution_count": 104,
   "metadata": {},
   "outputs": [
    {
     "data": {
      "text/plain": [
       "0    3.0\n",
       "1    4.0\n",
       "2    1.0\n",
       "3    2.0\n",
       "dtype: float64"
      ]
     },
     "execution_count": 104,
     "metadata": {},
     "output_type": "execute_result"
    }
   ],
   "source": [
    "obj.rank()"
   ]
  },
  {
   "cell_type": "code",
   "execution_count": 106,
   "metadata": {},
   "outputs": [
    {
     "data": {
      "text/plain": [
       "0    3.0\n",
       "1    4.0\n",
       "2    1.0\n",
       "3    2.0\n",
       "dtype: float64"
      ]
     },
     "execution_count": 106,
     "metadata": {},
     "output_type": "execute_result"
    }
   ],
   "source": [
    "obj.rank(method='first')"
   ]
  },
  {
   "cell_type": "code",
   "execution_count": 107,
   "metadata": {
    "collapsed": true
   },
   "outputs": [],
   "source": [
    "obj = pd.Series(['a','a','b','b','e'])"
   ]
  },
  {
   "cell_type": "code",
   "execution_count": 108,
   "metadata": {},
   "outputs": [
    {
     "data": {
      "text/plain": [
       "0    a\n",
       "1    a\n",
       "2    b\n",
       "3    b\n",
       "4    e\n",
       "dtype: object"
      ]
     },
     "execution_count": 108,
     "metadata": {},
     "output_type": "execute_result"
    }
   ],
   "source": [
    "obj"
   ]
  },
  {
   "cell_type": "code",
   "execution_count": 109,
   "metadata": {},
   "outputs": [
    {
     "data": {
      "text/plain": [
       "True"
      ]
     },
     "execution_count": 109,
     "metadata": {},
     "output_type": "execute_result"
    }
   ],
   "source": [
    "obj.index.is_unique\n"
   ]
  },
  {
   "cell_type": "code",
   "execution_count": 111,
   "metadata": {},
   "outputs": [],
   "source": [
    "df = pd.DataFrame(np.random.randn(4,3),index=['a','a','b','b'])"
   ]
  },
  {
   "cell_type": "code",
   "execution_count": 112,
   "metadata": {},
   "outputs": [
    {
     "data": {
      "text/html": [
       "<div>\n",
       "<style>\n",
       "    .dataframe thead tr:only-child th {\n",
       "        text-align: right;\n",
       "    }\n",
       "\n",
       "    .dataframe thead th {\n",
       "        text-align: left;\n",
       "    }\n",
       "\n",
       "    .dataframe tbody tr th {\n",
       "        vertical-align: top;\n",
       "    }\n",
       "</style>\n",
       "<table border=\"1\" class=\"dataframe\">\n",
       "  <thead>\n",
       "    <tr style=\"text-align: right;\">\n",
       "      <th></th>\n",
       "      <th>0</th>\n",
       "      <th>1</th>\n",
       "      <th>2</th>\n",
       "    </tr>\n",
       "  </thead>\n",
       "  <tbody>\n",
       "    <tr>\n",
       "      <th>a</th>\n",
       "      <td>-0.748108</td>\n",
       "      <td>-1.981175</td>\n",
       "      <td>-0.990305</td>\n",
       "    </tr>\n",
       "    <tr>\n",
       "      <th>a</th>\n",
       "      <td>-0.178429</td>\n",
       "      <td>-1.488875</td>\n",
       "      <td>-0.546952</td>\n",
       "    </tr>\n",
       "    <tr>\n",
       "      <th>b</th>\n",
       "      <td>0.238421</td>\n",
       "      <td>1.246544</td>\n",
       "      <td>0.838635</td>\n",
       "    </tr>\n",
       "    <tr>\n",
       "      <th>b</th>\n",
       "      <td>0.372405</td>\n",
       "      <td>0.183875</td>\n",
       "      <td>-0.431223</td>\n",
       "    </tr>\n",
       "  </tbody>\n",
       "</table>\n",
       "</div>"
      ],
      "text/plain": [
       "          0         1         2\n",
       "a -0.748108 -1.981175 -0.990305\n",
       "a -0.178429 -1.488875 -0.546952\n",
       "b  0.238421  1.246544  0.838635\n",
       "b  0.372405  0.183875 -0.431223"
      ]
     },
     "execution_count": 112,
     "metadata": {},
     "output_type": "execute_result"
    }
   ],
   "source": [
    "df"
   ]
  },
  {
   "cell_type": "code",
   "execution_count": 113,
   "metadata": {},
   "outputs": [
    {
     "data": {
      "text/html": [
       "<div>\n",
       "<style>\n",
       "    .dataframe thead tr:only-child th {\n",
       "        text-align: right;\n",
       "    }\n",
       "\n",
       "    .dataframe thead th {\n",
       "        text-align: left;\n",
       "    }\n",
       "\n",
       "    .dataframe tbody tr th {\n",
       "        vertical-align: top;\n",
       "    }\n",
       "</style>\n",
       "<table border=\"1\" class=\"dataframe\">\n",
       "  <thead>\n",
       "    <tr style=\"text-align: right;\">\n",
       "      <th></th>\n",
       "      <th>0</th>\n",
       "      <th>1</th>\n",
       "      <th>2</th>\n",
       "    </tr>\n",
       "  </thead>\n",
       "  <tbody>\n",
       "    <tr>\n",
       "      <th>b</th>\n",
       "      <td>0.238421</td>\n",
       "      <td>1.246544</td>\n",
       "      <td>0.838635</td>\n",
       "    </tr>\n",
       "    <tr>\n",
       "      <th>b</th>\n",
       "      <td>0.372405</td>\n",
       "      <td>0.183875</td>\n",
       "      <td>-0.431223</td>\n",
       "    </tr>\n",
       "  </tbody>\n",
       "</table>\n",
       "</div>"
      ],
      "text/plain": [
       "          0         1         2\n",
       "b  0.238421  1.246544  0.838635\n",
       "b  0.372405  0.183875 -0.431223"
      ]
     },
     "execution_count": 113,
     "metadata": {},
     "output_type": "execute_result"
    }
   ],
   "source": [
    "df.loc['b']"
   ]
  },
  {
   "cell_type": "code",
   "execution_count": 114,
   "metadata": {
    "collapsed": true
   },
   "outputs": [],
   "source": [
    "df = pd.DataFrame([[1.4,np.nan],[7.1,-4.5],[np.nan, np.nan],[0.75,-1.3]],index=['a','b','c','c'],columns=['1','2'])"
   ]
  },
  {
   "cell_type": "code",
   "execution_count": 115,
   "metadata": {},
   "outputs": [
    {
     "data": {
      "text/html": [
       "<div>\n",
       "<style>\n",
       "    .dataframe thead tr:only-child th {\n",
       "        text-align: right;\n",
       "    }\n",
       "\n",
       "    .dataframe thead th {\n",
       "        text-align: left;\n",
       "    }\n",
       "\n",
       "    .dataframe tbody tr th {\n",
       "        vertical-align: top;\n",
       "    }\n",
       "</style>\n",
       "<table border=\"1\" class=\"dataframe\">\n",
       "  <thead>\n",
       "    <tr style=\"text-align: right;\">\n",
       "      <th></th>\n",
       "      <th>1</th>\n",
       "      <th>2</th>\n",
       "    </tr>\n",
       "  </thead>\n",
       "  <tbody>\n",
       "    <tr>\n",
       "      <th>a</th>\n",
       "      <td>1.40</td>\n",
       "      <td>NaN</td>\n",
       "    </tr>\n",
       "    <tr>\n",
       "      <th>b</th>\n",
       "      <td>7.10</td>\n",
       "      <td>-4.5</td>\n",
       "    </tr>\n",
       "    <tr>\n",
       "      <th>c</th>\n",
       "      <td>NaN</td>\n",
       "      <td>NaN</td>\n",
       "    </tr>\n",
       "    <tr>\n",
       "      <th>c</th>\n",
       "      <td>0.75</td>\n",
       "      <td>-1.3</td>\n",
       "    </tr>\n",
       "  </tbody>\n",
       "</table>\n",
       "</div>"
      ],
      "text/plain": [
       "      1    2\n",
       "a  1.40  NaN\n",
       "b  7.10 -4.5\n",
       "c   NaN  NaN\n",
       "c  0.75 -1.3"
      ]
     },
     "execution_count": 115,
     "metadata": {},
     "output_type": "execute_result"
    }
   ],
   "source": [
    "df"
   ]
  },
  {
   "cell_type": "code",
   "execution_count": 116,
   "metadata": {},
   "outputs": [
    {
     "data": {
      "text/plain": [
       "1    9.25\n",
       "2   -5.80\n",
       "dtype: float64"
      ]
     },
     "execution_count": 116,
     "metadata": {},
     "output_type": "execute_result"
    }
   ],
   "source": [
    "df.sum()"
   ]
  },
  {
   "cell_type": "code",
   "execution_count": 117,
   "metadata": {},
   "outputs": [
    {
     "data": {
      "text/plain": [
       "a    1.40\n",
       "b    2.60\n",
       "c     NaN\n",
       "c   -0.55\n",
       "dtype: float64"
      ]
     },
     "execution_count": 117,
     "metadata": {},
     "output_type": "execute_result"
    }
   ],
   "source": [
    "df.sum(axis=1)"
   ]
  },
  {
   "cell_type": "code",
   "execution_count": 118,
   "metadata": {},
   "outputs": [
    {
     "data": {
      "text/plain": [
       "a      NaN\n",
       "b    1.300\n",
       "c      NaN\n",
       "c   -0.275\n",
       "dtype: float64"
      ]
     },
     "execution_count": 118,
     "metadata": {},
     "output_type": "execute_result"
    }
   ],
   "source": [
    "df.mean(axis='columns',skipna=False)"
   ]
  },
  {
   "cell_type": "code",
   "execution_count": 119,
   "metadata": {},
   "outputs": [
    {
     "data": {
      "text/plain": [
       "1    b\n",
       "2    c\n",
       "dtype: object"
      ]
     },
     "execution_count": 119,
     "metadata": {},
     "output_type": "execute_result"
    }
   ],
   "source": [
    "df.idxmax()"
   ]
  },
  {
   "cell_type": "code",
   "execution_count": 120,
   "metadata": {},
   "outputs": [
    {
     "data": {
      "text/html": [
       "<div>\n",
       "<style>\n",
       "    .dataframe thead tr:only-child th {\n",
       "        text-align: right;\n",
       "    }\n",
       "\n",
       "    .dataframe thead th {\n",
       "        text-align: left;\n",
       "    }\n",
       "\n",
       "    .dataframe tbody tr th {\n",
       "        vertical-align: top;\n",
       "    }\n",
       "</style>\n",
       "<table border=\"1\" class=\"dataframe\">\n",
       "  <thead>\n",
       "    <tr style=\"text-align: right;\">\n",
       "      <th></th>\n",
       "      <th>1</th>\n",
       "      <th>2</th>\n",
       "    </tr>\n",
       "  </thead>\n",
       "  <tbody>\n",
       "    <tr>\n",
       "      <th>a</th>\n",
       "      <td>1.40</td>\n",
       "      <td>NaN</td>\n",
       "    </tr>\n",
       "    <tr>\n",
       "      <th>b</th>\n",
       "      <td>8.50</td>\n",
       "      <td>-4.5</td>\n",
       "    </tr>\n",
       "    <tr>\n",
       "      <th>c</th>\n",
       "      <td>NaN</td>\n",
       "      <td>NaN</td>\n",
       "    </tr>\n",
       "    <tr>\n",
       "      <th>c</th>\n",
       "      <td>9.25</td>\n",
       "      <td>-5.8</td>\n",
       "    </tr>\n",
       "  </tbody>\n",
       "</table>\n",
       "</div>"
      ],
      "text/plain": [
       "      1    2\n",
       "a  1.40  NaN\n",
       "b  8.50 -4.5\n",
       "c   NaN  NaN\n",
       "c  9.25 -5.8"
      ]
     },
     "execution_count": 120,
     "metadata": {},
     "output_type": "execute_result"
    }
   ],
   "source": [
    "df.cumsum()"
   ]
  },
  {
   "cell_type": "code",
   "execution_count": 121,
   "metadata": {},
   "outputs": [
    {
     "data": {
      "text/html": [
       "<div>\n",
       "<style>\n",
       "    .dataframe thead tr:only-child th {\n",
       "        text-align: right;\n",
       "    }\n",
       "\n",
       "    .dataframe thead th {\n",
       "        text-align: left;\n",
       "    }\n",
       "\n",
       "    .dataframe tbody tr th {\n",
       "        vertical-align: top;\n",
       "    }\n",
       "</style>\n",
       "<table border=\"1\" class=\"dataframe\">\n",
       "  <thead>\n",
       "    <tr style=\"text-align: right;\">\n",
       "      <th></th>\n",
       "      <th>1</th>\n",
       "      <th>2</th>\n",
       "    </tr>\n",
       "  </thead>\n",
       "  <tbody>\n",
       "    <tr>\n",
       "      <th>count</th>\n",
       "      <td>3.000000</td>\n",
       "      <td>2.000000</td>\n",
       "    </tr>\n",
       "    <tr>\n",
       "      <th>mean</th>\n",
       "      <td>3.083333</td>\n",
       "      <td>-2.900000</td>\n",
       "    </tr>\n",
       "    <tr>\n",
       "      <th>std</th>\n",
       "      <td>3.493685</td>\n",
       "      <td>2.262742</td>\n",
       "    </tr>\n",
       "    <tr>\n",
       "      <th>min</th>\n",
       "      <td>0.750000</td>\n",
       "      <td>-4.500000</td>\n",
       "    </tr>\n",
       "    <tr>\n",
       "      <th>25%</th>\n",
       "      <td>1.075000</td>\n",
       "      <td>-3.700000</td>\n",
       "    </tr>\n",
       "    <tr>\n",
       "      <th>50%</th>\n",
       "      <td>1.400000</td>\n",
       "      <td>-2.900000</td>\n",
       "    </tr>\n",
       "    <tr>\n",
       "      <th>75%</th>\n",
       "      <td>4.250000</td>\n",
       "      <td>-2.100000</td>\n",
       "    </tr>\n",
       "    <tr>\n",
       "      <th>max</th>\n",
       "      <td>7.100000</td>\n",
       "      <td>-1.300000</td>\n",
       "    </tr>\n",
       "  </tbody>\n",
       "</table>\n",
       "</div>"
      ],
      "text/plain": [
       "              1         2\n",
       "count  3.000000  2.000000\n",
       "mean   3.083333 -2.900000\n",
       "std    3.493685  2.262742\n",
       "min    0.750000 -4.500000\n",
       "25%    1.075000 -3.700000\n",
       "50%    1.400000 -2.900000\n",
       "75%    4.250000 -2.100000\n",
       "max    7.100000 -1.300000"
      ]
     },
     "execution_count": 121,
     "metadata": {},
     "output_type": "execute_result"
    }
   ],
   "source": [
    "df.describe()"
   ]
  },
  {
   "cell_type": "code",
   "execution_count": 122,
   "metadata": {
    "collapsed": true
   },
   "outputs": [],
   "source": [
    "import pandas_datareader as web\n"
   ]
  },
  {
   "cell_type": "code",
   "execution_count": 123,
   "metadata": {
    "collapsed": true
   },
   "outputs": [],
   "source": [
    "all_data = {ticker:web.get_data_yahoo(ticker) for ticker in ['AAPL','IBM','MSFT','GOOG']}"
   ]
  },
  {
   "cell_type": "code",
   "execution_count": 124,
   "metadata": {},
   "outputs": [
    {
     "data": {
      "text/plain": [
       "{'AAPL':                   Open        High         Low       Close   Adj Close  \\\n",
       " Date                                                                     \n",
       " 2009-12-31   30.447144   30.478571   30.080000   30.104286   26.372231   \n",
       " 2010-01-04   30.490000   30.642857   30.340000   30.572857   26.782711   \n",
       " 2010-01-05   30.657143   30.798571   30.464285   30.625713   26.829010   \n",
       " 2010-01-06   30.625713   30.747143   30.107143   30.138571   26.402260   \n",
       " 2010-01-07   30.250000   30.285715   29.864286   30.082857   26.353460   \n",
       " 2010-01-08   30.042856   30.285715   29.865715   30.282858   26.528664   \n",
       " 2010-01-11   30.400000   30.428572   29.778572   30.015715   26.294640   \n",
       " 2010-01-12   29.884285   29.967142   29.488571   29.674286   25.995537   \n",
       " 2010-01-13   29.695715   30.132856   29.157143   30.092857   26.362217   \n",
       " 2010-01-14   30.015715   30.065714   29.860001   29.918571   26.209538   \n",
       " 2010-01-15   30.132856   30.228571   29.410000   29.418571   25.771528   \n",
       " 2010-01-19   29.761429   30.741428   29.605715   30.719999   26.911612   \n",
       " 2010-01-20   30.701429   30.792856   29.928572   30.247143   26.497383   \n",
       " 2010-01-21   30.297142   30.472857   29.601429   29.724285   26.039341   \n",
       " 2010-01-22   29.540001   29.642857   28.165714   28.250000   24.747818   \n",
       " 2010-01-25   28.930000   29.242857   28.598572   29.010000   25.413599   \n",
       " 2010-01-26   29.421429   30.530001   28.940001   29.420000   25.772774   \n",
       " 2010-01-27   29.549999   30.082857   28.504286   29.697144   26.015560   \n",
       " 2010-01-28   29.275715   29.357143   28.385714   28.469999   24.940546   \n",
       " 2010-01-29   28.725714   28.885714   27.178572   27.437143   24.035734   \n",
       " 2010-02-01   27.481428   28.000000   27.328571   27.818571   24.369871   \n",
       " 2010-02-02   27.987143   28.045713   27.625713   27.980000   24.511295   \n",
       " 2010-02-03   27.881428   28.600000   27.774286   28.461428   24.933033   \n",
       " 2010-02-04   28.104286   28.338572   27.367144   27.435715   24.034487   \n",
       " 2010-02-05   27.518572   28.000000   27.264286   27.922857   24.461227   \n",
       " 2010-02-08   27.955715   28.268572   27.714285   27.731428   24.293537   \n",
       " 2010-02-09   28.059999   28.214285   27.821428   28.027143   24.552589   \n",
       " 2010-02-10   27.984285   28.085714   27.751429   27.874287   24.418684   \n",
       " 2010-02-11   27.840000   28.535715   27.722857   28.381428   24.862957   \n",
       " 2010-02-12   28.301428   28.805714   27.928572   28.625713   25.076958   \n",
       " ...                ...         ...         ...         ...         ...   \n",
       " 2019-05-15  186.270004  191.750000  186.020004  190.919998  190.919998   \n",
       " 2019-05-16  189.910004  192.470001  188.839996  190.080002  190.080002   \n",
       " 2019-05-17  186.929993  190.899994  186.759995  189.000000  189.000000   \n",
       " 2019-05-20  183.520004  184.350006  180.279999  183.089996  183.089996   \n",
       " 2019-05-21  185.220001  188.000000  184.699997  186.600006  186.600006   \n",
       " 2019-05-22  184.660004  185.710007  182.550003  182.779999  182.779999   \n",
       " 2019-05-23  179.800003  180.539993  177.809998  179.660004  179.660004   \n",
       " 2019-05-24  180.199997  182.139999  178.619995  178.970001  178.970001   \n",
       " 2019-05-28  178.919998  180.589996  177.910004  178.229996  178.229996   \n",
       " 2019-05-29  176.419998  179.350006  176.000000  177.380005  177.380005   \n",
       " 2019-05-30  177.949997  179.229996  176.669998  178.300003  178.300003   \n",
       " 2019-05-31  176.229996  177.990005  174.990005  175.070007  175.070007   \n",
       " 2019-06-03  175.600006  177.919998  170.270004  173.300003  173.300003   \n",
       " 2019-06-04  175.440002  179.830002  174.520004  179.639999  179.639999   \n",
       " 2019-06-05  184.279999  184.990005  181.139999  182.539993  182.539993   \n",
       " 2019-06-06  183.080002  185.470001  182.149994  185.220001  185.220001   \n",
       " 2019-06-07  186.509995  191.919998  185.770004  190.149994  190.149994   \n",
       " 2019-06-10  191.809998  195.369995  191.619995  192.580002  192.580002   \n",
       " 2019-06-11  194.860001  196.000000  193.600006  194.809998  194.809998   \n",
       " 2019-06-12  193.949997  195.970001  193.389999  194.190002  194.190002   \n",
       " 2019-06-13  194.699997  196.789993  193.600006  194.149994  194.149994   \n",
       " 2019-06-14  191.550003  193.589996  190.300003  192.740005  192.740005   \n",
       " 2019-06-17  192.899994  194.960007  192.169998  193.889999  193.889999   \n",
       " 2019-06-18  196.050003  200.289993  195.210007  198.449997  198.449997   \n",
       " 2019-06-19  199.679993  199.880005  197.309998  197.869995  197.869995   \n",
       " 2019-06-20  200.369995  200.610001  198.029999  199.460007  199.460007   \n",
       " 2019-06-21  198.800003  200.850006  198.149994  198.779999  198.779999   \n",
       " 2019-06-24  198.539993  200.160004  198.169998  198.580002  198.580002   \n",
       " 2019-06-25  198.429993  199.259995  195.289993  195.570007  195.570007   \n",
       " 2019-06-26  197.770004  200.990005  197.350006  200.000000  200.000000   \n",
       " \n",
       "                Volume  \n",
       " Date                   \n",
       " 2009-12-31   88102700  \n",
       " 2010-01-04  123432400  \n",
       " 2010-01-05  150476200  \n",
       " 2010-01-06  138040000  \n",
       " 2010-01-07  119282800  \n",
       " 2010-01-08  111902700  \n",
       " 2010-01-11  115557400  \n",
       " 2010-01-12  148614900  \n",
       " 2010-01-13  151473000  \n",
       " 2010-01-14  108223500  \n",
       " 2010-01-15  148516900  \n",
       " 2010-01-19  182501900  \n",
       " 2010-01-20  153038200  \n",
       " 2010-01-21  152038600  \n",
       " 2010-01-22  220441900  \n",
       " 2010-01-25  266424900  \n",
       " 2010-01-26  466777500  \n",
       " 2010-01-27  430642100  \n",
       " 2010-01-28  293375600  \n",
       " 2010-01-29  311488100  \n",
       " 2010-02-01  187469100  \n",
       " 2010-02-02  174585600  \n",
       " 2010-02-03  153832000  \n",
       " 2010-02-04  189413000  \n",
       " 2010-02-05  212576700  \n",
       " 2010-02-08  119567700  \n",
       " 2010-02-09  158221700  \n",
       " 2010-02-10   92590400  \n",
       " 2010-02-11  137586400  \n",
       " 2010-02-12  163867200  \n",
       " ...               ...  \n",
       " 2019-05-15   26544700  \n",
       " 2019-05-16   33031400  \n",
       " 2019-05-17   32879100  \n",
       " 2019-05-20   38612300  \n",
       " 2019-05-21   28364800  \n",
       " 2019-05-22   29748600  \n",
       " 2019-05-23   36529700  \n",
       " 2019-05-24   23714700  \n",
       " 2019-05-28   27948200  \n",
       " 2019-05-29   28481200  \n",
       " 2019-05-30   21218400  \n",
       " 2019-05-31   27043600  \n",
       " 2019-06-03   40396100  \n",
       " 2019-06-04   30968000  \n",
       " 2019-06-05   29773400  \n",
       " 2019-06-06   22526300  \n",
       " 2019-06-07   30684400  \n",
       " 2019-06-10   26220900  \n",
       " 2019-06-11   26932900  \n",
       " 2019-06-12   18253200  \n",
       " 2019-06-13   21674600  \n",
       " 2019-06-14   18761500  \n",
       " 2019-06-17   14651700  \n",
       " 2019-06-18   26551000  \n",
       " 2019-06-19   21124200  \n",
       " 2019-06-20   21514000  \n",
       " 2019-06-21   47800600  \n",
       " 2019-06-24   18220400  \n",
       " 2019-06-25   21047200  \n",
       " 2019-06-26    7247616  \n",
       " \n",
       " [2387 rows x 6 columns],\n",
       " 'GOOG':                    Open         High          Low        Close    Adj Close  \\\n",
       " Date                                                                          \n",
       " 2009-12-31   310.356445   310.679321   307.986847   307.986847   307.986847   \n",
       " 2010-01-04   311.449310   312.721039   310.103088   311.349976   311.349976   \n",
       " 2010-01-05   311.563568   311.891449   308.761810   309.978882   309.978882   \n",
       " 2010-01-06   310.907837   310.907837   301.220856   302.164703   302.164703   \n",
       " 2010-01-07   302.731018   303.029083   294.410156   295.130463   295.130463   \n",
       " 2010-01-08   294.087250   299.675903   292.651581   299.064880   299.064880   \n",
       " 2010-01-11   300.276978   300.276978   295.100647   298.612823   298.612823   \n",
       " 2010-01-12   296.893982   297.147339   292.100159   293.332153   293.332153   \n",
       " 2010-01-13   286.382355   292.288940   285.095734   291.648102   291.648102   \n",
       " 2010-01-14   290.063416   295.180145   289.521942   293.019196   293.019196   \n",
       " 2010-01-15   294.752930   294.862213   287.152344   288.126007   288.126007   \n",
       " 2010-01-19   288.722137   293.302338   286.283020   291.911407   291.911407   \n",
       " 2010-01-20   291.096710   291.096710   285.786224   288.329681   288.329681   \n",
       " 2010-01-21   289.834900   291.513977   284.276062   289.606384   289.606384   \n",
       " 2010-01-22   280.426086   283.456390   265.701874   273.227905   273.227905   \n",
       " 2010-01-25   271.528961   273.163330   266.024780   268.255249   268.255249   \n",
       " 2010-01-26   267.246826   273.024231   266.412231   269.457428   269.457428   \n",
       " 2010-01-27   268.886169   272.055542   265.925415   269.298462   269.298462   \n",
       " 2010-01-28   270.485748   271.732635   263.585632   265.418701   265.418701   \n",
       " 2010-01-29   267.505127   268.747070   261.106750   263.257751   263.257751   \n",
       " 2010-02-01   265.572693   266.173798   263.436584   264.787811   264.787811   \n",
       " 2010-02-02   265.751556   265.751556   262.100281   263.843964   263.843964   \n",
       " 2010-02-03   262.626862   269.298462   262.408295   268.662598   268.662598   \n",
       " 2010-02-04   266.764954   267.261719   261.081909   261.687958   261.687958   \n",
       " 2010-02-05   262.492737   265.026245   259.541931   263.928406   263.928406   \n",
       " 2010-02-08   264.529480   269.248810   264.047638   265.011353   265.011353   \n",
       " 2010-02-09   268.026733   269.015320   265.806183   266.486755   266.486755   \n",
       " 2010-02-10   265.309418   267.157410   262.140045   265.498199   265.498199   \n",
       " 2010-02-11   264.936829   268.498688   263.039185   266.466888   266.466888   \n",
       " 2010-02-12   264.762970   266.839478   263.535950   264.837494   264.837494   \n",
       " ...                 ...          ...          ...          ...          ...   \n",
       " 2019-05-15  1117.869995  1171.329956  1116.666016  1164.209961  1164.209961   \n",
       " 2019-05-16  1164.510010  1188.160034  1162.839966  1178.979980  1178.979980   \n",
       " 2019-05-17  1168.469971  1180.150024  1160.010010  1162.300049  1162.300049   \n",
       " 2019-05-20  1144.500000  1146.796997  1131.442993  1138.849976  1138.849976   \n",
       " 2019-05-21  1148.489990  1152.708008  1137.939941  1149.630005  1149.630005   \n",
       " 2019-05-22  1146.750000  1158.520020  1145.890015  1151.420044  1151.420044   \n",
       " 2019-05-23  1140.500000  1145.973022  1129.223999  1140.770020  1140.770020   \n",
       " 2019-05-24  1147.359985  1149.765015  1131.660034  1133.469971  1133.469971   \n",
       " 2019-05-28  1134.000000  1151.587036  1133.119995  1134.150024  1134.150024   \n",
       " 2019-05-29  1127.520020  1129.099976  1108.219971  1116.459961  1116.459961   \n",
       " 2019-05-30  1115.540039  1123.130005  1112.119995  1117.949951  1117.949951   \n",
       " 2019-05-31  1101.290039  1109.599976  1100.180054  1103.630005  1103.630005   \n",
       " 2019-06-03  1065.500000  1065.500000  1025.000000  1036.229980  1036.229980   \n",
       " 2019-06-04  1042.900024  1056.050049  1033.689941  1053.050049  1053.050049   \n",
       " 2019-06-05  1051.540039  1053.550049  1030.489990  1042.219971  1042.219971   \n",
       " 2019-06-06  1044.989990  1047.489990  1033.699951  1044.339966  1044.339966   \n",
       " 2019-06-07  1050.630005  1070.920044  1048.400024  1066.040039  1066.040039   \n",
       " 2019-06-10  1072.979980  1092.660034  1072.322021  1080.380005  1080.380005   \n",
       " 2019-06-11  1093.979980  1101.989990  1077.603027  1078.719971  1078.719971   \n",
       " 2019-06-12  1078.000000  1080.930054  1067.540039  1077.030029  1077.030029   \n",
       " 2019-06-13  1083.640015  1094.170044  1080.150024  1088.770020  1088.770020   \n",
       " 2019-06-14  1086.420044  1092.689941  1080.171997  1085.349976  1085.349976   \n",
       " 2019-06-17  1086.280029  1099.180054  1086.280029  1092.500000  1092.500000   \n",
       " 2019-06-18  1109.689941  1116.390015  1098.989990  1103.599976  1103.599976   \n",
       " 2019-06-19  1105.599976  1107.000000  1093.479980  1102.329956  1102.329956   \n",
       " 2019-06-20  1119.989990  1120.119995  1104.739990  1111.420044  1111.420044   \n",
       " 2019-06-21  1109.239990  1124.109985  1108.079956  1121.880005  1121.880005   \n",
       " 2019-06-24  1119.609985  1122.000000  1111.010010  1115.520020  1115.520020   \n",
       " 2019-06-25  1112.660034  1114.349976  1083.800049  1086.349976  1086.349976   \n",
       " 2019-06-26  1086.500000  1092.810059  1084.540039  1087.290039  1087.290039   \n",
       " \n",
       "               Volume  \n",
       " Date                  \n",
       " 2009-12-31   2455400  \n",
       " 2010-01-04   3937800  \n",
       " 2010-01-05   6048500  \n",
       " 2010-01-06   8009000  \n",
       " 2010-01-07  12912000  \n",
       " 2010-01-08   9509900  \n",
       " 2010-01-11  14519600  \n",
       " 2010-01-12   9769600  \n",
       " 2010-01-13  13077600  \n",
       " 2010-01-14   8535300  \n",
       " 2010-01-15  10939600  \n",
       " 2010-01-19   8689500  \n",
       " 2010-01-20   6543600  \n",
       " 2010-01-21  12697400  \n",
       " 2010-01-22  13689200  \n",
       " 2010-01-25   8897200  \n",
       " 2010-01-26   8767600  \n",
       " 2010-01-27   7980200  \n",
       " 2010-01-28   6500100  \n",
       " 2010-01-29   8334700  \n",
       " 2010-02-01   4530800  \n",
       " 2010-02-02   8245600  \n",
       " 2010-02-03   6037000  \n",
       " 2010-02-04   6799200  \n",
       " 2010-02-05   6353000  \n",
       " 2010-02-08   5423500  \n",
       " 2010-02-09   5675700  \n",
       " 2010-02-10   5383700  \n",
       " 2010-02-11   4851300  \n",
       " 2010-02-12   4589000  \n",
       " ...              ...  \n",
       " 2019-05-15   2289300  \n",
       " 2019-05-16   1531400  \n",
       " 2019-05-17   1208600  \n",
       " 2019-05-20   1353300  \n",
       " 2019-05-21   1159800  \n",
       " 2019-05-22    914500  \n",
       " 2019-05-23   1198900  \n",
       " 2019-05-24   1112000  \n",
       " 2019-05-28   1365000  \n",
       " 2019-05-29   1538200  \n",
       " 2019-05-30    951900  \n",
       " 2019-05-31   1507800  \n",
       " 2019-06-03   5130600  \n",
       " 2019-06-04   2833500  \n",
       " 2019-06-05   2168400  \n",
       " 2019-06-06   1703200  \n",
       " 2019-06-07   1802400  \n",
       " 2019-06-10   1464200  \n",
       " 2019-06-11   1436700  \n",
       " 2019-06-12   1061000  \n",
       " 2019-06-13   1057700  \n",
       " 2019-06-14   1111500  \n",
       " 2019-06-17    941600  \n",
       " 2019-06-18   1386700  \n",
       " 2019-06-19   1338800  \n",
       " 2019-06-20   1262000  \n",
       " 2019-06-21   1947600  \n",
       " 2019-06-24   1395600  \n",
       " 2019-06-25   1546300  \n",
       " 2019-06-26    367636  \n",
       " \n",
       " [2387 rows x 6 columns],\n",
       " 'IBM':                   Open        High         Low       Close   Adj Close  \\\n",
       " Date                                                                     \n",
       " 2009-12-31  132.410004  132.850006  130.750000  130.899994   98.137283   \n",
       " 2010-01-04  131.179993  132.970001  130.850006  132.449997   99.299347   \n",
       " 2010-01-05  131.679993  131.850006  130.100006  130.850006   98.099792   \n",
       " 2010-01-06  130.679993  131.490005  129.809998  130.000000   97.462532   \n",
       " 2010-01-07  129.869995  130.250000  128.910004  129.550003   97.125160   \n",
       " 2010-01-08  129.070007  130.919998  129.050003  130.850006   98.099792   \n",
       " 2010-01-11  131.059998  131.059998  128.669998  129.479996   97.072685   \n",
       " 2010-01-12  129.029999  131.330002  129.000000  130.509995   97.844872   \n",
       " 2010-01-13  130.389999  131.119995  129.160004  130.229996   97.634964   \n",
       " 2010-01-14  130.550003  132.710007  129.910004  132.309998   99.194389   \n",
       " 2010-01-15  132.029999  132.889999  131.089996  131.779999   98.797028   \n",
       " 2010-01-19  131.630005  134.250000  131.559998  134.139999  100.566330   \n",
       " 2010-01-20  130.460007  131.149994  128.949997  130.250000   97.649979   \n",
       " 2010-01-21  130.470001  130.690002  128.059998  129.000000   96.712860   \n",
       " 2010-01-22  128.669998  128.889999  125.370003  125.500000   94.088844   \n",
       " 2010-01-25  126.330002  126.889999  125.709999  126.120003   94.553688   \n",
       " 2010-01-26  125.919998  127.750000  125.410004  125.750000   94.276276   \n",
       " 2010-01-27  125.820000  126.959999  125.040001  126.330002   94.711105   \n",
       " 2010-01-28  127.029999  127.040001  123.050003  123.750000   92.776848   \n",
       " 2010-01-29  124.320000  125.000000  121.900002  122.389999   91.757233   \n",
       " 2010-02-01  123.230003  124.949997  122.779999  124.669998   93.466576   \n",
       " 2010-02-02  124.790001  125.809998  123.949997  125.529999   94.111336   \n",
       " 2010-02-03  125.160004  126.070000  125.070000  125.660004   94.208817   \n",
       " 2010-02-04  125.190002  125.440002  122.900002  123.000000   92.214569   \n",
       " 2010-02-05  123.040001  123.720001  121.830002  123.519997   92.604401   \n",
       " 2010-02-08  123.150002  123.220001  121.739998  121.879997   91.783577   \n",
       " 2010-02-09  122.650002  124.199997  122.459999  123.209999   92.785126   \n",
       " 2010-02-10  122.940002  123.650002  122.209999  122.809998   92.483902   \n",
       " 2010-02-11  122.580002  124.199997  122.059998  123.730003   93.176750   \n",
       " 2010-02-12  123.010002  124.050003  121.610001  124.000000   93.380051   \n",
       " ...                ...         ...         ...         ...         ...   \n",
       " 2019-05-15  132.589996  134.589996  132.369995  134.399994  134.399994   \n",
       " 2019-05-16  134.740005  136.110001  134.639999  135.880005  135.880005   \n",
       " 2019-05-17  134.679993  135.410004  133.940002  134.320007  134.320007   \n",
       " 2019-05-20  133.529999  135.429993  132.929993  135.119995  135.119995   \n",
       " 2019-05-21  136.119995  137.059998  135.789993  136.449997  136.449997   \n",
       " 2019-05-22  136.000000  136.750000  135.710007  136.350006  136.350006   \n",
       " 2019-05-23  135.130005  135.130005  130.440002  132.389999  132.389999   \n",
       " 2019-05-24  133.529999  134.250000  131.589996  132.279999  132.279999   \n",
       " 2019-05-28  132.130005  132.639999  130.270004  130.460007  130.460007   \n",
       " 2019-05-29  130.000000  130.279999  128.320007  129.690002  129.690002   \n",
       " 2019-05-30  129.740005  129.970001  128.929993  129.570007  129.570007   \n",
       " 2019-05-31  128.440002  128.440002  126.849998  126.989998  126.989998   \n",
       " 2019-06-03  127.099998  128.559998  127.059998  128.270004  128.270004   \n",
       " 2019-06-04  129.559998  132.740005  129.089996  132.690002  132.690002   \n",
       " 2019-06-05  133.380005  133.610001  130.470001  131.490005  131.490005   \n",
       " 2019-06-06  132.190002  132.649994  130.899994  132.220001  132.220001   \n",
       " 2019-06-07  132.470001  134.720001  132.210007  133.309998  133.309998   \n",
       " 2019-06-10  134.380005  135.350006  133.910004  134.740005  134.740005   \n",
       " 2019-06-11  135.320007  136.460007  135.050003  135.949997  135.949997   \n",
       " 2019-06-12  135.559998  135.940002  134.410004  134.869995  134.869995   \n",
       " 2019-06-13  135.130005  136.270004  135.089996  135.759995  135.759995   \n",
       " 2019-06-14  135.440002  135.880005  134.429993  135.149994  135.149994   \n",
       " 2019-06-17  135.389999  136.029999  134.699997  134.949997  134.949997   \n",
       " 2019-06-18  135.199997  137.190002  135.199997  136.380005  136.380005   \n",
       " 2019-06-19  136.429993  138.360001  136.240005  137.080002  137.080002   \n",
       " 2019-06-20  138.929993  139.539993  138.199997  138.850006  138.850006   \n",
       " 2019-06-21  138.440002  139.539993  138.389999  139.199997  139.199997   \n",
       " 2019-06-24  139.199997  140.149994  139.050003  139.350006  139.350006   \n",
       " 2019-06-25  139.460007  139.550003  138.130005  138.360001  138.360001   \n",
       " 2019-06-26  138.869995  139.679993  138.651993  139.369995  139.369995   \n",
       " \n",
       "               Volume  \n",
       " Date                  \n",
       " 2009-12-31   4223400  \n",
       " 2010-01-04   6155300  \n",
       " 2010-01-05   6841400  \n",
       " 2010-01-06   5605300  \n",
       " 2010-01-07   5840600  \n",
       " 2010-01-08   4197200  \n",
       " 2010-01-11   5730400  \n",
       " 2010-01-12   8081500  \n",
       " 2010-01-13   6455400  \n",
       " 2010-01-14   7111800  \n",
       " 2010-01-15   8494400  \n",
       " 2010-01-19  13916200  \n",
       " 2010-01-20  15197500  \n",
       " 2010-01-21   9608600  \n",
       " 2010-01-22  10088600  \n",
       " 2010-01-25   5738500  \n",
       " 2010-01-26   7135300  \n",
       " 2010-01-27   8719200  \n",
       " 2010-01-28   9622200  \n",
       " 2010-01-29  11571200  \n",
       " 2010-02-01   7242900  \n",
       " 2010-02-02   5899900  \n",
       " 2010-02-03   4177100  \n",
       " 2010-02-04   9126900  \n",
       " 2010-02-05   8617000  \n",
       " 2010-02-08   5718500  \n",
       " 2010-02-09   6044500  \n",
       " 2010-02-10   5219100  \n",
       " 2010-02-11   5089000  \n",
       " 2010-02-12   8017700  \n",
       " ...              ...  \n",
       " 2019-05-15   2551000  \n",
       " 2019-05-16   3017300  \n",
       " 2019-05-17   2619100  \n",
       " 2019-05-20   3264500  \n",
       " 2019-05-21   2503500  \n",
       " 2019-05-22   1849800  \n",
       " 2019-05-23   5343400  \n",
       " 2019-05-24   2596100  \n",
       " 2019-05-28   4908800  \n",
       " 2019-05-29   3679000  \n",
       " 2019-05-30   2741900  \n",
       " 2019-05-31   3539300  \n",
       " 2019-06-03   4266900  \n",
       " 2019-06-04   3913500  \n",
       " 2019-06-05   3161300  \n",
       " 2019-06-06   2298200  \n",
       " 2019-06-07   2553400  \n",
       " 2019-06-10   2911300  \n",
       " 2019-06-11   3407300  \n",
       " 2019-06-12   2254700  \n",
       " 2019-06-13   2955300  \n",
       " 2019-06-14   2193300  \n",
       " 2019-06-17   2194100  \n",
       " 2019-06-18   2914700  \n",
       " 2019-06-19   2382400  \n",
       " 2019-06-20   3071000  \n",
       " 2019-06-21   5288700  \n",
       " 2019-06-24   2186000  \n",
       " 2019-06-25   2801200  \n",
       " 2019-06-26    372574  \n",
       " \n",
       " [2387 rows x 6 columns],\n",
       " 'MSFT':                   Open        High         Low       Close   Adj Close  \\\n",
       " Date                                                                     \n",
       " 2009-12-31   30.980000   30.990000   30.480000   30.480000   24.152580   \n",
       " 2010-01-04   30.620001   31.100000   30.590000   30.950001   24.525019   \n",
       " 2010-01-05   30.850000   31.100000   30.639999   30.959999   24.532942   \n",
       " 2010-01-06   30.879999   31.080000   30.520000   30.770000   24.382378   \n",
       " 2010-01-07   30.629999   30.700001   30.190001   30.450001   24.128809   \n",
       " 2010-01-08   30.280001   30.879999   30.240000   30.660000   24.295214   \n",
       " 2010-01-11   30.709999   30.760000   30.120001   30.270000   23.986179   \n",
       " 2010-01-12   30.150000   30.400000   29.910000   30.070000   23.827694   \n",
       " 2010-01-13   30.260000   30.520000   30.010000   30.350000   24.049570   \n",
       " 2010-01-14   30.309999   31.100000   30.260000   30.959999   24.532942   \n",
       " 2010-01-15   31.080000   31.240000   30.709999   30.860001   24.453693   \n",
       " 2010-01-19   30.750000   31.240000   30.680000   31.100000   24.643881   \n",
       " 2010-01-20   30.809999   30.940001   30.309999   30.590000   24.239746   \n",
       " 2010-01-21   30.610001   30.719999   30.000000   30.010000   23.780155   \n",
       " 2010-01-22   30.000000   30.200001   28.840000   28.959999   22.948128   \n",
       " 2010-01-25   29.240000   29.660000   29.100000   29.320000   23.233395   \n",
       " 2010-01-26   29.200001   29.850000   29.090000   29.500000   23.376024   \n",
       " 2010-01-27   29.350000   29.820000   29.020000   29.670000   23.510740   \n",
       " 2010-01-28   29.840000   29.870001   28.889999   29.160000   23.106604   \n",
       " 2010-01-29   29.900000   29.920000   27.660000   28.180000   22.330048   \n",
       " 2010-02-01   28.389999   28.480000   27.920000   28.410000   22.512297   \n",
       " 2010-02-02   28.370001   28.500000   28.139999   28.459999   22.551926   \n",
       " 2010-02-03   28.260000   28.790001   28.120001   28.629999   22.686628   \n",
       " 2010-02-04   28.379999   28.500000   27.809999   27.840000   22.060629   \n",
       " 2010-02-05   28.000000   28.280001   27.570000   28.020000   22.203266   \n",
       " 2010-02-08   28.010000   28.080000   27.570000   27.719999   21.965540   \n",
       " 2010-02-09   27.969999   28.340000   27.750000   28.010000   22.195339   \n",
       " 2010-02-10   28.030001   28.240000   27.840000   27.990000   22.179491   \n",
       " 2010-02-11   27.930000   28.400000   27.700001   28.120001   22.282507   \n",
       " 2010-02-12   27.809999   28.059999   27.580000   27.930000   22.131947   \n",
       " ...                ...         ...         ...         ...         ...   \n",
       " 2019-05-15  124.260002  126.709999  123.699997  126.019997  126.019997   \n",
       " 2019-05-16  126.750000  129.380005  126.459999  128.929993  128.929993   \n",
       " 2019-05-17  128.309998  130.460007  127.919998  128.070007  128.070007   \n",
       " 2019-05-20  126.519997  127.589996  125.760002  126.220001  126.220001   \n",
       " 2019-05-21  127.430000  127.529999  126.580002  126.900002  126.900002   \n",
       " 2019-05-22  126.620003  128.240005  126.519997  127.669998  127.669998   \n",
       " 2019-05-23  126.199997  126.290001  124.739998  126.180000  126.180000   \n",
       " 2019-05-24  126.910004  127.419998  125.970001  126.239998  126.239998   \n",
       " 2019-05-28  126.980003  128.000000  126.050003  126.160004  126.160004   \n",
       " 2019-05-29  125.379997  125.389999  124.040001  124.940002  124.940002   \n",
       " 2019-05-30  125.260002  125.760002  124.779999  125.730003  125.730003   \n",
       " 2019-05-31  124.230003  124.620003  123.320000  123.680000  123.680000   \n",
       " 2019-06-03  123.849998  124.370003  119.010002  119.839996  119.839996   \n",
       " 2019-06-04  121.279999  123.279999  120.650002  123.160004  123.160004   \n",
       " 2019-06-05  124.949997  125.870003  124.209999  125.830002  125.830002   \n",
       " 2019-06-06  126.440002  127.970001  125.599998  127.820000  127.820000   \n",
       " 2019-06-07  129.190002  132.250000  128.259995  131.399994  131.399994   \n",
       " 2019-06-10  132.399994  134.080002  132.000000  132.600006  132.600006   \n",
       " 2019-06-11  133.880005  134.240005  131.279999  132.100006  132.100006   \n",
       " 2019-06-12  131.399994  131.970001  130.710007  131.490005  131.490005   \n",
       " 2019-06-13  131.979996  133.000000  131.559998  132.320007  132.320007   \n",
       " 2019-06-14  132.259995  133.789993  131.639999  132.449997  132.449997   \n",
       " 2019-06-17  132.630005  133.729996  132.529999  132.850006  132.850006   \n",
       " 2019-06-18  134.190002  135.240005  133.570007  135.160004  135.160004   \n",
       " 2019-06-19  135.000000  135.929993  133.809998  135.690002  135.690002   \n",
       " 2019-06-20  137.449997  137.660004  135.720001  136.949997  136.949997   \n",
       " 2019-06-21  136.580002  137.729996  136.460007  136.970001  136.970001   \n",
       " 2019-06-24  137.000000  138.399994  137.000000  137.779999  137.779999   \n",
       " 2019-06-25  137.250000  137.589996  132.729996  133.429993  133.429993   \n",
       " 2019-06-26  134.350006  135.729996  134.360001  134.789993  134.789993   \n",
       " \n",
       "                Volume  \n",
       " Date                   \n",
       " 2009-12-31   31929700  \n",
       " 2010-01-04   38409100  \n",
       " 2010-01-05   49749600  \n",
       " 2010-01-06   58182400  \n",
       " 2010-01-07   50559700  \n",
       " 2010-01-08   51197400  \n",
       " 2010-01-11   68754700  \n",
       " 2010-01-12   65912100  \n",
       " 2010-01-13   51863500  \n",
       " 2010-01-14   63228100  \n",
       " 2010-01-15   79913200  \n",
       " 2010-01-19   46575700  \n",
       " 2010-01-20   54849500  \n",
       " 2010-01-21   73086700  \n",
       " 2010-01-22  102004600  \n",
       " 2010-01-25   63373000  \n",
       " 2010-01-26   66639900  \n",
       " 2010-01-27   63949500  \n",
       " 2010-01-28  117513700  \n",
       " 2010-01-29  193888500  \n",
       " 2010-02-01   85931100  \n",
       " 2010-02-02   54413700  \n",
       " 2010-02-03   61397900  \n",
       " 2010-02-04   77850000  \n",
       " 2010-02-05   80960100  \n",
       " 2010-02-08   52820600  \n",
       " 2010-02-09   59195800  \n",
       " 2010-02-10   48591300  \n",
       " 2010-02-11   65993700  \n",
       " 2010-02-12   81117200  \n",
       " ...               ...  \n",
       " 2019-05-15   24722700  \n",
       " 2019-05-16   30112200  \n",
       " 2019-05-17   25770500  \n",
       " 2019-05-20   23706900  \n",
       " 2019-05-21   15293300  \n",
       " 2019-05-22   15396500  \n",
       " 2019-05-23   23603800  \n",
       " 2019-05-24   14123400  \n",
       " 2019-05-28   23128400  \n",
       " 2019-05-29   22763100  \n",
       " 2019-05-30   16829600  \n",
       " 2019-05-31   26646800  \n",
       " 2019-06-03   37983600  \n",
       " 2019-06-04   29382600  \n",
       " 2019-06-05   24926100  \n",
       " 2019-06-06   21459000  \n",
       " 2019-06-07   33885600  \n",
       " 2019-06-10   26477100  \n",
       " 2019-06-11   23913700  \n",
       " 2019-06-12   17092500  \n",
       " 2019-06-13   17200800  \n",
       " 2019-06-14   17821700  \n",
       " 2019-06-17   14496200  \n",
       " 2019-06-18   25934500  \n",
       " 2019-06-19   23744400  \n",
       " 2019-06-20   33042600  \n",
       " 2019-06-21   36727900  \n",
       " 2019-06-24   20628800  \n",
       " 2019-06-25   33301500  \n",
       " 2019-06-26    5443929  \n",
       " \n",
       " [2387 rows x 6 columns]}"
      ]
     },
     "execution_count": 124,
     "metadata": {},
     "output_type": "execute_result"
    }
   ],
   "source": [
    "all_data"
   ]
  },
  {
   "cell_type": "code",
   "execution_count": 125,
   "metadata": {},
   "outputs": [
    {
     "name": "stdout",
     "output_type": "stream",
     "text": [
      "{'AAPL':                   Open        High         Low       Close   Adj Close  \\\n",
      "Date                                                                     \n",
      "2009-12-31   30.447144   30.478571   30.080000   30.104286   26.372231   \n",
      "2010-01-04   30.490000   30.642857   30.340000   30.572857   26.782711   \n",
      "2010-01-05   30.657143   30.798571   30.464285   30.625713   26.829010   \n",
      "2010-01-06   30.625713   30.747143   30.107143   30.138571   26.402260   \n",
      "2010-01-07   30.250000   30.285715   29.864286   30.082857   26.353460   \n",
      "2010-01-08   30.042856   30.285715   29.865715   30.282858   26.528664   \n",
      "2010-01-11   30.400000   30.428572   29.778572   30.015715   26.294640   \n",
      "2010-01-12   29.884285   29.967142   29.488571   29.674286   25.995537   \n",
      "2010-01-13   29.695715   30.132856   29.157143   30.092857   26.362217   \n",
      "2010-01-14   30.015715   30.065714   29.860001   29.918571   26.209538   \n",
      "2010-01-15   30.132856   30.228571   29.410000   29.418571   25.771528   \n",
      "2010-01-19   29.761429   30.741428   29.605715   30.719999   26.911612   \n",
      "2010-01-20   30.701429   30.792856   29.928572   30.247143   26.497383   \n",
      "2010-01-21   30.297142   30.472857   29.601429   29.724285   26.039341   \n",
      "2010-01-22   29.540001   29.642857   28.165714   28.250000   24.747818   \n",
      "2010-01-25   28.930000   29.242857   28.598572   29.010000   25.413599   \n",
      "2010-01-26   29.421429   30.530001   28.940001   29.420000   25.772774   \n",
      "2010-01-27   29.549999   30.082857   28.504286   29.697144   26.015560   \n",
      "2010-01-28   29.275715   29.357143   28.385714   28.469999   24.940546   \n",
      "2010-01-29   28.725714   28.885714   27.178572   27.437143   24.035734   \n",
      "2010-02-01   27.481428   28.000000   27.328571   27.818571   24.369871   \n",
      "2010-02-02   27.987143   28.045713   27.625713   27.980000   24.511295   \n",
      "2010-02-03   27.881428   28.600000   27.774286   28.461428   24.933033   \n",
      "2010-02-04   28.104286   28.338572   27.367144   27.435715   24.034487   \n",
      "2010-02-05   27.518572   28.000000   27.264286   27.922857   24.461227   \n",
      "2010-02-08   27.955715   28.268572   27.714285   27.731428   24.293537   \n",
      "2010-02-09   28.059999   28.214285   27.821428   28.027143   24.552589   \n",
      "2010-02-10   27.984285   28.085714   27.751429   27.874287   24.418684   \n",
      "2010-02-11   27.840000   28.535715   27.722857   28.381428   24.862957   \n",
      "2010-02-12   28.301428   28.805714   27.928572   28.625713   25.076958   \n",
      "...                ...         ...         ...         ...         ...   \n",
      "2019-05-15  186.270004  191.750000  186.020004  190.919998  190.919998   \n",
      "2019-05-16  189.910004  192.470001  188.839996  190.080002  190.080002   \n",
      "2019-05-17  186.929993  190.899994  186.759995  189.000000  189.000000   \n",
      "2019-05-20  183.520004  184.350006  180.279999  183.089996  183.089996   \n",
      "2019-05-21  185.220001  188.000000  184.699997  186.600006  186.600006   \n",
      "2019-05-22  184.660004  185.710007  182.550003  182.779999  182.779999   \n",
      "2019-05-23  179.800003  180.539993  177.809998  179.660004  179.660004   \n",
      "2019-05-24  180.199997  182.139999  178.619995  178.970001  178.970001   \n",
      "2019-05-28  178.919998  180.589996  177.910004  178.229996  178.229996   \n",
      "2019-05-29  176.419998  179.350006  176.000000  177.380005  177.380005   \n",
      "2019-05-30  177.949997  179.229996  176.669998  178.300003  178.300003   \n",
      "2019-05-31  176.229996  177.990005  174.990005  175.070007  175.070007   \n",
      "2019-06-03  175.600006  177.919998  170.270004  173.300003  173.300003   \n",
      "2019-06-04  175.440002  179.830002  174.520004  179.639999  179.639999   \n",
      "2019-06-05  184.279999  184.990005  181.139999  182.539993  182.539993   \n",
      "2019-06-06  183.080002  185.470001  182.149994  185.220001  185.220001   \n",
      "2019-06-07  186.509995  191.919998  185.770004  190.149994  190.149994   \n",
      "2019-06-10  191.809998  195.369995  191.619995  192.580002  192.580002   \n",
      "2019-06-11  194.860001  196.000000  193.600006  194.809998  194.809998   \n",
      "2019-06-12  193.949997  195.970001  193.389999  194.190002  194.190002   \n",
      "2019-06-13  194.699997  196.789993  193.600006  194.149994  194.149994   \n",
      "2019-06-14  191.550003  193.589996  190.300003  192.740005  192.740005   \n",
      "2019-06-17  192.899994  194.960007  192.169998  193.889999  193.889999   \n",
      "2019-06-18  196.050003  200.289993  195.210007  198.449997  198.449997   \n",
      "2019-06-19  199.679993  199.880005  197.309998  197.869995  197.869995   \n",
      "2019-06-20  200.369995  200.610001  198.029999  199.460007  199.460007   \n",
      "2019-06-21  198.800003  200.850006  198.149994  198.779999  198.779999   \n",
      "2019-06-24  198.539993  200.160004  198.169998  198.580002  198.580002   \n",
      "2019-06-25  198.429993  199.259995  195.289993  195.570007  195.570007   \n",
      "2019-06-26  197.770004  200.990005  197.350006  200.000000  200.000000   \n",
      "\n",
      "               Volume  \n",
      "Date                   \n",
      "2009-12-31   88102700  \n",
      "2010-01-04  123432400  \n",
      "2010-01-05  150476200  \n",
      "2010-01-06  138040000  \n",
      "2010-01-07  119282800  \n",
      "2010-01-08  111902700  \n",
      "2010-01-11  115557400  \n",
      "2010-01-12  148614900  \n",
      "2010-01-13  151473000  \n",
      "2010-01-14  108223500  \n",
      "2010-01-15  148516900  \n",
      "2010-01-19  182501900  \n",
      "2010-01-20  153038200  \n",
      "2010-01-21  152038600  \n",
      "2010-01-22  220441900  \n",
      "2010-01-25  266424900  \n",
      "2010-01-26  466777500  \n",
      "2010-01-27  430642100  \n",
      "2010-01-28  293375600  \n",
      "2010-01-29  311488100  \n",
      "2010-02-01  187469100  \n",
      "2010-02-02  174585600  \n",
      "2010-02-03  153832000  \n",
      "2010-02-04  189413000  \n",
      "2010-02-05  212576700  \n",
      "2010-02-08  119567700  \n",
      "2010-02-09  158221700  \n",
      "2010-02-10   92590400  \n",
      "2010-02-11  137586400  \n",
      "2010-02-12  163867200  \n",
      "...               ...  \n",
      "2019-05-15   26544700  \n",
      "2019-05-16   33031400  \n",
      "2019-05-17   32879100  \n",
      "2019-05-20   38612300  \n",
      "2019-05-21   28364800  \n",
      "2019-05-22   29748600  \n",
      "2019-05-23   36529700  \n",
      "2019-05-24   23714700  \n",
      "2019-05-28   27948200  \n",
      "2019-05-29   28481200  \n",
      "2019-05-30   21218400  \n",
      "2019-05-31   27043600  \n",
      "2019-06-03   40396100  \n",
      "2019-06-04   30968000  \n",
      "2019-06-05   29773400  \n",
      "2019-06-06   22526300  \n",
      "2019-06-07   30684400  \n",
      "2019-06-10   26220900  \n",
      "2019-06-11   26932900  \n",
      "2019-06-12   18253200  \n",
      "2019-06-13   21674600  \n",
      "2019-06-14   18761500  \n",
      "2019-06-17   14651700  \n",
      "2019-06-18   26551000  \n",
      "2019-06-19   21124200  \n",
      "2019-06-20   21514000  \n",
      "2019-06-21   47800600  \n",
      "2019-06-24   18220400  \n",
      "2019-06-25   21047200  \n",
      "2019-06-26    7247616  \n",
      "\n",
      "[2387 rows x 6 columns], 'IBM':                   Open        High         Low       Close   Adj Close  \\\n",
      "Date                                                                     \n",
      "2009-12-31  132.410004  132.850006  130.750000  130.899994   98.137283   \n",
      "2010-01-04  131.179993  132.970001  130.850006  132.449997   99.299347   \n",
      "2010-01-05  131.679993  131.850006  130.100006  130.850006   98.099792   \n",
      "2010-01-06  130.679993  131.490005  129.809998  130.000000   97.462532   \n",
      "2010-01-07  129.869995  130.250000  128.910004  129.550003   97.125160   \n",
      "2010-01-08  129.070007  130.919998  129.050003  130.850006   98.099792   \n",
      "2010-01-11  131.059998  131.059998  128.669998  129.479996   97.072685   \n",
      "2010-01-12  129.029999  131.330002  129.000000  130.509995   97.844872   \n",
      "2010-01-13  130.389999  131.119995  129.160004  130.229996   97.634964   \n",
      "2010-01-14  130.550003  132.710007  129.910004  132.309998   99.194389   \n",
      "2010-01-15  132.029999  132.889999  131.089996  131.779999   98.797028   \n",
      "2010-01-19  131.630005  134.250000  131.559998  134.139999  100.566330   \n",
      "2010-01-20  130.460007  131.149994  128.949997  130.250000   97.649979   \n",
      "2010-01-21  130.470001  130.690002  128.059998  129.000000   96.712860   \n",
      "2010-01-22  128.669998  128.889999  125.370003  125.500000   94.088844   \n",
      "2010-01-25  126.330002  126.889999  125.709999  126.120003   94.553688   \n",
      "2010-01-26  125.919998  127.750000  125.410004  125.750000   94.276276   \n",
      "2010-01-27  125.820000  126.959999  125.040001  126.330002   94.711105   \n",
      "2010-01-28  127.029999  127.040001  123.050003  123.750000   92.776848   \n",
      "2010-01-29  124.320000  125.000000  121.900002  122.389999   91.757233   \n",
      "2010-02-01  123.230003  124.949997  122.779999  124.669998   93.466576   \n",
      "2010-02-02  124.790001  125.809998  123.949997  125.529999   94.111336   \n",
      "2010-02-03  125.160004  126.070000  125.070000  125.660004   94.208817   \n",
      "2010-02-04  125.190002  125.440002  122.900002  123.000000   92.214569   \n",
      "2010-02-05  123.040001  123.720001  121.830002  123.519997   92.604401   \n",
      "2010-02-08  123.150002  123.220001  121.739998  121.879997   91.783577   \n",
      "2010-02-09  122.650002  124.199997  122.459999  123.209999   92.785126   \n",
      "2010-02-10  122.940002  123.650002  122.209999  122.809998   92.483902   \n",
      "2010-02-11  122.580002  124.199997  122.059998  123.730003   93.176750   \n",
      "2010-02-12  123.010002  124.050003  121.610001  124.000000   93.380051   \n",
      "...                ...         ...         ...         ...         ...   \n",
      "2019-05-15  132.589996  134.589996  132.369995  134.399994  134.399994   \n",
      "2019-05-16  134.740005  136.110001  134.639999  135.880005  135.880005   \n",
      "2019-05-17  134.679993  135.410004  133.940002  134.320007  134.320007   \n",
      "2019-05-20  133.529999  135.429993  132.929993  135.119995  135.119995   \n",
      "2019-05-21  136.119995  137.059998  135.789993  136.449997  136.449997   \n",
      "2019-05-22  136.000000  136.750000  135.710007  136.350006  136.350006   \n",
      "2019-05-23  135.130005  135.130005  130.440002  132.389999  132.389999   \n",
      "2019-05-24  133.529999  134.250000  131.589996  132.279999  132.279999   \n",
      "2019-05-28  132.130005  132.639999  130.270004  130.460007  130.460007   \n",
      "2019-05-29  130.000000  130.279999  128.320007  129.690002  129.690002   \n",
      "2019-05-30  129.740005  129.970001  128.929993  129.570007  129.570007   \n",
      "2019-05-31  128.440002  128.440002  126.849998  126.989998  126.989998   \n",
      "2019-06-03  127.099998  128.559998  127.059998  128.270004  128.270004   \n",
      "2019-06-04  129.559998  132.740005  129.089996  132.690002  132.690002   \n",
      "2019-06-05  133.380005  133.610001  130.470001  131.490005  131.490005   \n",
      "2019-06-06  132.190002  132.649994  130.899994  132.220001  132.220001   \n",
      "2019-06-07  132.470001  134.720001  132.210007  133.309998  133.309998   \n",
      "2019-06-10  134.380005  135.350006  133.910004  134.740005  134.740005   \n",
      "2019-06-11  135.320007  136.460007  135.050003  135.949997  135.949997   \n",
      "2019-06-12  135.559998  135.940002  134.410004  134.869995  134.869995   \n",
      "2019-06-13  135.130005  136.270004  135.089996  135.759995  135.759995   \n",
      "2019-06-14  135.440002  135.880005  134.429993  135.149994  135.149994   \n",
      "2019-06-17  135.389999  136.029999  134.699997  134.949997  134.949997   \n",
      "2019-06-18  135.199997  137.190002  135.199997  136.380005  136.380005   \n",
      "2019-06-19  136.429993  138.360001  136.240005  137.080002  137.080002   \n",
      "2019-06-20  138.929993  139.539993  138.199997  138.850006  138.850006   \n",
      "2019-06-21  138.440002  139.539993  138.389999  139.199997  139.199997   \n",
      "2019-06-24  139.199997  140.149994  139.050003  139.350006  139.350006   \n",
      "2019-06-25  139.460007  139.550003  138.130005  138.360001  138.360001   \n",
      "2019-06-26  138.869995  139.679993  138.651993  139.369995  139.369995   \n",
      "\n",
      "              Volume  \n",
      "Date                  \n",
      "2009-12-31   4223400  \n",
      "2010-01-04   6155300  \n",
      "2010-01-05   6841400  \n",
      "2010-01-06   5605300  \n",
      "2010-01-07   5840600  \n",
      "2010-01-08   4197200  \n",
      "2010-01-11   5730400  \n",
      "2010-01-12   8081500  \n",
      "2010-01-13   6455400  \n",
      "2010-01-14   7111800  \n",
      "2010-01-15   8494400  \n",
      "2010-01-19  13916200  \n",
      "2010-01-20  15197500  \n",
      "2010-01-21   9608600  \n",
      "2010-01-22  10088600  \n",
      "2010-01-25   5738500  \n",
      "2010-01-26   7135300  \n",
      "2010-01-27   8719200  \n",
      "2010-01-28   9622200  \n",
      "2010-01-29  11571200  \n",
      "2010-02-01   7242900  \n",
      "2010-02-02   5899900  \n",
      "2010-02-03   4177100  \n",
      "2010-02-04   9126900  \n",
      "2010-02-05   8617000  \n",
      "2010-02-08   5718500  \n",
      "2010-02-09   6044500  \n",
      "2010-02-10   5219100  \n",
      "2010-02-11   5089000  \n",
      "2010-02-12   8017700  \n",
      "...              ...  \n",
      "2019-05-15   2551000  \n",
      "2019-05-16   3017300  \n",
      "2019-05-17   2619100  \n",
      "2019-05-20   3264500  \n",
      "2019-05-21   2503500  \n",
      "2019-05-22   1849800  \n",
      "2019-05-23   5343400  \n",
      "2019-05-24   2596100  \n",
      "2019-05-28   4908800  \n",
      "2019-05-29   3679000  \n",
      "2019-05-30   2741900  \n",
      "2019-05-31   3539300  \n",
      "2019-06-03   4266900  \n",
      "2019-06-04   3913500  \n",
      "2019-06-05   3161300  \n",
      "2019-06-06   2298200  \n",
      "2019-06-07   2553400  \n",
      "2019-06-10   2911300  \n",
      "2019-06-11   3407300  \n",
      "2019-06-12   2254700  \n",
      "2019-06-13   2955300  \n",
      "2019-06-14   2193300  \n",
      "2019-06-17   2194100  \n",
      "2019-06-18   2914700  \n",
      "2019-06-19   2382400  \n",
      "2019-06-20   3071000  \n",
      "2019-06-21   5288700  \n",
      "2019-06-24   2186000  \n",
      "2019-06-25   2801200  \n",
      "2019-06-26    372574  \n",
      "\n",
      "[2387 rows x 6 columns], 'MSFT':                   Open        High         Low       Close   Adj Close  \\\n",
      "Date                                                                     \n",
      "2009-12-31   30.980000   30.990000   30.480000   30.480000   24.152580   \n",
      "2010-01-04   30.620001   31.100000   30.590000   30.950001   24.525019   \n",
      "2010-01-05   30.850000   31.100000   30.639999   30.959999   24.532942   \n",
      "2010-01-06   30.879999   31.080000   30.520000   30.770000   24.382378   \n",
      "2010-01-07   30.629999   30.700001   30.190001   30.450001   24.128809   \n",
      "2010-01-08   30.280001   30.879999   30.240000   30.660000   24.295214   \n",
      "2010-01-11   30.709999   30.760000   30.120001   30.270000   23.986179   \n",
      "2010-01-12   30.150000   30.400000   29.910000   30.070000   23.827694   \n",
      "2010-01-13   30.260000   30.520000   30.010000   30.350000   24.049570   \n",
      "2010-01-14   30.309999   31.100000   30.260000   30.959999   24.532942   \n",
      "2010-01-15   31.080000   31.240000   30.709999   30.860001   24.453693   \n",
      "2010-01-19   30.750000   31.240000   30.680000   31.100000   24.643881   \n",
      "2010-01-20   30.809999   30.940001   30.309999   30.590000   24.239746   \n",
      "2010-01-21   30.610001   30.719999   30.000000   30.010000   23.780155   \n",
      "2010-01-22   30.000000   30.200001   28.840000   28.959999   22.948128   \n",
      "2010-01-25   29.240000   29.660000   29.100000   29.320000   23.233395   \n",
      "2010-01-26   29.200001   29.850000   29.090000   29.500000   23.376024   \n",
      "2010-01-27   29.350000   29.820000   29.020000   29.670000   23.510740   \n",
      "2010-01-28   29.840000   29.870001   28.889999   29.160000   23.106604   \n",
      "2010-01-29   29.900000   29.920000   27.660000   28.180000   22.330048   \n",
      "2010-02-01   28.389999   28.480000   27.920000   28.410000   22.512297   \n",
      "2010-02-02   28.370001   28.500000   28.139999   28.459999   22.551926   \n",
      "2010-02-03   28.260000   28.790001   28.120001   28.629999   22.686628   \n",
      "2010-02-04   28.379999   28.500000   27.809999   27.840000   22.060629   \n",
      "2010-02-05   28.000000   28.280001   27.570000   28.020000   22.203266   \n",
      "2010-02-08   28.010000   28.080000   27.570000   27.719999   21.965540   \n",
      "2010-02-09   27.969999   28.340000   27.750000   28.010000   22.195339   \n",
      "2010-02-10   28.030001   28.240000   27.840000   27.990000   22.179491   \n",
      "2010-02-11   27.930000   28.400000   27.700001   28.120001   22.282507   \n",
      "2010-02-12   27.809999   28.059999   27.580000   27.930000   22.131947   \n",
      "...                ...         ...         ...         ...         ...   \n",
      "2019-05-15  124.260002  126.709999  123.699997  126.019997  126.019997   \n",
      "2019-05-16  126.750000  129.380005  126.459999  128.929993  128.929993   \n",
      "2019-05-17  128.309998  130.460007  127.919998  128.070007  128.070007   \n",
      "2019-05-20  126.519997  127.589996  125.760002  126.220001  126.220001   \n",
      "2019-05-21  127.430000  127.529999  126.580002  126.900002  126.900002   \n",
      "2019-05-22  126.620003  128.240005  126.519997  127.669998  127.669998   \n",
      "2019-05-23  126.199997  126.290001  124.739998  126.180000  126.180000   \n",
      "2019-05-24  126.910004  127.419998  125.970001  126.239998  126.239998   \n",
      "2019-05-28  126.980003  128.000000  126.050003  126.160004  126.160004   \n",
      "2019-05-29  125.379997  125.389999  124.040001  124.940002  124.940002   \n",
      "2019-05-30  125.260002  125.760002  124.779999  125.730003  125.730003   \n",
      "2019-05-31  124.230003  124.620003  123.320000  123.680000  123.680000   \n",
      "2019-06-03  123.849998  124.370003  119.010002  119.839996  119.839996   \n",
      "2019-06-04  121.279999  123.279999  120.650002  123.160004  123.160004   \n",
      "2019-06-05  124.949997  125.870003  124.209999  125.830002  125.830002   \n",
      "2019-06-06  126.440002  127.970001  125.599998  127.820000  127.820000   \n",
      "2019-06-07  129.190002  132.250000  128.259995  131.399994  131.399994   \n",
      "2019-06-10  132.399994  134.080002  132.000000  132.600006  132.600006   \n",
      "2019-06-11  133.880005  134.240005  131.279999  132.100006  132.100006   \n",
      "2019-06-12  131.399994  131.970001  130.710007  131.490005  131.490005   \n",
      "2019-06-13  131.979996  133.000000  131.559998  132.320007  132.320007   \n",
      "2019-06-14  132.259995  133.789993  131.639999  132.449997  132.449997   \n",
      "2019-06-17  132.630005  133.729996  132.529999  132.850006  132.850006   \n",
      "2019-06-18  134.190002  135.240005  133.570007  135.160004  135.160004   \n",
      "2019-06-19  135.000000  135.929993  133.809998  135.690002  135.690002   \n",
      "2019-06-20  137.449997  137.660004  135.720001  136.949997  136.949997   \n",
      "2019-06-21  136.580002  137.729996  136.460007  136.970001  136.970001   \n",
      "2019-06-24  137.000000  138.399994  137.000000  137.779999  137.779999   \n",
      "2019-06-25  137.250000  137.589996  132.729996  133.429993  133.429993   \n",
      "2019-06-26  134.350006  135.729996  134.360001  134.789993  134.789993   \n",
      "\n",
      "               Volume  \n",
      "Date                   \n",
      "2009-12-31   31929700  \n",
      "2010-01-04   38409100  \n",
      "2010-01-05   49749600  \n",
      "2010-01-06   58182400  \n",
      "2010-01-07   50559700  \n",
      "2010-01-08   51197400  \n",
      "2010-01-11   68754700  \n",
      "2010-01-12   65912100  \n",
      "2010-01-13   51863500  \n",
      "2010-01-14   63228100  \n",
      "2010-01-15   79913200  \n",
      "2010-01-19   46575700  \n",
      "2010-01-20   54849500  \n",
      "2010-01-21   73086700  \n",
      "2010-01-22  102004600  \n",
      "2010-01-25   63373000  \n",
      "2010-01-26   66639900  \n",
      "2010-01-27   63949500  \n",
      "2010-01-28  117513700  \n",
      "2010-01-29  193888500  \n",
      "2010-02-01   85931100  \n",
      "2010-02-02   54413700  \n",
      "2010-02-03   61397900  \n",
      "2010-02-04   77850000  \n",
      "2010-02-05   80960100  \n",
      "2010-02-08   52820600  \n",
      "2010-02-09   59195800  \n",
      "2010-02-10   48591300  \n",
      "2010-02-11   65993700  \n",
      "2010-02-12   81117200  \n",
      "...               ...  \n",
      "2019-05-15   24722700  \n",
      "2019-05-16   30112200  \n",
      "2019-05-17   25770500  \n",
      "2019-05-20   23706900  \n",
      "2019-05-21   15293300  \n",
      "2019-05-22   15396500  \n",
      "2019-05-23   23603800  \n",
      "2019-05-24   14123400  \n",
      "2019-05-28   23128400  \n",
      "2019-05-29   22763100  \n",
      "2019-05-30   16829600  \n",
      "2019-05-31   26646800  \n",
      "2019-06-03   37983600  \n",
      "2019-06-04   29382600  \n",
      "2019-06-05   24926100  \n",
      "2019-06-06   21459000  \n",
      "2019-06-07   33885600  \n",
      "2019-06-10   26477100  \n",
      "2019-06-11   23913700  \n",
      "2019-06-12   17092500  \n",
      "2019-06-13   17200800  \n",
      "2019-06-14   17821700  \n",
      "2019-06-17   14496200  \n",
      "2019-06-18   25934500  \n",
      "2019-06-19   23744400  \n",
      "2019-06-20   33042600  \n",
      "2019-06-21   36727900  \n",
      "2019-06-24   20628800  \n",
      "2019-06-25   33301500  \n",
      "2019-06-26    5443929  \n",
      "\n",
      "[2387 rows x 6 columns], 'GOOG':                    Open         High          Low        Close    Adj Close  \\\n",
      "Date                                                                          \n",
      "2009-12-31   310.356445   310.679321   307.986847   307.986847   307.986847   \n",
      "2010-01-04   311.449310   312.721039   310.103088   311.349976   311.349976   \n",
      "2010-01-05   311.563568   311.891449   308.761810   309.978882   309.978882   \n",
      "2010-01-06   310.907837   310.907837   301.220856   302.164703   302.164703   \n",
      "2010-01-07   302.731018   303.029083   294.410156   295.130463   295.130463   \n",
      "2010-01-08   294.087250   299.675903   292.651581   299.064880   299.064880   \n",
      "2010-01-11   300.276978   300.276978   295.100647   298.612823   298.612823   \n",
      "2010-01-12   296.893982   297.147339   292.100159   293.332153   293.332153   \n",
      "2010-01-13   286.382355   292.288940   285.095734   291.648102   291.648102   \n",
      "2010-01-14   290.063416   295.180145   289.521942   293.019196   293.019196   \n",
      "2010-01-15   294.752930   294.862213   287.152344   288.126007   288.126007   \n",
      "2010-01-19   288.722137   293.302338   286.283020   291.911407   291.911407   \n",
      "2010-01-20   291.096710   291.096710   285.786224   288.329681   288.329681   \n",
      "2010-01-21   289.834900   291.513977   284.276062   289.606384   289.606384   \n",
      "2010-01-22   280.426086   283.456390   265.701874   273.227905   273.227905   \n",
      "2010-01-25   271.528961   273.163330   266.024780   268.255249   268.255249   \n",
      "2010-01-26   267.246826   273.024231   266.412231   269.457428   269.457428   \n",
      "2010-01-27   268.886169   272.055542   265.925415   269.298462   269.298462   \n",
      "2010-01-28   270.485748   271.732635   263.585632   265.418701   265.418701   \n",
      "2010-01-29   267.505127   268.747070   261.106750   263.257751   263.257751   \n",
      "2010-02-01   265.572693   266.173798   263.436584   264.787811   264.787811   \n",
      "2010-02-02   265.751556   265.751556   262.100281   263.843964   263.843964   \n",
      "2010-02-03   262.626862   269.298462   262.408295   268.662598   268.662598   \n",
      "2010-02-04   266.764954   267.261719   261.081909   261.687958   261.687958   \n",
      "2010-02-05   262.492737   265.026245   259.541931   263.928406   263.928406   \n",
      "2010-02-08   264.529480   269.248810   264.047638   265.011353   265.011353   \n",
      "2010-02-09   268.026733   269.015320   265.806183   266.486755   266.486755   \n",
      "2010-02-10   265.309418   267.157410   262.140045   265.498199   265.498199   \n",
      "2010-02-11   264.936829   268.498688   263.039185   266.466888   266.466888   \n",
      "2010-02-12   264.762970   266.839478   263.535950   264.837494   264.837494   \n",
      "...                 ...          ...          ...          ...          ...   \n",
      "2019-05-15  1117.869995  1171.329956  1116.666016  1164.209961  1164.209961   \n",
      "2019-05-16  1164.510010  1188.160034  1162.839966  1178.979980  1178.979980   \n",
      "2019-05-17  1168.469971  1180.150024  1160.010010  1162.300049  1162.300049   \n",
      "2019-05-20  1144.500000  1146.796997  1131.442993  1138.849976  1138.849976   \n",
      "2019-05-21  1148.489990  1152.708008  1137.939941  1149.630005  1149.630005   \n",
      "2019-05-22  1146.750000  1158.520020  1145.890015  1151.420044  1151.420044   \n",
      "2019-05-23  1140.500000  1145.973022  1129.223999  1140.770020  1140.770020   \n",
      "2019-05-24  1147.359985  1149.765015  1131.660034  1133.469971  1133.469971   \n",
      "2019-05-28  1134.000000  1151.587036  1133.119995  1134.150024  1134.150024   \n",
      "2019-05-29  1127.520020  1129.099976  1108.219971  1116.459961  1116.459961   \n",
      "2019-05-30  1115.540039  1123.130005  1112.119995  1117.949951  1117.949951   \n",
      "2019-05-31  1101.290039  1109.599976  1100.180054  1103.630005  1103.630005   \n",
      "2019-06-03  1065.500000  1065.500000  1025.000000  1036.229980  1036.229980   \n",
      "2019-06-04  1042.900024  1056.050049  1033.689941  1053.050049  1053.050049   \n",
      "2019-06-05  1051.540039  1053.550049  1030.489990  1042.219971  1042.219971   \n",
      "2019-06-06  1044.989990  1047.489990  1033.699951  1044.339966  1044.339966   \n",
      "2019-06-07  1050.630005  1070.920044  1048.400024  1066.040039  1066.040039   \n",
      "2019-06-10  1072.979980  1092.660034  1072.322021  1080.380005  1080.380005   \n",
      "2019-06-11  1093.979980  1101.989990  1077.603027  1078.719971  1078.719971   \n",
      "2019-06-12  1078.000000  1080.930054  1067.540039  1077.030029  1077.030029   \n",
      "2019-06-13  1083.640015  1094.170044  1080.150024  1088.770020  1088.770020   \n",
      "2019-06-14  1086.420044  1092.689941  1080.171997  1085.349976  1085.349976   \n",
      "2019-06-17  1086.280029  1099.180054  1086.280029  1092.500000  1092.500000   \n",
      "2019-06-18  1109.689941  1116.390015  1098.989990  1103.599976  1103.599976   \n",
      "2019-06-19  1105.599976  1107.000000  1093.479980  1102.329956  1102.329956   \n",
      "2019-06-20  1119.989990  1120.119995  1104.739990  1111.420044  1111.420044   \n",
      "2019-06-21  1109.239990  1124.109985  1108.079956  1121.880005  1121.880005   \n",
      "2019-06-24  1119.609985  1122.000000  1111.010010  1115.520020  1115.520020   \n",
      "2019-06-25  1112.660034  1114.349976  1083.800049  1086.349976  1086.349976   \n",
      "2019-06-26  1086.500000  1092.810059  1084.540039  1087.290039  1087.290039   \n",
      "\n",
      "              Volume  \n",
      "Date                  \n",
      "2009-12-31   2455400  \n",
      "2010-01-04   3937800  \n",
      "2010-01-05   6048500  \n",
      "2010-01-06   8009000  \n",
      "2010-01-07  12912000  \n",
      "2010-01-08   9509900  \n",
      "2010-01-11  14519600  \n",
      "2010-01-12   9769600  \n",
      "2010-01-13  13077600  \n",
      "2010-01-14   8535300  \n",
      "2010-01-15  10939600  \n",
      "2010-01-19   8689500  \n",
      "2010-01-20   6543600  \n",
      "2010-01-21  12697400  \n",
      "2010-01-22  13689200  \n",
      "2010-01-25   8897200  \n",
      "2010-01-26   8767600  \n",
      "2010-01-27   7980200  \n",
      "2010-01-28   6500100  \n",
      "2010-01-29   8334700  \n",
      "2010-02-01   4530800  \n",
      "2010-02-02   8245600  \n",
      "2010-02-03   6037000  \n",
      "2010-02-04   6799200  \n",
      "2010-02-05   6353000  \n",
      "2010-02-08   5423500  \n",
      "2010-02-09   5675700  \n",
      "2010-02-10   5383700  \n",
      "2010-02-11   4851300  \n",
      "2010-02-12   4589000  \n",
      "...              ...  \n",
      "2019-05-15   2289300  \n",
      "2019-05-16   1531400  \n",
      "2019-05-17   1208600  \n",
      "2019-05-20   1353300  \n",
      "2019-05-21   1159800  \n",
      "2019-05-22    914500  \n",
      "2019-05-23   1198900  \n",
      "2019-05-24   1112000  \n",
      "2019-05-28   1365000  \n",
      "2019-05-29   1538200  \n",
      "2019-05-30    951900  \n",
      "2019-05-31   1507800  \n",
      "2019-06-03   5130600  \n",
      "2019-06-04   2833500  \n",
      "2019-06-05   2168400  \n",
      "2019-06-06   1703200  \n",
      "2019-06-07   1802400  \n",
      "2019-06-10   1464200  \n",
      "2019-06-11   1436700  \n",
      "2019-06-12   1061000  \n",
      "2019-06-13   1057700  \n",
      "2019-06-14   1111500  \n",
      "2019-06-17    941600  \n",
      "2019-06-18   1386700  \n",
      "2019-06-19   1338800  \n",
      "2019-06-20   1262000  \n",
      "2019-06-21   1947600  \n",
      "2019-06-24   1395600  \n",
      "2019-06-25   1546300  \n",
      "2019-06-26    367636  \n",
      "\n",
      "[2387 rows x 6 columns]}\n"
     ]
    }
   ],
   "source": [
    "print(all_data)"
   ]
  },
  {
   "cell_type": "code",
   "execution_count": 126,
   "metadata": {
    "collapsed": true
   },
   "outputs": [],
   "source": [
    "price = pd.DataFrame({ticker:data['Adj Close'] for ticker, data in all_data.items()})"
   ]
  },
  {
   "cell_type": "code",
   "execution_count": null,
   "metadata": {
    "collapsed": true
   },
   "outputs": [],
   "source": [
    "volume = pd.DataFrame(ticker:data['Volume'] for ticker, data in all_data.items())"
   ]
  },
  {
   "cell_type": "code",
   "execution_count": null,
   "metadata": {
    "collapsed": true
   },
   "outputs": [],
   "source": [
    "returns = price.pct_change()"
   ]
  },
  {
   "cell_type": "code",
   "execution_count": 128,
   "metadata": {},
   "outputs": [
    {
     "ename": "NameError",
     "evalue": "name 'returns' is not defined",
     "output_type": "error",
     "traceback": [
      "\u001b[0;31m---------------------------------------------------------------------------\u001b[0m",
      "\u001b[0;31mNameError\u001b[0m                                 Traceback (most recent call last)",
      "\u001b[0;32m<ipython-input-128-5ed4b9479364>\u001b[0m in \u001b[0;36m<module>\u001b[0;34m()\u001b[0m\n\u001b[0;32m----> 1\u001b[0;31m \u001b[0mreturns\u001b[0m\u001b[0;34m.\u001b[0m\u001b[0mtail\u001b[0m\u001b[0;34m(\u001b[0m\u001b[0;34m)\u001b[0m\u001b[0;34m\u001b[0m\u001b[0m\n\u001b[0m",
      "\u001b[0;31mNameError\u001b[0m: name 'returns' is not defined"
     ]
    }
   ],
   "source": [
    "returns.tail()"
   ]
  },
  {
   "cell_type": "code",
   "execution_count": 129,
   "metadata": {},
   "outputs": [
    {
     "ename": "NameError",
     "evalue": "name 'returns' is not defined",
     "output_type": "error",
     "traceback": [
      "\u001b[0;31m---------------------------------------------------------------------------\u001b[0m",
      "\u001b[0;31mNameError\u001b[0m                                 Traceback (most recent call last)",
      "\u001b[0;32m<ipython-input-129-5ed4b9479364>\u001b[0m in \u001b[0;36m<module>\u001b[0;34m()\u001b[0m\n\u001b[0;32m----> 1\u001b[0;31m \u001b[0mreturns\u001b[0m\u001b[0;34m.\u001b[0m\u001b[0mtail\u001b[0m\u001b[0;34m(\u001b[0m\u001b[0;34m)\u001b[0m\u001b[0;34m\u001b[0m\u001b[0m\n\u001b[0m",
      "\u001b[0;31mNameError\u001b[0m: name 'returns' is not defined"
     ]
    }
   ],
   "source": [
    "returns.tail()"
   ]
  },
  {
   "cell_type": "code",
   "execution_count": 130,
   "metadata": {},
   "outputs": [
    {
     "ename": "NameError",
     "evalue": "name 'returns' is not defined",
     "output_type": "error",
     "traceback": [
      "\u001b[0;31m---------------------------------------------------------------------------\u001b[0m",
      "\u001b[0;31mNameError\u001b[0m                                 Traceback (most recent call last)",
      "\u001b[0;32m<ipython-input-130-b7c222116d83>\u001b[0m in \u001b[0;36m<module>\u001b[0;34m()\u001b[0m\n\u001b[0;32m----> 1\u001b[0;31m \u001b[0mreturns\u001b[0m\u001b[0;34m\u001b[0m\u001b[0m\n\u001b[0m",
      "\u001b[0;31mNameError\u001b[0m: name 'returns' is not defined"
     ]
    }
   ],
   "source": [
    "returns"
   ]
  },
  {
   "cell_type": "code",
   "execution_count": 131,
   "metadata": {
    "collapsed": true
   },
   "outputs": [],
   "source": [
    "returns = price.pct_change()"
   ]
  },
  {
   "cell_type": "code",
   "execution_count": 132,
   "metadata": {},
   "outputs": [
    {
     "data": {
      "text/html": [
       "<div>\n",
       "<style>\n",
       "    .dataframe thead tr:only-child th {\n",
       "        text-align: right;\n",
       "    }\n",
       "\n",
       "    .dataframe thead th {\n",
       "        text-align: left;\n",
       "    }\n",
       "\n",
       "    .dataframe tbody tr th {\n",
       "        vertical-align: top;\n",
       "    }\n",
       "</style>\n",
       "<table border=\"1\" class=\"dataframe\">\n",
       "  <thead>\n",
       "    <tr style=\"text-align: right;\">\n",
       "      <th></th>\n",
       "      <th>AAPL</th>\n",
       "      <th>GOOG</th>\n",
       "      <th>IBM</th>\n",
       "      <th>MSFT</th>\n",
       "    </tr>\n",
       "    <tr>\n",
       "      <th>Date</th>\n",
       "      <th></th>\n",
       "      <th></th>\n",
       "      <th></th>\n",
       "      <th></th>\n",
       "    </tr>\n",
       "  </thead>\n",
       "  <tbody>\n",
       "    <tr>\n",
       "      <th>2019-06-20</th>\n",
       "      <td>0.008036</td>\n",
       "      <td>0.008246</td>\n",
       "      <td>0.012912</td>\n",
       "      <td>0.009286</td>\n",
       "    </tr>\n",
       "    <tr>\n",
       "      <th>2019-06-21</th>\n",
       "      <td>-0.003409</td>\n",
       "      <td>0.009411</td>\n",
       "      <td>0.002521</td>\n",
       "      <td>0.000146</td>\n",
       "    </tr>\n",
       "    <tr>\n",
       "      <th>2019-06-24</th>\n",
       "      <td>-0.001006</td>\n",
       "      <td>-0.005669</td>\n",
       "      <td>0.001078</td>\n",
       "      <td>0.005914</td>\n",
       "    </tr>\n",
       "    <tr>\n",
       "      <th>2019-06-25</th>\n",
       "      <td>-0.015158</td>\n",
       "      <td>-0.026149</td>\n",
       "      <td>-0.007104</td>\n",
       "      <td>-0.031572</td>\n",
       "    </tr>\n",
       "    <tr>\n",
       "      <th>2019-06-26</th>\n",
       "      <td>0.022652</td>\n",
       "      <td>0.000865</td>\n",
       "      <td>0.007300</td>\n",
       "      <td>0.010193</td>\n",
       "    </tr>\n",
       "  </tbody>\n",
       "</table>\n",
       "</div>"
      ],
      "text/plain": [
       "                AAPL      GOOG       IBM      MSFT\n",
       "Date                                              \n",
       "2019-06-20  0.008036  0.008246  0.012912  0.009286\n",
       "2019-06-21 -0.003409  0.009411  0.002521  0.000146\n",
       "2019-06-24 -0.001006 -0.005669  0.001078  0.005914\n",
       "2019-06-25 -0.015158 -0.026149 -0.007104 -0.031572\n",
       "2019-06-26  0.022652  0.000865  0.007300  0.010193"
      ]
     },
     "execution_count": 132,
     "metadata": {},
     "output_type": "execute_result"
    }
   ],
   "source": [
    "returns.tail()"
   ]
  },
  {
   "cell_type": "code",
   "execution_count": 133,
   "metadata": {},
   "outputs": [
    {
     "data": {
      "text/plain": [
       "0.4871374708752565"
      ]
     },
     "execution_count": 133,
     "metadata": {},
     "output_type": "execute_result"
    }
   ],
   "source": [
    "returns['MSFT'].corr(returns['IBM'])"
   ]
  },
  {
   "cell_type": "code",
   "execution_count": 134,
   "metadata": {},
   "outputs": [
    {
     "data": {
      "text/html": [
       "<div>\n",
       "<style>\n",
       "    .dataframe thead tr:only-child th {\n",
       "        text-align: right;\n",
       "    }\n",
       "\n",
       "    .dataframe thead th {\n",
       "        text-align: left;\n",
       "    }\n",
       "\n",
       "    .dataframe tbody tr th {\n",
       "        vertical-align: top;\n",
       "    }\n",
       "</style>\n",
       "<table border=\"1\" class=\"dataframe\">\n",
       "  <thead>\n",
       "    <tr style=\"text-align: right;\">\n",
       "      <th></th>\n",
       "      <th>AAPL</th>\n",
       "      <th>GOOG</th>\n",
       "      <th>IBM</th>\n",
       "      <th>MSFT</th>\n",
       "    </tr>\n",
       "  </thead>\n",
       "  <tbody>\n",
       "    <tr>\n",
       "      <th>AAPL</th>\n",
       "      <td>1.000000</td>\n",
       "      <td>0.460953</td>\n",
       "      <td>0.379530</td>\n",
       "      <td>0.453246</td>\n",
       "    </tr>\n",
       "    <tr>\n",
       "      <th>GOOG</th>\n",
       "      <td>0.460953</td>\n",
       "      <td>1.000000</td>\n",
       "      <td>0.403088</td>\n",
       "      <td>0.537985</td>\n",
       "    </tr>\n",
       "    <tr>\n",
       "      <th>IBM</th>\n",
       "      <td>0.379530</td>\n",
       "      <td>0.403088</td>\n",
       "      <td>1.000000</td>\n",
       "      <td>0.487137</td>\n",
       "    </tr>\n",
       "    <tr>\n",
       "      <th>MSFT</th>\n",
       "      <td>0.453246</td>\n",
       "      <td>0.537985</td>\n",
       "      <td>0.487137</td>\n",
       "      <td>1.000000</td>\n",
       "    </tr>\n",
       "  </tbody>\n",
       "</table>\n",
       "</div>"
      ],
      "text/plain": [
       "          AAPL      GOOG       IBM      MSFT\n",
       "AAPL  1.000000  0.460953  0.379530  0.453246\n",
       "GOOG  0.460953  1.000000  0.403088  0.537985\n",
       "IBM   0.379530  0.403088  1.000000  0.487137\n",
       "MSFT  0.453246  0.537985  0.487137  1.000000"
      ]
     },
     "execution_count": 134,
     "metadata": {},
     "output_type": "execute_result"
    }
   ],
   "source": [
    "returns.corr()"
   ]
  },
  {
   "cell_type": "code",
   "execution_count": 135,
   "metadata": {},
   "outputs": [
    {
     "data": {
      "text/html": [
       "<div>\n",
       "<style>\n",
       "    .dataframe thead tr:only-child th {\n",
       "        text-align: right;\n",
       "    }\n",
       "\n",
       "    .dataframe thead th {\n",
       "        text-align: left;\n",
       "    }\n",
       "\n",
       "    .dataframe tbody tr th {\n",
       "        vertical-align: top;\n",
       "    }\n",
       "</style>\n",
       "<table border=\"1\" class=\"dataframe\">\n",
       "  <thead>\n",
       "    <tr style=\"text-align: right;\">\n",
       "      <th></th>\n",
       "      <th>AAPL</th>\n",
       "      <th>GOOG</th>\n",
       "      <th>IBM</th>\n",
       "      <th>MSFT</th>\n",
       "    </tr>\n",
       "  </thead>\n",
       "  <tbody>\n",
       "    <tr>\n",
       "      <th>AAPL</th>\n",
       "      <td>0.000266</td>\n",
       "      <td>0.000116</td>\n",
       "      <td>0.000076</td>\n",
       "      <td>0.000107</td>\n",
       "    </tr>\n",
       "    <tr>\n",
       "      <th>GOOG</th>\n",
       "      <td>0.000116</td>\n",
       "      <td>0.000239</td>\n",
       "      <td>0.000077</td>\n",
       "      <td>0.000120</td>\n",
       "    </tr>\n",
       "    <tr>\n",
       "      <th>IBM</th>\n",
       "      <td>0.000076</td>\n",
       "      <td>0.000077</td>\n",
       "      <td>0.000152</td>\n",
       "      <td>0.000087</td>\n",
       "    </tr>\n",
       "    <tr>\n",
       "      <th>MSFT</th>\n",
       "      <td>0.000107</td>\n",
       "      <td>0.000120</td>\n",
       "      <td>0.000087</td>\n",
       "      <td>0.000209</td>\n",
       "    </tr>\n",
       "  </tbody>\n",
       "</table>\n",
       "</div>"
      ],
      "text/plain": [
       "          AAPL      GOOG       IBM      MSFT\n",
       "AAPL  0.000266  0.000116  0.000076  0.000107\n",
       "GOOG  0.000116  0.000239  0.000077  0.000120\n",
       "IBM   0.000076  0.000077  0.000152  0.000087\n",
       "MSFT  0.000107  0.000120  0.000087  0.000209"
      ]
     },
     "execution_count": 135,
     "metadata": {},
     "output_type": "execute_result"
    }
   ],
   "source": [
    "returns.cov()"
   ]
  },
  {
   "cell_type": "code",
   "execution_count": 137,
   "metadata": {},
   "outputs": [
    {
     "ename": "NameError",
     "evalue": "name 'volume' is not defined",
     "output_type": "error",
     "traceback": [
      "\u001b[0;31m---------------------------------------------------------------------------\u001b[0m",
      "\u001b[0;31mNameError\u001b[0m                                 Traceback (most recent call last)",
      "\u001b[0;32m<ipython-input-137-e1565ff1e365>\u001b[0m in \u001b[0;36m<module>\u001b[0;34m()\u001b[0m\n\u001b[0;32m----> 1\u001b[0;31m \u001b[0mreturns\u001b[0m\u001b[0;34m.\u001b[0m\u001b[0mcorrwith\u001b[0m\u001b[0;34m(\u001b[0m\u001b[0mvolume\u001b[0m\u001b[0;34m)\u001b[0m\u001b[0;34m\u001b[0m\u001b[0m\n\u001b[0m",
      "\u001b[0;31mNameError\u001b[0m: name 'volume' is not defined"
     ]
    }
   ],
   "source": [
    "returns.corrwith(volume)"
   ]
  },
  {
   "cell_type": "code",
   "execution_count": 138,
   "metadata": {
    "collapsed": true
   },
   "outputs": [],
   "source": [
    "obj = pd.Series(['c','a','d','a','a','b','b','c','c'])"
   ]
  },
  {
   "cell_type": "code",
   "execution_count": 139,
   "metadata": {
    "collapsed": true
   },
   "outputs": [],
   "source": [
    "uniques = obj.unique()"
   ]
  },
  {
   "cell_type": "code",
   "execution_count": 140,
   "metadata": {},
   "outputs": [
    {
     "data": {
      "text/plain": [
       "array(['c', 'a', 'd', 'b'], dtype=object)"
      ]
     },
     "execution_count": 140,
     "metadata": {},
     "output_type": "execute_result"
    }
   ],
   "source": [
    "uniques"
   ]
  },
  {
   "cell_type": "code",
   "execution_count": 141,
   "metadata": {},
   "outputs": [
    {
     "data": {
      "text/plain": [
       "c    3\n",
       "a    3\n",
       "b    2\n",
       "d    1\n",
       "dtype: int64"
      ]
     },
     "execution_count": 141,
     "metadata": {},
     "output_type": "execute_result"
    }
   ],
   "source": [
    "obj.value_counts()"
   ]
  },
  {
   "cell_type": "code",
   "execution_count": 142,
   "metadata": {},
   "outputs": [
    {
     "data": {
      "text/plain": [
       "a    3\n",
       "d    1\n",
       "b    2\n",
       "c    3\n",
       "dtype: int64"
      ]
     },
     "execution_count": 142,
     "metadata": {},
     "output_type": "execute_result"
    }
   ],
   "source": [
    "pd.value_counts(obj.values,sort=False)"
   ]
  },
  {
   "cell_type": "code",
   "execution_count": 143,
   "metadata": {},
   "outputs": [
    {
     "data": {
      "text/plain": [
       "0    c\n",
       "1    a\n",
       "2    d\n",
       "3    a\n",
       "4    a\n",
       "5    b\n",
       "6    b\n",
       "7    c\n",
       "8    c\n",
       "dtype: object"
      ]
     },
     "execution_count": 143,
     "metadata": {},
     "output_type": "execute_result"
    }
   ],
   "source": [
    "obj"
   ]
  },
  {
   "cell_type": "code",
   "execution_count": 144,
   "metadata": {
    "collapsed": true
   },
   "outputs": [],
   "source": [
    "mask = obj.isin(['b','c'])"
   ]
  },
  {
   "cell_type": "markdown",
   "metadata": {},
   "source": [
    "mask"
   ]
  },
  {
   "cell_type": "code",
   "execution_count": 145,
   "metadata": {},
   "outputs": [
    {
     "data": {
      "text/plain": [
       "0     True\n",
       "1    False\n",
       "2    False\n",
       "3    False\n",
       "4    False\n",
       "5     True\n",
       "6     True\n",
       "7     True\n",
       "8     True\n",
       "dtype: bool"
      ]
     },
     "execution_count": 145,
     "metadata": {},
     "output_type": "execute_result"
    }
   ],
   "source": [
    "mask"
   ]
  },
  {
   "cell_type": "code",
   "execution_count": 146,
   "metadata": {
    "collapsed": true
   },
   "outputs": [],
   "source": [
    "to_match = pd.Series(['c','a','b','b','e','a'])"
   ]
  },
  {
   "cell_type": "code",
   "execution_count": 147,
   "metadata": {
    "collapsed": true
   },
   "outputs": [],
   "source": [
    "unq = pd.Series(['c','b','a'])"
   ]
  },
  {
   "cell_type": "code",
   "execution_count": 148,
   "metadata": {},
   "outputs": [
    {
     "data": {
      "text/plain": [
       "array([ 0,  2,  1,  1, -1,  2])"
      ]
     },
     "execution_count": 148,
     "metadata": {},
     "output_type": "execute_result"
    }
   ],
   "source": [
    "pd.Index(unq).get_indexer(to_match)"
   ]
  },
  {
   "cell_type": "code",
   "execution_count": 149,
   "metadata": {
    "collapsed": true
   },
   "outputs": [],
   "source": [
    "data = pd.DataFrame({'q1':[1,3,4,5,6]},{'q2':[2,3,4,6,2]},{'q3':[1,5,4,2,1]})"
   ]
  },
  {
   "cell_type": "code",
   "execution_count": 150,
   "metadata": {},
   "outputs": [
    {
     "data": {
      "text/html": [
       "<div>\n",
       "<style>\n",
       "    .dataframe thead tr:only-child th {\n",
       "        text-align: right;\n",
       "    }\n",
       "\n",
       "    .dataframe thead th {\n",
       "        text-align: left;\n",
       "    }\n",
       "\n",
       "    .dataframe tbody tr th {\n",
       "        vertical-align: top;\n",
       "    }\n",
       "</style>\n",
       "<table border=\"1\" class=\"dataframe\">\n",
       "  <thead>\n",
       "    <tr style=\"text-align: right;\">\n",
       "      <th></th>\n",
       "      <th>q3</th>\n",
       "    </tr>\n",
       "  </thead>\n",
       "  <tbody>\n",
       "    <tr>\n",
       "      <th>q2</th>\n",
       "      <td>NaN</td>\n",
       "    </tr>\n",
       "  </tbody>\n",
       "</table>\n",
       "</div>"
      ],
      "text/plain": [
       "     q3\n",
       "q2  NaN"
      ]
     },
     "execution_count": 150,
     "metadata": {},
     "output_type": "execute_result"
    }
   ],
   "source": [
    "data"
   ]
  },
  {
   "cell_type": "code",
   "execution_count": 151,
   "metadata": {
    "collapsed": true
   },
   "outputs": [],
   "source": [
    "result = data.apply(pd.value_counts).fillna(0)"
   ]
  },
  {
   "cell_type": "code",
   "execution_count": 152,
   "metadata": {},
   "outputs": [
    {
     "data": {
      "text/html": [
       "<div>\n",
       "<style>\n",
       "    .dataframe thead tr:only-child th {\n",
       "        text-align: right;\n",
       "    }\n",
       "\n",
       "    .dataframe thead th {\n",
       "        text-align: left;\n",
       "    }\n",
       "\n",
       "    .dataframe tbody tr th {\n",
       "        vertical-align: top;\n",
       "    }\n",
       "</style>\n",
       "<table border=\"1\" class=\"dataframe\">\n",
       "  <thead>\n",
       "    <tr style=\"text-align: right;\">\n",
       "      <th></th>\n",
       "      <th>q3</th>\n",
       "    </tr>\n",
       "  </thead>\n",
       "  <tbody>\n",
       "  </tbody>\n",
       "</table>\n",
       "</div>"
      ],
      "text/plain": [
       "Empty DataFrame\n",
       "Columns: [q3]\n",
       "Index: []"
      ]
     },
     "execution_count": 152,
     "metadata": {},
     "output_type": "execute_result"
    }
   ],
   "source": [
    "result"
   ]
  },
  {
   "cell_type": "code",
   "execution_count": null,
   "metadata": {
    "collapsed": true
   },
   "outputs": [],
   "source": []
  }
 ],
 "metadata": {
  "kernelspec": {
   "display_name": "Python 3",
   "language": "python",
   "name": "python3"
  },
  "language_info": {
   "codemirror_mode": {
    "name": "ipython",
    "version": 3
   },
   "file_extension": ".py",
   "mimetype": "text/x-python",
   "name": "python",
   "nbconvert_exporter": "python",
   "pygments_lexer": "ipython3",
   "version": "3.6.2"
  }
 },
 "nbformat": 4,
 "nbformat_minor": 2
}
